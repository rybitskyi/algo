{
 "cells": [
  {
   "cell_type": "markdown",
   "id": "7aa09087",
   "metadata": {},
   "source": [
    "# Overview\n",
    "\n",
    "https://leetcode.com/discuss/study-guide/2347639/A-comprehensive-guide-and-template-for-monotonic-stack-based-problems"
   ]
  },
  {
   "cell_type": "code",
   "execution_count": 13,
   "id": "32043d4a",
   "metadata": {},
   "outputs": [],
   "source": [
    "import pandas as pd\n",
    "from collections import deque"
   ]
  },
  {
   "cell_type": "code",
   "execution_count": null,
   "id": "d77d82c0",
   "metadata": {},
   "outputs": [],
   "source": [
    "def build_mono_stack(arr):\n",
    "    # initialize an empty stack\n",
    "    stack = []\n",
    "    n = len(arr)\n",
    "\n",
    "    #iterate through all the elements in the array\n",
    "    for i in range(n):\n",
    "        while stack and element represented by stack top `OPERATOR` arr[i]:\n",
    "            #if the previous condition is satisfied, we pop the top element\n",
    "            stack_top = stack.pop()\n",
    "\n",
    "            # do something with stackTop here e.g.\n",
    "            # nextGreater[stackTop] = i\n",
    "\n",
    "        if stack:\n",
    "            # if stack has some elements left\n",
    "            # do something with stack top here e.g.\n",
    "            # previousGreater[i] = stack.at(-1)\n",
    "\n",
    "        # at the ened, we push the current index into the stack\n",
    "        stack.push(i);\n",
    "\n",
    "    # At all points in time, the stack maintains its monotonic property"
   ]
  },
  {
   "cell_type": "markdown",
   "id": "6017458f",
   "metadata": {},
   "source": [
    "# Example 1\n",
    "\n",
    "Given arr = [13, 8, 1, 5, 2, 5, 9, 7, 6, 12],\n",
    "find the next greater elements for each element.\n",
    "\n",
    "nextGreaterElements = [null, 9, 5, 9, 5, 9, 12, 12, 12, null]\n",
    "\n",
    "nextGreaterIndexes = [-1, 6, 3, 6, 5, 6, 9, 9, 9, -1]"
   ]
  },
  {
   "cell_type": "code",
   "execution_count": 2,
   "id": "da2cb8af",
   "metadata": {},
   "outputs": [
    {
     "data": {
      "text/plain": [
       "[13, 8, 1, 5, 2, 5, 9, 7, 6, 12]"
      ]
     },
     "execution_count": 2,
     "metadata": {},
     "output_type": "execute_result"
    }
   ],
   "source": [
    "arr = [13, 8, 1, 5, 2, 5, 9, 7, 6, 12]\n",
    "arr"
   ]
  },
  {
   "cell_type": "code",
   "execution_count": 12,
   "id": "e9538233",
   "metadata": {},
   "outputs": [
    {
     "data": {
      "text/html": [
       "<div>\n",
       "<style scoped>\n",
       "    .dataframe tbody tr th:only-of-type {\n",
       "        vertical-align: middle;\n",
       "    }\n",
       "\n",
       "    .dataframe tbody tr th {\n",
       "        vertical-align: top;\n",
       "    }\n",
       "\n",
       "    .dataframe thead th {\n",
       "        text-align: right;\n",
       "    }\n",
       "</style>\n",
       "<table border=\"1\" class=\"dataframe\">\n",
       "  <thead>\n",
       "    <tr style=\"text-align: right;\">\n",
       "      <th></th>\n",
       "      <th>0</th>\n",
       "      <th>1</th>\n",
       "      <th>2</th>\n",
       "      <th>3</th>\n",
       "      <th>4</th>\n",
       "      <th>5</th>\n",
       "      <th>6</th>\n",
       "      <th>7</th>\n",
       "      <th>8</th>\n",
       "      <th>9</th>\n",
       "    </tr>\n",
       "  </thead>\n",
       "  <tbody>\n",
       "    <tr>\n",
       "      <th>0</th>\n",
       "      <td>13</td>\n",
       "      <td>8</td>\n",
       "      <td>1</td>\n",
       "      <td>5</td>\n",
       "      <td>2</td>\n",
       "      <td>5</td>\n",
       "      <td>9</td>\n",
       "      <td>7</td>\n",
       "      <td>6</td>\n",
       "      <td>12</td>\n",
       "    </tr>\n",
       "  </tbody>\n",
       "</table>\n",
       "</div>"
      ],
      "text/plain": [
       "    0  1  2  3  4  5  6  7  8   9\n",
       "0  13  8  1  5  2  5  9  7  6  12"
      ]
     },
     "execution_count": 12,
     "metadata": {},
     "output_type": "execute_result"
    }
   ],
   "source": [
    "pd.DataFrame(arr).transpose()"
   ]
  },
  {
   "cell_type": "code",
   "execution_count": 18,
   "id": "033dac8a",
   "metadata": {},
   "outputs": [
    {
     "data": {
      "text/plain": [
       "[-1, 6, 3, 6, 5, 6, 9, 9, 9, -1]"
      ]
     },
     "execution_count": 18,
     "metadata": {},
     "output_type": "execute_result"
    }
   ],
   "source": [
    "# Monotone decreasing stack\n",
    "st = deque()\n",
    "n = len(arr)\n",
    "next_greater_idx = [-1 for _ in range(n)]\n",
    "for i in range(n):\n",
    "    while st and arr[st[-1]] < arr[i]:\n",
    "        top_idx = st.pop()\n",
    "        next_greater_idx[top_idx] = i\n",
    "    st.append(i)\n",
    "next_greater_idx"
   ]
  },
  {
   "cell_type": "code",
   "execution_count": 25,
   "id": "ea5f44ee",
   "metadata": {},
   "outputs": [
    {
     "name": "stdout",
     "output_type": "stream",
     "text": [
      "None\n",
      "i: 6 val: 9\n",
      "i: 3 val: 5\n",
      "i: 6 val: 9\n",
      "i: 5 val: 5\n",
      "i: 6 val: 9\n",
      "i: 9 val: 12\n",
      "i: 9 val: 12\n",
      "i: 9 val: 12\n",
      "None\n"
     ]
    }
   ],
   "source": [
    "for i in next_greater_idx:\n",
    "    if i == -1:\n",
    "        print(None)\n",
    "    else:\n",
    "        print(f\"i: {i} val: {arr[i]}\")"
   ]
  },
  {
   "cell_type": "code",
   "execution_count": null,
   "id": "b3385e85",
   "metadata": {},
   "outputs": [],
   "source": []
  },
  {
   "cell_type": "code",
   "execution_count": 26,
   "id": "4b76f95e",
   "metadata": {},
   "outputs": [],
   "source": [
    "arr = [1,2,3,4]"
   ]
  },
  {
   "cell_type": "code",
   "execution_count": 33,
   "id": "319782ec",
   "metadata": {},
   "outputs": [
    {
     "name": "stdout",
     "output_type": "stream",
     "text": [
      "-1\n"
     ]
    }
   ],
   "source": [
    "try:\n",
    "    arr.index(5)\n",
    "except ValueError:\n",
    "    print(-1)"
   ]
  },
  {
   "cell_type": "code",
   "execution_count": null,
   "id": "74256e62",
   "metadata": {},
   "outputs": [],
   "source": []
  },
  {
   "cell_type": "code",
   "execution_count": null,
   "id": "f81472f1",
   "metadata": {},
   "outputs": [],
   "source": []
  },
  {
   "cell_type": "code",
   "execution_count": null,
   "id": "4cee8513",
   "metadata": {},
   "outputs": [],
   "source": []
  },
  {
   "cell_type": "code",
   "execution_count": null,
   "id": "5881b911",
   "metadata": {},
   "outputs": [],
   "source": [
    "public class Solution {\n",
    "    public int[] nextGreaterElement(int[] nums1, int[] nums2) {\n",
    "        Stack<Integer> stack = new Stack<>();\n",
    "        HashMap<Integer, Integer> map = new HashMap<>();\n",
    "    \n",
    "        for (int i = 0; i < nums2.length; i++) {\n",
    "            while (!stack.empty() && nums2[i] > stack.peek())\n",
    "                map.put(stack.pop(), nums2[i]);\n",
    "            stack.push(nums2[i]);\n",
    "        }\n",
    "    \n",
    "        while (!stack.empty())\n",
    "            map.put(stack.pop(), -1);\n",
    "    \n",
    "        int[] res = new int[nums1.length];\n",
    "        for (int i = 0; i < nums1.length; i++) {\n",
    "            res[i] = map.get(nums1[i]);\n",
    "        }\n",
    "                                            \n",
    "        return res;\n",
    "    }\n",
    "}"
   ]
  },
  {
   "cell_type": "code",
   "execution_count": 34,
   "id": "27f477f3",
   "metadata": {},
   "outputs": [
    {
     "data": {
      "text/plain": [
       "([4, 1, 2], [1, 3, 4, 2])"
      ]
     },
     "execution_count": 34,
     "metadata": {},
     "output_type": "execute_result"
    }
   ],
   "source": [
    "nums1 = [4,1,2]\n",
    "nums2 = [1,3,4,2]\n",
    "nums1, nums2"
   ]
  },
  {
   "cell_type": "code",
   "execution_count": 49,
   "id": "06641ad6",
   "metadata": {},
   "outputs": [
    {
     "data": {
      "text/plain": [
       "[-1, 3, -1]"
      ]
     },
     "execution_count": 49,
     "metadata": {},
     "output_type": "execute_result"
    }
   ],
   "source": [
    "st = deque()\n",
    "m = {}\n",
    "\n",
    "for i2, v2 in enumerate(nums2):\n",
    "    while st and nums2[i2] > st[-1]:\n",
    "        m[st.pop()] = nums2[i2]\n",
    "    st.append(v2)\n",
    "\n",
    "while st:\n",
    "    m[st.pop()] = -1\n",
    "    \n",
    "res = [-1 for _ in range(len(nums1))]\n",
    "\n",
    "for i,v in enumerate(nums1):\n",
    "    res[i] = m[v]\n",
    "\n",
    "res"
   ]
  },
  {
   "cell_type": "markdown",
   "id": "a9683c26",
   "metadata": {},
   "source": [
    "# Next Greater Problem"
   ]
  },
  {
   "cell_type": "code",
   "execution_count": 50,
   "id": "b4155b70",
   "metadata": {},
   "outputs": [
    {
     "data": {
      "text/plain": [
       "[13, 8, 1, 5, 2, 5, 9, 7, 6, 12]"
      ]
     },
     "execution_count": 50,
     "metadata": {},
     "output_type": "execute_result"
    }
   ],
   "source": [
    "arr = [13, 8, 1, 5, 2, 5, 9, 7, 6, 12]\n",
    "arr"
   ]
  },
  {
   "cell_type": "code",
   "execution_count": 59,
   "id": "2c9aa8fe",
   "metadata": {},
   "outputs": [
    {
     "name": "stdout",
     "output_type": "stream",
     "text": [
      "[0] st: deque([]) res: [None, None, None, None, None, None, None, None, None, None]\n",
      "[1] st: deque([0]) res: [None, None, None, None, None, None, None, None, None, None]\n",
      "[2] st: deque([0, 1]) res: [None, None, None, None, None, None, None, None, None, None]\n",
      "[3] st: deque([0, 1]) res: [None, None, 3, None, None, None, None, None, None, None]\n",
      "[4] st: deque([0, 1, 3]) res: [None, None, 3, None, None, None, None, None, None, None]\n",
      "[5] st: deque([0, 1, 3]) res: [None, None, 3, None, 5, None, None, None, None, None]\n",
      "[6] st: deque([0]) res: [None, 6, 3, 6, 5, 6, None, None, None, None]\n",
      "[7] st: deque([0, 6]) res: [None, 6, 3, 6, 5, 6, None, None, None, None]\n",
      "[8] st: deque([0, 6, 7]) res: [None, 6, 3, 6, 5, 6, None, None, None, None]\n",
      "[9] st: deque([0]) res: [None, 6, 3, 6, 5, 6, 9, 9, 9, None]\n"
     ]
    },
    {
     "data": {
      "text/plain": [
       "[None, 9, 5, 9, 5, 9, 12, 12, 12, None]"
      ]
     },
     "execution_count": 59,
     "metadata": {},
     "output_type": "execute_result"
    }
   ],
   "source": [
    "def next_greater(arr):\n",
    "    #res = [None, 9, 5, 9, 5, 9, 12, 12, 12, None]\n",
    "    n = len(arr)\n",
    "    res = [None for _ in range(n)]\n",
    "    st = deque()\n",
    "    for i,v in enumerate(arr):\n",
    "        while st and arr[st[-1]] < v:\n",
    "            top_idx = st.pop()\n",
    "            res[top_idx] = i\n",
    "        print(f\"[{i}] st: {st} res: {res}\")\n",
    "        st.append(i)\n",
    "    res = map(lambda x: arr[x] if x is not None else None, res)\n",
    "    return list(res)\n",
    "\n",
    "next_greater(arr)\n",
    "# assert next_greater(arr) == [None, 9, 5, 9, 5, 9, 12, 12, 12, None]"
   ]
  },
  {
   "cell_type": "markdown",
   "id": "5ef76075",
   "metadata": {},
   "source": [
    "## Previous Greater"
   ]
  },
  {
   "cell_type": "code",
   "execution_count": null,
   "id": "e9cf40b8",
   "metadata": {},
   "outputs": [],
   "source": []
  }
 ],
 "metadata": {
  "kernelspec": {
   "display_name": "Python 3 (ipykernel)",
   "language": "python",
   "name": "python3"
  },
  "language_info": {
   "codemirror_mode": {
    "name": "ipython",
    "version": 3
   },
   "file_extension": ".py",
   "mimetype": "text/x-python",
   "name": "python",
   "nbconvert_exporter": "python",
   "pygments_lexer": "ipython3",
   "version": "3.7.11"
  }
 },
 "nbformat": 4,
 "nbformat_minor": 5
}
