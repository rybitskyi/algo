{
 "cells": [
  {
   "cell_type": "markdown",
   "id": "ce744fe5",
   "metadata": {},
   "source": [
    "# Overview\n",
    "\n",
    "https://leetcode.com/problems/verify-preorder-serialization-of-a-binary-tree/description/\n",
    "\n",
    "One way to serialize a binary tree is to use preorder traversal. When we encounter a non-null node, we record the node's value. If it is a null node, we record using a sentinel value such as '#'.\n",
    "\n",
    "For example, the above binary tree can be serialized to the string \"9,3,4,#,#,1,#,#,2,#,6,#,#\", where '#' represents a null node.\n",
    "\n",
    "Given a string of comma-separated values preorder, return true if it is a correct preorder traversal serialization of a binary tree.\n",
    "\n",
    "It is guaranteed that each comma-separated value in the string must be either an integer or a character '#' representing null pointer.\n",
    "\n",
    "You may assume that the input format is always valid.\n",
    "\n",
    "For example, it could never contain two consecutive commas, such as \"1,,3\".\n",
    "Note: You are not allowed to reconstruct the tree.\n",
    "\n",
    " \n",
    "\n",
    "## Example 1:\n",
    "\n",
    "Input: preorder = \"9,3,4,#,#,1,#,#,2,#,6,#,#\"\n",
    "Output: true\n",
    "\n",
    "\n",
    "## Example 2:\n",
    "\n",
    "Input: preorder = \"1,#\"\n",
    "Output: false\n",
    "\n",
    "\n",
    "## Example 3:\n",
    "\n",
    "Input: preorder = \"9,#,#,1\"\n",
    "Output: false"
   ]
  },
  {
   "cell_type": "code",
   "execution_count": 4,
   "id": "c462188d",
   "metadata": {},
   "outputs": [],
   "source": [
    "from collections import deque"
   ]
  },
  {
   "cell_type": "code",
   "execution_count": 12,
   "id": "938004c1",
   "metadata": {},
   "outputs": [
    {
     "name": "stdout",
     "output_type": "stream",
     "text": [
      "['9', '3', '4', '#', '#', '1', '#', '#', '2', '#', '6', '#', '#']\n",
      "9 -> 2\n",
      "3 -> 3\n",
      "4 -> 4\n",
      "# -> 3\n",
      "# -> 2\n",
      "1 -> 3\n",
      "# -> 2\n",
      "# -> 1\n",
      "2 -> 2\n",
      "# -> 1\n",
      "6 -> 2\n",
      "# -> 1\n",
      "# -> 0\n"
     ]
    },
    {
     "data": {
      "text/plain": [
       "True"
      ]
     },
     "execution_count": 12,
     "metadata": {},
     "output_type": "execute_result"
    }
   ],
   "source": [
    "class TreeVerificator:\n",
    "    \n",
    "    def verify(self, preorder: str) -> bool:\n",
    "        '''\n",
    "        As we deal with Binary Search tree, we should check only a single condition:\n",
    "        - every node must have two children nodes.\n",
    "        '''\n",
    "        arr = preorder.split(',')\n",
    "        print(arr)\n",
    "        slots = 1\n",
    "        for v in arr:\n",
    "            slots -= 1\n",
    "\n",
    "            if slots < 0:\n",
    "                return False\n",
    "\n",
    "            if v.isnumeric():\n",
    "                slots += 2\n",
    "\n",
    "            print(f\"{v} -> {slots}\")\n",
    "\n",
    "        return slots == 0\n",
    "    \n",
    "TreeVerificator().verify('9,3,4,#,#,1,#,#,2,#,6,#,#')"
   ]
  },
  {
   "cell_type": "code",
   "execution_count": 7,
   "id": "42af30bb",
   "metadata": {},
   "outputs": [
    {
     "data": {
      "text/plain": [
       "False"
      ]
     },
     "execution_count": 7,
     "metadata": {},
     "output_type": "execute_result"
    }
   ],
   "source": [
    "'3a'.isnumeric()"
   ]
  },
  {
   "cell_type": "code",
   "execution_count": null,
   "id": "2aa26462",
   "metadata": {},
   "outputs": [],
   "source": []
  }
 ],
 "metadata": {
  "kernelspec": {
   "display_name": "Python 3 (ipykernel)",
   "language": "python",
   "name": "python3"
  },
  "language_info": {
   "codemirror_mode": {
    "name": "ipython",
    "version": 3
   },
   "file_extension": ".py",
   "mimetype": "text/x-python",
   "name": "python",
   "nbconvert_exporter": "python",
   "pygments_lexer": "ipython3",
   "version": "3.7.11"
  }
 },
 "nbformat": 4,
 "nbformat_minor": 5
}
