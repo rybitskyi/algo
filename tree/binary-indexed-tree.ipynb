{
 "cells": [
  {
   "cell_type": "markdown",
   "id": "9434c287",
   "metadata": {},
   "source": [
    "# Overview\n",
    "\n",
    "Binanry Indexed Tree\n",
    "\n",
    "\n",
    "http://localhost:8888/notebooks/projects/algo\n",
    "\n",
    "https://cs.stackexchange.com/questions/10538/bit-what-is-the-intuition-behind-a-binary-indexed-tree-and-how-was-it-thought-a\n",
    "\n",
    "\n",
    "https://leetcode.com/problems/range-sum-query-mutable/discuss/75753/Java-using-Binary-Indexed-Tree-with-clear-explanation"
   ]
  },
  {
   "cell_type": "code",
   "execution_count": null,
   "id": "3c32b66d",
   "metadata": {},
   "outputs": [],
   "source": []
  }
 ],
 "metadata": {
  "kernelspec": {
   "display_name": "Python 3 (ipykernel)",
   "language": "python",
   "name": "python3"
  },
  "language_info": {
   "codemirror_mode": {
    "name": "ipython",
    "version": 3
   },
   "file_extension": ".py",
   "mimetype": "text/x-python",
   "name": "python",
   "nbconvert_exporter": "python",
   "pygments_lexer": "ipython3",
   "version": "3.7.11"
  }
 },
 "nbformat": 4,
 "nbformat_minor": 5
}
