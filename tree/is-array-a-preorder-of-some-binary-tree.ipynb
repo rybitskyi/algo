{
 "cells": [
  {
   "cell_type": "markdown",
   "id": "594b50a8",
   "metadata": {},
   "source": [
    "# Overview\n",
    "\n",
    "is Array a Preorder of Some ‌Binary Tree\n",
    "\n",
    "\n",
    "Given a 0-indexed integer 2D array nodes, your task is to determine if the given array represents the preorder traversal of some binary tree.\n",
    "\n",
    "For each index i, nodes[i] = [id, parentId], where id is the id of the node at the index i and parentId is the id of its parent in the tree (if the node has no parent, then parentId = -1).\n",
    "\n",
    "Return true if the given array represents the preorder traversal of some tree, and false otherwise.\n",
    "\n",
    "Note: the preorder traversal of a tree is a recursive way to traverse a tree in which we first visit the current node, then we do the preorder traversal for the left child, and finally, we do it for the right child.\n",
    "\n",
    " \n",
    "\n",
    "Example 1:\n",
    "\n",
    "Input: nodes = [[0,-1],[1,0],[2,0],[3,2],[4,2]]\n",
    "Output: true\n",
    "Explanation: The given nodes make the tree in the picture below.\n",
    "We can show that this is the preorder traversal of the tree, first we visit node 0, then we do the preorder traversal of the right child which is [1], then we do the preorder traversal of the left child which is [2,3,4].\n",
    "\n",
    "\n",
    "Example 2:\n",
    "\n",
    "Input: nodes = [[0,-1],[1,0],[2,0],[3,1],[4,1]]\n",
    "Output: false\n",
    "Explanation: The given nodes make the tree in the picture below.\n",
    "For the preorder traversal, first we visit node 0, then we do the preorder traversal of the right child which is [1,3,4], but we can see that in the given order, 2 comes between 1 and 3, so, it's not the preorder traversal of the tree."
   ]
  },
  {
   "cell_type": "code",
   "execution_count": 5,
   "id": "e4449957",
   "metadata": {},
   "outputs": [],
   "source": [
    "from dataclasses import dataclass\n",
    "from typing import Any"
   ]
  },
  {
   "cell_type": "code",
   "execution_count": 6,
   "id": "f1316f10",
   "metadata": {},
   "outputs": [],
   "source": [
    "@dataclass\n",
    "class TreeNode:\n",
    "    val: int\n",
    "    left: Any\n",
    "    right: Any"
   ]
  },
  {
   "cell_type": "code",
   "execution_count": 17,
   "id": "6c650758",
   "metadata": {},
   "outputs": [
    {
     "data": {
      "text/plain": [
       "TreeNode(val=0, left=TreeNode(val=1, left=None, right=None), right=TreeNode(val=2, left=TreeNode(val=3, left=None, right=None), right=TreeNode(val=4, left=None, right=None)))"
      ]
     },
     "execution_count": 17,
     "metadata": {},
     "output_type": "execute_result"
    }
   ],
   "source": [
    "def build_tree() -> TreeNode:\n",
    "    l_3 = TreeNode(3, None, None)\n",
    "    l_4 = TreeNode(4, None, None)\n",
    "    \n",
    "    n_1 = TreeNode(1, None, None)\n",
    "    n_2 = TreeNode(2, l_3, l_4)\n",
    "    \n",
    "    root = TreeNode(0, n_1, n_2)\n",
    "    return root\n",
    "\n",
    "root = build_tree()\n",
    "root"
   ]
  },
  {
   "cell_type": "code",
   "execution_count": 18,
   "id": "58c10223",
   "metadata": {},
   "outputs": [
    {
     "name": "stdout",
     "output_type": "stream",
     "text": [
      "0\n",
      "1\n",
      "2\n",
      "3\n",
      "4\n"
     ]
    }
   ],
   "source": [
    "def preorder(node: TreeNode):\n",
    "    if node is not None:\n",
    "        print(node.val)\n",
    "    \n",
    "    if node.left:\n",
    "        preorder(node.left)\n",
    "    \n",
    "    if node.right:\n",
    "        preorder(node.right)\n",
    "    \n",
    "preorder(root)"
   ]
  },
  {
   "cell_type": "code",
   "execution_count": 16,
   "id": "d91007ed",
   "metadata": {},
   "outputs": [],
   "source": [
    "from collections import deque"
   ]
  },
  {
   "cell_type": "code",
   "execution_count": 27,
   "id": "60bbffae",
   "metadata": {},
   "outputs": [
    {
     "name": "stdout",
     "output_type": "stream",
     "text": [
      "deque([[4, -1], [3, 4]])\n",
      "tt n: [3, 4] st[-1]: [4, -1]\n"
     ]
    },
    {
     "data": {
      "text/plain": [
       "True"
      ]
     },
     "execution_count": 27,
     "metadata": {},
     "output_type": "execute_result"
    }
   ],
   "source": [
    "class PreorderClassifier:\n",
    "    \n",
    "    def __init__(self, data):\n",
    "        self.data = data\n",
    "        self.n = len(data)\n",
    "    \n",
    "    def is_preorder(self) -> bool:\n",
    "        st = deque()\n",
    "        \n",
    "        st.append(self.data[0])\n",
    "        \n",
    "        for i in range(1, self.n):\n",
    "            n_id, p_id = self.data[i]            \n",
    "            \n",
    "            if p_id != st[-1][0]:\n",
    "                st.pop()\n",
    "            else:\n",
    "                st.append(self.data[i])\n",
    "        \n",
    "        print(st)\n",
    "        \n",
    "        while len(st) >= 1:\n",
    "            n = st.pop()\n",
    "                        \n",
    "            if len(st) == 0:\n",
    "                return n[1] == -1\n",
    "\n",
    "            print(f\"tt n: {n} st[-1]: {st[-1]}\")\n",
    "            if n[1] != st[-1][0]:\n",
    "                return False\n",
    "\n",
    "        return True\n",
    "    \n",
    "# PreorderClassifier([[0,-1],[1,0],[2,0],[3,2],[4,2]]).is_preorder()\n",
    "\n",
    "# arr = [[3,2],[1,-1],[2,1]]\n",
    "arr = [[4,-1],[3,4],[1,3],[2,4]]\n",
    "\n",
    "PreorderClassifier(arr).is_preorder()"
   ]
  },
  {
   "cell_type": "code",
   "execution_count": null,
   "id": "28bf9509",
   "metadata": {},
   "outputs": [],
   "source": []
  }
 ],
 "metadata": {
  "kernelspec": {
   "display_name": "Python 3 (ipykernel)",
   "language": "python",
   "name": "python3"
  },
  "language_info": {
   "codemirror_mode": {
    "name": "ipython",
    "version": 3
   },
   "file_extension": ".py",
   "mimetype": "text/x-python",
   "name": "python",
   "nbconvert_exporter": "python",
   "pygments_lexer": "ipython3",
   "version": "3.7.11"
  }
 },
 "nbformat": 4,
 "nbformat_minor": 5
}
