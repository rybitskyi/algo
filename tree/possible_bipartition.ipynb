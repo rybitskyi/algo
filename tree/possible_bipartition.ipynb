{
 "cells": [
  {
   "cell_type": "code",
   "execution_count": 8,
   "id": "40a934d2",
   "metadata": {},
   "outputs": [],
   "source": [
    "from typing import List\n",
    "from collections import deque"
   ]
  },
  {
   "cell_type": "code",
   "execution_count": 12,
   "id": "947e6ee7",
   "metadata": {},
   "outputs": [],
   "source": [
    "class Solution:\n",
    "    \"\"\"\n",
    "    create a graph map\n",
    "    do a bfs from each unvisited node\n",
    "    \"\"\"\n",
    "    def possibleBipartition(self, n: int, dislikes: List[List[int]]) -> bool:\n",
    "\n",
    "        group1, group2 = set(), set()\n",
    "        graph_map = {i: set() for i in range(1, n+1)}\n",
    "        print(graph_map)\n",
    "\n",
    "        for dislike in dislikes:\n",
    "            graph_map[dislike[0]].add(dislike[1])\n",
    "            graph_map[dislike[1]].add(dislike[0])\n",
    "        print(graph_map)\n",
    "        \n",
    "        def bfs(node):\n",
    "            queue = deque([node])\n",
    "\n",
    "            while len(queue):\n",
    "                cur_node = queue.popleft()\n",
    "\n",
    "                # iterate for each edge of the particular vertex\n",
    "                for dislike_node in graph_map[cur_node]:\n",
    "                    \n",
    "                    # skip this edge if vertex is already asigned to a group\n",
    "                    if (cur_node in group1 and dislike_node in group2\n",
    "                        or cur_node in group2 and dislike_node in group1):\n",
    "                        continue\n",
    "                        \n",
    "                    if (cur_node in group1 and dislike_node in group1\n",
    "                        or cur_node in group2 and dislike_node in group2):\n",
    "                        return False\n",
    "                    \n",
    "                    if cur_node in group1:\n",
    "                        group2.add(dislike_node)\n",
    "                        \n",
    "                    if cur_node in group2:\n",
    "                        group1.add(dislike_node)\n",
    "                        \n",
    "                    if cur_node not in group1 and cur_node not in group2:\n",
    "                        group1.add(cur_node)\n",
    "                        group2.add(dislike_node)\n",
    "                    queue.append(dislike_node)\n",
    "            return True \n",
    "                    \n",
    "                \n",
    "                \n",
    "        # loop through each vertex\n",
    "        for i in range(1, n+1):\n",
    "            # if vertex is already in group1 or group2, then skip this step\n",
    "            if i in group1 or i in group2:\n",
    "                continue\n",
    "            else:\n",
    "                # Start bfs from this vertex\n",
    "                if not bfs(i):\n",
    "                    return False\n",
    "        return True\n"
   ]
  },
  {
   "cell_type": "code",
   "execution_count": 13,
   "id": "7a37d8ed",
   "metadata": {},
   "outputs": [
    {
     "name": "stdout",
     "output_type": "stream",
     "text": [
      "{1: set(), 2: set(), 3: set(), 4: set()}\n",
      "{1: {2, 3}, 2: {1, 4}, 3: {1}, 4: {2}}\n"
     ]
    },
    {
     "data": {
      "text/plain": [
       "True"
      ]
     },
     "execution_count": 13,
     "metadata": {},
     "output_type": "execute_result"
    }
   ],
   "source": [
    "Solution().possibleBipartition(4, [[1,2],[1,3],[2,4]])"
   ]
  },
  {
   "cell_type": "code",
   "execution_count": 11,
   "id": "f82d9d3c",
   "metadata": {},
   "outputs": [
    {
     "data": {
      "text/plain": [
       "False"
      ]
     },
     "execution_count": 11,
     "metadata": {},
     "output_type": "execute_result"
    }
   ],
   "source": [
    "Solution().possibleBipartition(3, [[1,2],[1,3],[2,3]])"
   ]
  },
  {
   "cell_type": "code",
   "execution_count": 15,
   "id": "d01a08d4",
   "metadata": {},
   "outputs": [
    {
     "name": "stdout",
     "output_type": "stream",
     "text": [
      "{1: set(), 2: set(), 3: set(), 4: set(), 5: set(), 6: set(), 7: set(), 8: set(), 9: set(), 10: set()}\n",
      "{1: {2, 6, 7, 8, 9}, 2: {1, 3, 4, 5, 10}, 3: {2, 6, 7, 8, 9}, 4: {2, 6, 7, 8, 9}, 5: {8, 2, 6, 7}, 6: {1, 3, 4, 5, 10}, 7: {1, 3, 4, 5}, 8: {1, 3, 4, 5, 10}, 9: {1, 10, 3, 4}, 10: {8, 9, 2, 6}}\n"
     ]
    },
    {
     "data": {
      "text/plain": [
       "True"
      ]
     },
     "execution_count": 15,
     "metadata": {},
     "output_type": "execute_result"
    }
   ],
   "source": [
    "Solution().possibleBipartition(10,\n",
    "[[4,7],[4,8],[5,6],[1,6],[3,7],[2,5],[5,8],[1,2],[4,9],[6,10],[8,10],[3,6],[2,10],[9,10],[3,9],[2,3],[1,9],[4,6],[5,7],[3,8],[1,8],[1,7],[2,4]])\n",
    "\n",
    "'''\n",
    "1 - 2 - 3\n",
    "  - 6\n",
    "  - 7\n",
    "  - 8\n",
    "  - 9\n",
    "'''"
   ]
  },
  {
   "cell_type": "code",
   "execution_count": 28,
   "id": "38d16f8e",
   "metadata": {},
   "outputs": [
    {
     "name": "stdout",
     "output_type": "stream",
     "text": [
      "[1, 0, 1, 1, 1, 0, 0, 0, 0, 1]\n",
      "[0, 1, 0, 0, 0, 1, 1, 1, 1, 0]\n",
      "[1, 0, 1, 1, 1, 0, 0, 0, 0, 1]\n",
      "[1, 0, 1, 1, 1, 0, 0, 0, 0, 1]\n",
      "[1, 0, 1, 1, 1, 0, 0, 0, 1, 1]\n",
      "[0, 1, 0, 0, 0, 1, 1, 1, 1, 0]\n",
      "[0, 1, 0, 0, 0, 1, 1, 1, 1, 1]\n",
      "[0, 1, 0, 0, 0, 1, 1, 1, 1, 0]\n",
      "[0, 1, 0, 0, 1, 1, 1, 1, 1, 0]\n",
      "[1, 0, 1, 1, 1, 0, 1, 0, 0, 1]\n"
     ]
    }
   ],
   "source": [
    "n = 10\n",
    "dislike_pairs = [[4,7],[4,8],[5,6],[1,6],[3,7],[2,5],[5,8],[1,2],[4,9],[6,10],[8,10],[3,6],[2,10],[9,10],[3,9],[2,3],[1,9],[4,6],[5,7],[3,8],[1,8],[1,7],[2,4]]\n",
    "m = [[1 for _ in range(n)] for _ in range(n)]\n",
    "\n",
    "for i, j in dislike_pairs:\n",
    "    m[i - 1][j - 1] = 0\n",
    "    m[j - 1][i - 1] = 0\n",
    "\n",
    "\n",
    "for r in m:\n",
    "    print(r)"
   ]
  },
  {
   "cell_type": "markdown",
   "id": "7ed6f424",
   "metadata": {},
   "source": [
    "https://walkccc.me/CLRS/\n",
    "\n",
    "https://sites.math.rutgers.edu/~ajl213/CLRS/CLRS.html"
   ]
  },
  {
   "cell_type": "code",
   "execution_count": null,
   "id": "286dbf0e",
   "metadata": {},
   "outputs": [],
   "source": []
  }
 ],
 "metadata": {
  "kernelspec": {
   "display_name": "Python 3 (ipykernel)",
   "language": "python",
   "name": "python3"
  },
  "language_info": {
   "codemirror_mode": {
    "name": "ipython",
    "version": 3
   },
   "file_extension": ".py",
   "mimetype": "text/x-python",
   "name": "python",
   "nbconvert_exporter": "python",
   "pygments_lexer": "ipython3",
   "version": "3.7.11"
  }
 },
 "nbformat": 4,
 "nbformat_minor": 5
}
