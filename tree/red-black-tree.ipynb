{
 "cells": [
  {
   "cell_type": "markdown",
   "id": "e9d80c6a",
   "metadata": {},
   "source": [
    "# Red-Black Tree\n",
    "\n",
    "## Red-Black Tree Node Properties\n",
    "1. Every node is either black or red\n",
    "2. The root node is black.\n",
    "3. Every leaf (None) is black.\n",
    "4. If node a is red, the both its children are balck.\n",
    "5. For each node, all simple paths from the node to descendant leaves contin the same number of black nodes.\n",
    "\n",
    "## Lemma\n",
    "\n",
    "A red-black tree with n internal nodes has height at most 2lg(n + 1)"
   ]
  },
  {
   "cell_type": "markdown",
   "id": "7b9e7445",
   "metadata": {},
   "source": [
    "## 13.1-1 Draw the complete binary search tree of height 3 on the keys {1, 2, .., 15}\n",
    "\n",
    "```\n",
    "          B7\n",
    "        /      \\\n",
    "      R4         R11\n",
    "     /  \\       /    \\\n",
    "   B2    B6    B9       B13\n",
    " /   \\        /  \\     /    \\\n",
    "B1   R4      R8  R10  B12   B14\n",
    "    /  \\                   /\n",
    "  B3    B5                B15\n",
    "\n",
    "```"
   ]
  },
  {
   "cell_type": "markdown",
   "id": "139a5dc7",
   "metadata": {},
   "source": [
    "## 13.1-2\n",
    "Draw the red-black tree that results after `tree-insert` is called on the tree with key 36.\n",
    "\n",
    "```\n",
    "                     B26\n",
    "                /          \\\n",
    "            R17                B41\n",
    "          /     \\            /    \\ \n",
    "        B14       B21        R30    B47\n",
    "      /    \\     /   \\      /  \\ \n",
    "     R10    B16  B19 B23   B28  B38\n",
    "    /  \\    /     \\            /  \\\n",
    "   B7  B12 R15    R20        R35  R39\n",
    "  /                            \\\n",
    "  R3                            B36\n",
    "   \n",
    "             \n",
    "````"
   ]
  },
  {
   "cell_type": "code",
   "execution_count": null,
   "id": "69f56717",
   "metadata": {},
   "outputs": [],
   "source": []
  }
 ],
 "metadata": {
  "kernelspec": {
   "display_name": "Python 3 (ipykernel)",
   "language": "python",
   "name": "python3"
  },
  "language_info": {
   "codemirror_mode": {
    "name": "ipython",
    "version": 3
   },
   "file_extension": ".py",
   "mimetype": "text/x-python",
   "name": "python",
   "nbconvert_exporter": "python",
   "pygments_lexer": "ipython3",
   "version": "3.7.11"
  }
 },
 "nbformat": 4,
 "nbformat_minor": 5
}
