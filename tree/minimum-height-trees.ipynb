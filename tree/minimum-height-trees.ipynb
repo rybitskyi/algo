{
 "cells": [
  {
   "cell_type": "markdown",
   "id": "5749435b",
   "metadata": {},
   "source": [
    "# Overview\n",
    "\n",
    "https://leetcode.com/problems/minimum-height-trees/\n",
    "    \n",
    "A tree is an undirected graph in which any two vertices are connected by exactly one path. In other words, any connected graph without simple cycles is a tree.\n",
    "\n",
    "Given a tree of n nodes labelled from 0 to n - 1, and an array of n - 1 edges where edges[i] = [ai, bi] indicates that there is an undirected edge between the two nodes ai and bi in the tree, you can choose any node of the tree as the root. When you select a node x as the root, the result tree has height h. Among all possible rooted trees, those with minimum height (i.e. min(h))  are called minimum height trees (MHTs).\n",
    "\n",
    "Return a list of all MHTs' root labels. You can return the answer in any order.\n",
    "\n",
    "The height of a rooted tree is the number of edges on the longest downward path between the root and a leaf.\n",
    "\n",
    " \n",
    "\n",
    "## Example 1:\n",
    "\n",
    "Input: n = 4, edges = [[1,0],[1,2],[1,3]]\n",
    "Output: [1]\n",
    "Explanation: As shown, the height of the tree is 1 when the root is the node with label 1 which is the only MHT.\n",
    "\n",
    "## Example 2\n",
    "Input: n = 6, edges = [[3,0],[3,1],[3,2],[3,4],[5,4]]\n",
    "Output: [3,4]"
   ]
  },
  {
   "cell_type": "code",
   "execution_count": null,
   "id": "91f96a53",
   "metadata": {},
   "outputs": [],
   "source": []
  }
 ],
 "metadata": {
  "kernelspec": {
   "display_name": "Python 3 (ipykernel)",
   "language": "python",
   "name": "python3"
  },
  "language_info": {
   "codemirror_mode": {
    "name": "ipython",
    "version": 3
   },
   "file_extension": ".py",
   "mimetype": "text/x-python",
   "name": "python",
   "nbconvert_exporter": "python",
   "pygments_lexer": "ipython3",
   "version": "3.7.11"
  }
 },
 "nbformat": 4,
 "nbformat_minor": 5
}
