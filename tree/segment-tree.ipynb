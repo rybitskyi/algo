{
 "cells": [
  {
   "cell_type": "markdown",
   "id": "b5d01e2f",
   "metadata": {},
   "source": [
    "# Overview\n",
    "\n",
    "https://www.geeksforgeeks.org/segment-tree-set-1-sum-of-given-range/\n",
    "\n",
    "Segment tree is a complete binary tree.\n",
    "Leaves are `nums` element.\n",
    "\n",
    "The common parent node should contain sum of element `i` and `j`. The root of segment tree should contain acumulative sum of the overall array.\n",
    "\n",
    "Let's have `arr` which item stores a node of segment tree.\n",
    "\n",
    "Segment tree is complete binary tree and array might be used to store static items.\n"
   ]
  },
  {
   "cell_type": "markdown",
   "id": "63bf50a1",
   "metadata": {},
   "source": [
    "# TODO:\n",
    "- Create a story:\n",
    "    - start with accumulative sum \n",
    "    - continue with update restriction\n",
    "    "
   ]
  },
  {
   "cell_type": "code",
   "execution_count": 66,
   "id": "4b3d80aa",
   "metadata": {},
   "outputs": [],
   "source": [
    "from typing import List\n",
    "import pandas as pd"
   ]
  },
  {
   "cell_type": "code",
   "execution_count": 130,
   "id": "157f346e",
   "metadata": {},
   "outputs": [],
   "source": [
    "class SegmentTree:\n",
    "    '''\n",
    "    arrr[0] - root\n",
    "    left:  2 * (i - 1)\n",
    "    right: 2 * (i - 1) + 1\n",
    "    parent: (i - 1) // 2\n",
    "    '''\n",
    "    \n",
    "    def __init__(self, nums: List[int]):\n",
    "        self.n = len(nums)\n",
    "        \n",
    "        self.arr = self._build_segment_tree(nums)\n",
    "#         print(self.arr)\n",
    "\n",
    "\n",
    "    def _build_segment_tree(self, nums):\n",
    "        # Full Binary Tree\n",
    "        # First element is None and reserved for simplicitly\n",
    "        arr = [None] * (2 * self.n) \n",
    "\n",
    "        for i in range(self.n):\n",
    "            arr[self.n + i] = nums[i]\n",
    "\n",
    "        for i in reversed(range(1, self.n)):\n",
    "            arr[i] = arr[i * 2] + arr[i * 2 + 1]\n",
    "\n",
    "        return arr\n",
    "    \n",
    "    def update(self, idx: int, val: int):\n",
    "        idx += self.n\n",
    "        self.arr[idx] = val\n",
    "        print(f\"update init: {self.arr}\")\n",
    "\n",
    "        while idx > 0:\n",
    "            left = idx\n",
    "            right = idx\n",
    "            if idx % 2 == 0: # even Left node\n",
    "                right = idx + 1\n",
    "            else:           # Right node\n",
    "                left = idx - 1\n",
    "            if left == 0:\n",
    "                break\n",
    "\n",
    "            # parent is updated after child is updated\n",
    "            print(f\"left: {left} right: {right} arr: {self.arr}\")\n",
    "            idx = idx // 2\n",
    "            self.arr[idx] = self.arr[left] + self.arr[right]\n",
    "\n",
    "    def sum_range(self, l: int, r: int) -> int:\n",
    "\n",
    "        # get leaf with value 'l'\n",
    "        l += self.n\n",
    "        # get leaf with value 'r'\n",
    "        r += self.n\n",
    "        \n",
    "#         print(f\"init l: {l} r: {r}\")\n",
    "        data = []\n",
    "        data.append([l, r, 0])\n",
    "\n",
    "        res = 0\n",
    "        while (l <= r):\n",
    "            print(f\"l: {l} r: {r}\")\n",
    "            if ((l % 2) == 1):\n",
    "                res += self.arr[l]\n",
    "#                 print(f\"l: {l} + self.arr[l]: {self.arr[l]}-> {res}\")\n",
    "                data.append([l, r, res])\n",
    "                l += 1\n",
    "\n",
    "            if ((r % 2) == 0):\n",
    "                res += self.arr[r]\n",
    "#                 print(f\"r: {r} + self.arr[r]: {self.arr[r]} -> {res}\")\n",
    "                data.append([l, r, res])\n",
    "                r -= 1\n",
    "\n",
    "            l = l // 2\n",
    "            r = r // 2\n",
    "        \n",
    "        df = pd.DataFrame(data, columns=['left', 'right', 'result'])\n",
    "\n",
    "        return res, df"
   ]
  },
  {
   "cell_type": "code",
   "execution_count": 127,
   "id": "53853ee6",
   "metadata": {},
   "outputs": [],
   "source": [
    "'''\n",
    "       37\n",
    "    /     \\\n",
    "   33       4\n",
    "  /   \\    / \\  \n",
    " 12    21  1  3\n",
    "/ \\   / \\\n",
    "5  7  9  12\n",
    "'''\n",
    "tr = SegmentTree([1,3,5,7,9,12])\n",
    "data_df = pd.DataFrame(tr.arr, columns=['sum'])\n",
    "data_df.reset_index(inplace=True)\n",
    "# data_df"
   ]
  },
  {
   "cell_type": "code",
   "execution_count": 129,
   "id": "91b1e46e",
   "metadata": {},
   "outputs": [
    {
     "name": "stdout",
     "output_type": "stream",
     "text": [
      "l: 6 r: 11\n",
      "l: 3 r: 5\n",
      "l: 2 r: 2\n",
      "37\n",
      "   left  right  result\n",
      "0     6     11       0\n",
      "1     3      5       4\n",
      "2     2      2      37\n"
     ]
    }
   ],
   "source": [
    "res, df = tr.sum_range(0, 5)\n",
    "print(res)\n",
    "print(df)"
   ]
  },
  {
   "cell_type": "code",
   "execution_count": null,
   "id": "3163dded",
   "metadata": {},
   "outputs": [],
   "source": []
  },
  {
   "cell_type": "code",
   "execution_count": 116,
   "id": "e64841ba",
   "metadata": {},
   "outputs": [
    {
     "data": {
      "text/html": [
       "<div>\n",
       "<style scoped>\n",
       "    .dataframe tbody tr th:only-of-type {\n",
       "        vertical-align: middle;\n",
       "    }\n",
       "\n",
       "    .dataframe tbody tr th {\n",
       "        vertical-align: top;\n",
       "    }\n",
       "\n",
       "    .dataframe thead th {\n",
       "        text-align: right;\n",
       "    }\n",
       "</style>\n",
       "<table border=\"1\" class=\"dataframe\">\n",
       "  <thead>\n",
       "    <tr style=\"text-align: right;\">\n",
       "      <th></th>\n",
       "      <th>index</th>\n",
       "      <th>sum</th>\n",
       "      <th>l_idx</th>\n",
       "      <th>r_idx</th>\n",
       "      <th>p_idx</th>\n",
       "    </tr>\n",
       "  </thead>\n",
       "  <tbody>\n",
       "    <tr>\n",
       "      <th>0</th>\n",
       "      <td>0</td>\n",
       "      <td>NaN</td>\n",
       "      <td>0.0</td>\n",
       "      <td>1.0</td>\n",
       "      <td>0.0</td>\n",
       "    </tr>\n",
       "    <tr>\n",
       "      <th>1</th>\n",
       "      <td>1</td>\n",
       "      <td>37.0</td>\n",
       "      <td>2.0</td>\n",
       "      <td>3.0</td>\n",
       "      <td>0.0</td>\n",
       "    </tr>\n",
       "    <tr>\n",
       "      <th>2</th>\n",
       "      <td>2</td>\n",
       "      <td>33.0</td>\n",
       "      <td>4.0</td>\n",
       "      <td>5.0</td>\n",
       "      <td>1.0</td>\n",
       "    </tr>\n",
       "    <tr>\n",
       "      <th>3</th>\n",
       "      <td>3</td>\n",
       "      <td>4.0</td>\n",
       "      <td>6.0</td>\n",
       "      <td>7.0</td>\n",
       "      <td>1.0</td>\n",
       "    </tr>\n",
       "    <tr>\n",
       "      <th>4</th>\n",
       "      <td>4</td>\n",
       "      <td>12.0</td>\n",
       "      <td>8.0</td>\n",
       "      <td>9.0</td>\n",
       "      <td>2.0</td>\n",
       "    </tr>\n",
       "    <tr>\n",
       "      <th>5</th>\n",
       "      <td>5</td>\n",
       "      <td>21.0</td>\n",
       "      <td>10.0</td>\n",
       "      <td>11.0</td>\n",
       "      <td>2.0</td>\n",
       "    </tr>\n",
       "    <tr>\n",
       "      <th>6</th>\n",
       "      <td>6</td>\n",
       "      <td>1.0</td>\n",
       "      <td>12.0</td>\n",
       "      <td>13.0</td>\n",
       "      <td>3.0</td>\n",
       "    </tr>\n",
       "    <tr>\n",
       "      <th>7</th>\n",
       "      <td>7</td>\n",
       "      <td>3.0</td>\n",
       "      <td>14.0</td>\n",
       "      <td>15.0</td>\n",
       "      <td>3.0</td>\n",
       "    </tr>\n",
       "    <tr>\n",
       "      <th>8</th>\n",
       "      <td>8</td>\n",
       "      <td>5.0</td>\n",
       "      <td>16.0</td>\n",
       "      <td>17.0</td>\n",
       "      <td>4.0</td>\n",
       "    </tr>\n",
       "    <tr>\n",
       "      <th>9</th>\n",
       "      <td>9</td>\n",
       "      <td>7.0</td>\n",
       "      <td>18.0</td>\n",
       "      <td>19.0</td>\n",
       "      <td>4.0</td>\n",
       "    </tr>\n",
       "    <tr>\n",
       "      <th>10</th>\n",
       "      <td>10</td>\n",
       "      <td>9.0</td>\n",
       "      <td>20.0</td>\n",
       "      <td>21.0</td>\n",
       "      <td>5.0</td>\n",
       "    </tr>\n",
       "    <tr>\n",
       "      <th>11</th>\n",
       "      <td>11</td>\n",
       "      <td>12.0</td>\n",
       "      <td>22.0</td>\n",
       "      <td>23.0</td>\n",
       "      <td>5.0</td>\n",
       "    </tr>\n",
       "  </tbody>\n",
       "</table>\n",
       "</div>"
      ],
      "text/plain": [
       "    index   sum  l_idx  r_idx  p_idx\n",
       "0       0   NaN    0.0    1.0    0.0\n",
       "1       1  37.0    2.0    3.0    0.0\n",
       "2       2  33.0    4.0    5.0    1.0\n",
       "3       3   4.0    6.0    7.0    1.0\n",
       "4       4  12.0    8.0    9.0    2.0\n",
       "5       5  21.0   10.0   11.0    2.0\n",
       "6       6   1.0   12.0   13.0    3.0\n",
       "7       7   3.0   14.0   15.0    3.0\n",
       "8       8   5.0   16.0   17.0    4.0\n",
       "9       9   7.0   18.0   19.0    4.0\n",
       "10     10   9.0   20.0   21.0    5.0\n",
       "11     11  12.0   22.0   23.0    5.0"
      ]
     },
     "execution_count": 116,
     "metadata": {},
     "output_type": "execute_result"
    }
   ],
   "source": [
    "data_df['l_idx'] = data_df.apply(lambda x: x['index'] * 2, axis=1)\n",
    "data_df['r_idx'] = data_df.apply(lambda x: x['index'] * 2 + 1, axis=1)\n",
    "data_df['p_idx'] = data_df.apply(lambda x: x['index'] // 2, axis=1)\n",
    "data_df"
   ]
  },
  {
   "cell_type": "code",
   "execution_count": 117,
   "id": "adb72c9e",
   "metadata": {},
   "outputs": [
    {
     "name": "stdout",
     "output_type": "stream",
     "text": [
      "update init: [None, 37, 33, 4, 12, 21, 1, 3, 5, 10, 9, 12]\n",
      "left: 8 right: 9 arr: [None, 37, 33, 4, 12, 21, 1, 3, 5, 10, 9, 12]\n",
      "left: 4 right: 5 arr: [None, 37, 33, 4, 15, 21, 1, 3, 5, 10, 9, 12]\n",
      "left: 2 right: 3 arr: [None, 37, 36, 4, 15, 21, 1, 3, 5, 10, 9, 12]\n",
      "[None, 40, 36, 4, 15, 21, 1, 3, 5, 10, 9, 12]\n"
     ]
    }
   ],
   "source": [
    "tr.update(3, 10)\n",
    "print(tr.arr)"
   ]
  },
  {
   "cell_type": "code",
   "execution_count": 78,
   "id": "473a73dc",
   "metadata": {},
   "outputs": [
    {
     "name": "stdout",
     "output_type": "stream",
     "text": [
      "l: 6 r: 11\n",
      "l: 3 r: 5\n",
      "l: 2 r: 2\n",
      "   left  right  result\n",
      "0     6     11       0\n",
      "1     3      5       4\n",
      "2     2      2      37\n"
     ]
    },
    {
     "data": {
      "text/plain": [
       "37"
      ]
     },
     "execution_count": 78,
     "metadata": {},
     "output_type": "execute_result"
    }
   ],
   "source": [
    "tr.sum_range(0, 5)"
   ]
  },
  {
   "cell_type": "code",
   "execution_count": 81,
   "id": "9c0e8287",
   "metadata": {},
   "outputs": [
    {
     "data": {
      "text/plain": [
       "1048576"
      ]
     },
     "execution_count": 81,
     "metadata": {},
     "output_type": "execute_result"
    }
   ],
   "source": [
    "2 ** 20\n",
    "# 1,048,576"
   ]
  },
  {
   "cell_type": "code",
   "execution_count": null,
   "id": "0597da65",
   "metadata": {},
   "outputs": [],
   "source": []
  },
  {
   "cell_type": "code",
   "execution_count": 51,
   "id": "c5772535",
   "metadata": {},
   "outputs": [
    {
     "name": "stdout",
     "output_type": "stream",
     "text": [
      "[None, 9, 8, 1, 3, 5]\n",
      "9\n",
      "[None, 8, 7, 1, 2, 5]\n",
      "8\n"
     ]
    }
   ],
   "source": [
    "'''\n",
    "    9\n",
    "   / \\\n",
    "  8   1\n",
    "/  \\  \n",
    "3   5\n",
    "[\"NumArray\",\"sumRange\",\"update\",\"sumRange\"]\n",
    "[[[1,3,5]],[0,2],[1,2],[0,2]]\n",
    "'''\n",
    "tr = SegmentTree([1,3,5])\n",
    "print(tr.arr)\n",
    "\n",
    "print(tr.sum_range(0, 2))\n",
    "\n",
    "tr.update(1, 2)\n",
    "print(tr.arr)\n",
    "\n",
    "print(tr.sum_range(0, 2))"
   ]
  },
  {
   "cell_type": "code",
   "execution_count": null,
   "id": "d6fa6278",
   "metadata": {},
   "outputs": [],
   "source": []
  },
  {
   "cell_type": "code",
   "execution_count": null,
   "id": "1900e90e",
   "metadata": {},
   "outputs": [],
   "source": []
  },
  {
   "cell_type": "code",
   "execution_count": null,
   "id": "9bec176a",
   "metadata": {},
   "outputs": [],
   "source": []
  },
  {
   "cell_type": "code",
   "execution_count": 103,
   "id": "fbad44e1",
   "metadata": {},
   "outputs": [
    {
     "name": "stdout",
     "output_type": "stream",
     "text": [
      "[None, 10, 3, 7, 1, 2, 3, 4]\n",
      "init l: 4 r: 5\n",
      "r: 2 -> 3\n",
      "3\n"
     ]
    }
   ],
   "source": [
    "'''\n",
    "     10\n",
    "   /   \\\n",
    " 3      7\n",
    "/ \\    / \\\n",
    "1  2  3   4\n",
    "'''\n",
    "tr = SegmentTree([1,2,3,4])\n",
    "print(tr.arr)\n",
    "print(tr.sum_range(0, 1))"
   ]
  },
  {
   "cell_type": "code",
   "execution_count": null,
   "id": "59496c36",
   "metadata": {},
   "outputs": [],
   "source": []
  },
  {
   "cell_type": "code",
   "execution_count": 23,
   "id": "73f6931b",
   "metadata": {},
   "outputs": [
    {
     "name": "stdout",
     "output_type": "stream",
     "text": [
      "0\n",
      "1\n",
      "2\n",
      "3\n",
      "[10, 3, 7, 1, 2, 3, 4]\n",
      "[10, 3, 7, 1, 2, 3, 4]\n"
     ]
    }
   ],
   "source": [
    "'''\n",
    "     10\n",
    "   /   \\\n",
    " 3      7\n",
    "/ \\    / \\\n",
    "1  2  3   4\n",
    "'''\n",
    "\n",
    "tr = SegmentTree([1,2,3,4])\n",
    "print(tr.arr)"
   ]
  },
  {
   "cell_type": "code",
   "execution_count": 21,
   "id": "d9c94c8e",
   "metadata": {},
   "outputs": [
    {
     "name": "stdout",
     "output_type": "stream",
     "text": [
      "[14, 7, 7, 5, 2, 3, 4]\n"
     ]
    }
   ],
   "source": [
    "'''\n",
    "     14\n",
    "   /   \\\n",
    " 7      7\n",
    "/ \\    / \\\n",
    "5  2  3   4\n",
    "'''\n",
    "tr.update(0, 5)\n",
    "print(tr.arr)"
   ]
  },
  {
   "cell_type": "code",
   "execution_count": 24,
   "id": "59b88d91",
   "metadata": {},
   "outputs": [
    {
     "name": "stdout",
     "output_type": "stream",
     "text": [
      "[18, 11, 7, 1, 10, 3, 4]\n"
     ]
    }
   ],
   "source": [
    "'''\n",
    "     18\n",
    "   /   \\\n",
    " 11      7\n",
    "/ \\    / \\\n",
    "1  10  3   4\n",
    "\n",
    "i: 3\n",
    "p_i: 1\n",
    "\n",
    "(3 - 1) // 2 = 1\n",
    "\n",
    "i: 4\n",
    "p_i: 1\n",
    "(4 - 1) // 2\n",
    "\n",
    "\n",
    "'''\n",
    "tr.update(1, 10)\n",
    "print(tr.arr)"
   ]
  },
  {
   "cell_type": "code",
   "execution_count": null,
   "id": "8d0f315d",
   "metadata": {},
   "outputs": [],
   "source": []
  }
 ],
 "metadata": {
  "kernelspec": {
   "display_name": "Python 3 (ipykernel)",
   "language": "python",
   "name": "python3"
  },
  "language_info": {
   "codemirror_mode": {
    "name": "ipython",
    "version": 3
   },
   "file_extension": ".py",
   "mimetype": "text/x-python",
   "name": "python",
   "nbconvert_exporter": "python",
   "pygments_lexer": "ipython3",
   "version": "3.7.11"
  }
 },
 "nbformat": 4,
 "nbformat_minor": 5
}
