{
 "cells": [
  {
   "cell_type": "code",
   "execution_count": 1,
   "id": "c59a7e13",
   "metadata": {},
   "outputs": [],
   "source": [
    "class SnapshotArray:\n",
    "\n",
    "    def __init__(self, length: int):\n",
    "        self.data = [{}] * length\n",
    "        self.snap_cnt = 0\n",
    "        \n",
    "\n",
    "    def set(self, index: int, val: int) -> None:\n",
    "        pass\n",
    "\n",
    "    def snap(self) -> int:\n",
    "        self.snap_cnt += 1\n",
    "        id = self.snap_cnt - 1\n",
    "        self.snaps[id] = {}\n",
    "        return id\n",
    "        \n",
    "\n",
    "    def get(self, index: int, snap_id: int) -> int:\n",
    "        d = self.data[index]\n",
    "        res = d.get(index)\n",
    "        \n",
    "\n",
    "\n",
    "# Your SnapshotArray object will be instantiated and called as such:\n",
    "# obj = SnapshotArray(length)\n",
    "# obj.set(index,val)\n",
    "# param_2 = obj.snap()\n",
    "# param_3 = obj.get(index,snap_id)"
   ]
  },
  {
   "cell_type": "code",
   "execution_count": null,
   "id": "90447d73",
   "metadata": {},
   "outputs": [],
   "source": []
  }
 ],
 "metadata": {
  "kernelspec": {
   "display_name": "Python 3 (ipykernel)",
   "language": "python",
   "name": "python3"
  },
  "language_info": {
   "codemirror_mode": {
    "name": "ipython",
    "version": 3
   },
   "file_extension": ".py",
   "mimetype": "text/x-python",
   "name": "python",
   "nbconvert_exporter": "python",
   "pygments_lexer": "ipython3",
   "version": "3.7.11"
  }
 },
 "nbformat": 4,
 "nbformat_minor": 5
}
