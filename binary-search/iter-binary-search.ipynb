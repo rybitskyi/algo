{
 "cells": [
  {
   "cell_type": "markdown",
   "id": "b441e022",
   "metadata": {},
   "source": [
    "# Binary Search\n",
    "\n",
    "Give an array sorted in non decresing order, find target value."
   ]
  },
  {
   "cell_type": "code",
   "execution_count": 29,
   "id": "8fd3d920",
   "metadata": {},
   "outputs": [],
   "source": [
    "from typing import List"
   ]
  },
  {
   "cell_type": "markdown",
   "id": "735a3220",
   "metadata": {},
   "source": [
    "## Iterative binary search"
   ]
  },
  {
   "cell_type": "code",
   "execution_count": 13,
   "id": "e431b363",
   "metadata": {},
   "outputs": [],
   "source": [
    "def iter_binary_search(nums: List[int], target: int) -> bool:\n",
    "    l, r = 0, len(nums) - 1\n",
    "    while l < r:        \n",
    "        m = l + (r - l) // 2\n",
    "        if nums[m] == target:\n",
    "            return m\n",
    "        if nums[m] > target:\n",
    "            r = m - 1\n",
    "        else:\n",
    "            l = m + 1\n",
    "    return -1"
   ]
  },
  {
   "cell_type": "code",
   "execution_count": 14,
   "id": "caa080fc",
   "metadata": {},
   "outputs": [],
   "source": [
    "assert iter_binary_search([1,2,3,4,5], 3) == 2"
   ]
  },
  {
   "cell_type": "code",
   "execution_count": 15,
   "id": "49014367",
   "metadata": {},
   "outputs": [],
   "source": [
    "assert iter_binary_search([1,2,3,4,5], 6) == -1"
   ]
  },
  {
   "cell_type": "markdown",
   "id": "dd5fa035",
   "metadata": {},
   "source": [
    "# Python bisect"
   ]
  },
  {
   "cell_type": "code",
   "execution_count": 16,
   "id": "dc00e2f2",
   "metadata": {},
   "outputs": [],
   "source": [
    "import bisect"
   ]
  },
  {
   "cell_type": "code",
   "execution_count": 26,
   "id": "e66ae1ef",
   "metadata": {},
   "outputs": [],
   "source": [
    "def bisect_binary_search(nums: List[int], target: int) -> bool:\n",
    "    res = bisect.bisect_left(nums, target)\n",
    "    if res >= len(nums) or nums[res] != target:\n",
    "        return -1\n",
    "    return res"
   ]
  },
  {
   "cell_type": "code",
   "execution_count": 27,
   "id": "37bdc823",
   "metadata": {},
   "outputs": [],
   "source": [
    "assert bisect_binary_search([1,2,3,4,5], 3) == 2"
   ]
  },
  {
   "cell_type": "code",
   "execution_count": 28,
   "id": "1010d11b",
   "metadata": {},
   "outputs": [],
   "source": [
    "assert bisect_binary_search([1,2,3,4,5], 6) == -1"
   ]
  },
  {
   "cell_type": "code",
   "execution_count": null,
   "id": "0e815996",
   "metadata": {},
   "outputs": [],
   "source": []
  }
 ],
 "metadata": {
  "kernelspec": {
   "display_name": "Python 3 (ipykernel)",
   "language": "python",
   "name": "python3"
  },
  "language_info": {
   "codemirror_mode": {
    "name": "ipython",
    "version": 3
   },
   "file_extension": ".py",
   "mimetype": "text/x-python",
   "name": "python",
   "nbconvert_exporter": "python",
   "pygments_lexer": "ipython3",
   "version": "3.7.11"
  }
 },
 "nbformat": 4,
 "nbformat_minor": 5
}
