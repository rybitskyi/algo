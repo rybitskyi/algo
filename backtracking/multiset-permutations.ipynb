{
 "cells": [
  {
   "cell_type": "markdown",
   "id": "c43ff90b",
   "metadata": {},
   "source": [
    "# Overview\n",
    "\n",
    "Given a collection of numbers, nums, that might contain duplicates, return all possible unique permutations in any order.\n",
    "\n",
    " \n",
    "\n",
    "### Example 1:\n",
    "```\n",
    "Input: nums = [1,1,2]\n",
    "Output:\n",
    "[[1,1,2],\n",
    " [1,2,1],\n",
    " [2,1,1]]\n",
    "```\n",
    " \n",
    "### Example 2:\n",
    "```\n",
    "Input: nums = [1,2,3]\n",
    "Output: [[1,2,3],[1,3,2],[2,1,3],[2,3,1],[3,1,2],[3,2,1]]\n",
    "```"
   ]
  },
  {
   "cell_type": "code",
   "execution_count": 17,
   "id": "fedf78e8",
   "metadata": {},
   "outputs": [
    {
     "name": "stdout",
     "output_type": "stream",
     "text": [
      "[0] construct_candidates a[:k] [] - > [0, 2]\n",
      "[1] construct_candidates a[:k] [0] - > [1, 2]\n",
      "[2] construct_candidates a[:k] [0, 1] - > [2]\n",
      "[2] construct_candidates a[:k] [0, 2] - > [1]\n",
      "[1] construct_candidates a[:k] [2] - > [0]\n",
      "[2] construct_candidates a[:k] [2, 0] - > [1]\n"
     ]
    },
    {
     "data": {
      "text/plain": [
       "[['A', 'A', 'B'], ['A', 'B', 'A'], ['B', 'A', 'A']]"
      ]
     },
     "execution_count": 17,
     "metadata": {},
     "output_type": "execute_result"
    }
   ],
   "source": [
    "class Permutations:\n",
    "    \n",
    "    def __init__(self, data):\n",
    "        self.data = data\n",
    "        self.n = len(self.data)\n",
    "        self.res = []\n",
    "    \n",
    "    def is_a_solution(self, a, k):\n",
    "        return (k+1) == self.n\n",
    "    \n",
    "    def process_solution(self, a, k):\n",
    "        self.res.append(list(map(lambda x: self.data[x], a[:k+1])))\n",
    "    \n",
    "    def construct_candidates(self, a, k):\n",
    "        res = []\n",
    "        seen = []\n",
    "        for i in range(self.n):\n",
    "            if i in a[:k]:\n",
    "                continue\n",
    "            if self.data[i] in seen:\n",
    "                continue\n",
    "            res.append(i)\n",
    "            seen.append(self.data[i])\n",
    "        print(f\"[{k}] construct_candidates a[:k] {a[:k]} - > {res}\")\n",
    "        return res\n",
    "    \n",
    "    def backtrack(self, a, k):\n",
    "        if self.is_a_solution(a, k):\n",
    "            self.process_solution(a, k)\n",
    "        else:\n",
    "            k += 1\n",
    "            c = self.construct_candidates(a, k)\n",
    "            for cv in c:\n",
    "                a[k] = cv\n",
    "                self.backtrack(a, k)\n",
    "\n",
    "    def get_multiset_permutations(self):\n",
    "        self.res = []\n",
    "        a = [None] * self.n\n",
    "        self.backtrack(a, -1)\n",
    "        return self.res\n",
    "    \n",
    "Permutations(['A','A','B']).get_multiset_permutations()"
   ]
  },
  {
   "cell_type": "code",
   "execution_count": null,
   "id": "6aa63cdf",
   "metadata": {},
   "outputs": [],
   "source": []
  }
 ],
 "metadata": {
  "kernelspec": {
   "display_name": "Python 3 (ipykernel)",
   "language": "python",
   "name": "python3"
  },
  "language_info": {
   "codemirror_mode": {
    "name": "ipython",
    "version": 3
   },
   "file_extension": ".py",
   "mimetype": "text/x-python",
   "name": "python",
   "nbconvert_exporter": "python",
   "pygments_lexer": "ipython3",
   "version": "3.7.11"
  }
 },
 "nbformat": 4,
 "nbformat_minor": 5
}
