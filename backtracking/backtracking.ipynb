{
 "cells": [
  {
   "cell_type": "markdown",
   "id": "40570a56",
   "metadata": {},
   "source": [
    "# Backtracking\n",
    "\n",
    "At each step in the backtracking algorithm, we try to extend a given partial solution a = (a1,a2,..,ak) by adding another element to the end.\n",
    "\n",
    "```\n",
    "backtrack-DFS(a,k):\n",
    "    if a=(a1,a2,..,ak) is a solution, report it\n",
    "    else:\n",
    "        k = k + 1\n",
    "        construct Sk, the set of candidates for position `k` of `a`\n",
    "        while Sk != 0 do:\n",
    "            ak = an element in Sk\n",
    "            Sk = Sk - {ak}\n",
    "            backtrack-dfs(a, k)\n",
    "```"
   ]
  },
  {
   "cell_type": "code",
   "execution_count": 1,
   "id": "58c02595",
   "metadata": {},
   "outputs": [],
   "source": [
    "from typing import List"
   ]
  },
  {
   "cell_type": "markdown",
   "id": "1b006141",
   "metadata": {},
   "source": [
    "# Constructing All Subsets\n",
    "\n",
    "How many subsets are there of an n-element set, say the integers {1,..,n}?\n",
    "\n",
    "There are 2**n subsets of n elements.\n",
    "\n",
    "Given a set, return the list of all possible subsets.\n",
    "\n",
    "```\n",
    "For example:\n",
    "{1,2,3}\n",
    "=>\n",
    "{1}\n",
    "{2}\n",
    "{3}\n",
    "{1,2}\n",
    "{2,3}\n",
    "{1,2,3}\n",
    "```"
   ]
  },
  {
   "cell_type": "code",
   "execution_count": 22,
   "id": "43410b02",
   "metadata": {},
   "outputs": [
    {
     "name": "stdout",
     "output_type": "stream",
     "text": [
      "{1, 2, 3}\n",
      "{1, 2}\n",
      "{1, 3}\n",
      "{1}\n",
      "{2, 3}\n",
      "{2}\n",
      "{3}\n",
      "set()\n"
     ]
    }
   ],
   "source": [
    "class SubsetsFinder:\n",
    "    \n",
    "    def __init__(self, n):\n",
    "        self.n = n\n",
    "\n",
    "    def is_a_solution(self, a, k, n):\n",
    "        return k == n\n",
    "\n",
    "    def process_solution(self, a, k, input):\n",
    "#         print(f\"process_solution a: {a} k: {k}\")\n",
    "        res = []\n",
    "        for i in range(1,k+1):\n",
    "            if a[i]:\n",
    "                res.append(i)\n",
    "        print(set(res))\n",
    "\n",
    "    def construct_candidates(self, a, k, input, c: List[int], nc: int):\n",
    "        c[0] = True\n",
    "        c[1] = False\n",
    "\n",
    "    def make_move(self, a, k, input):\n",
    "        pass\n",
    "\n",
    "    def unmake_move(self, a, k, input):\n",
    "        pass\n",
    "\n",
    "    def backtrack(self, a: List[int], k: int, input):\n",
    "        \n",
    "#         print(f'backtrack k: {k}')\n",
    "        c = [None] * 2\n",
    "        nc = 2\n",
    "        \n",
    "        finished = False\n",
    "\n",
    "        if self.is_a_solution(a, k, input):\n",
    "            self.process_solution(a, k, input)\n",
    "        else:\n",
    "            k = k + 1\n",
    "            self.construct_candidates(a, k, input, c, nc)\n",
    "            for i in range(nc):\n",
    "                a[k] = c[i]\n",
    "                self.make_move(a, k, input)\n",
    "                self.backtrack(a, k, input)\n",
    "                self.unmake_move(a, k, input)\n",
    "\n",
    "                if finished:\n",
    "                    return # terminate early\n",
    "\n",
    "    def gen_subsets(self):\n",
    "        a = [None] * 2**self.n\n",
    "        self, self.backtrack(a, 0, self.n)\n",
    "    \n",
    "SubsetsFinder(3).gen_subsets()"
   ]
  },
  {
   "cell_type": "markdown",
   "id": "d81ffb45",
   "metadata": {},
   "source": [
    "# Permutations\n",
    "\n",
    "Count permutations of {1,..,n}\n",
    "\n",
    "```\n",
    "              |\n",
    "           /    \n",
    "```"
   ]
  },
  {
   "cell_type": "code",
   "execution_count": 23,
   "id": "95a09894",
   "metadata": {},
   "outputs": [],
   "source": [
    "from itertools import permutations"
   ]
  },
  {
   "cell_type": "code",
   "execution_count": 26,
   "id": "8a0c46df",
   "metadata": {},
   "outputs": [
    {
     "name": "stdout",
     "output_type": "stream",
     "text": [
      "(1, 2, 3)\n",
      "(1, 3, 2)\n",
      "(2, 1, 3)\n",
      "(2, 3, 1)\n",
      "(3, 1, 2)\n",
      "(3, 2, 1)\n"
     ]
    }
   ],
   "source": [
    "for r in permutations({1,2,3}):\n",
    "    print(r)"
   ]
  },
  {
   "cell_type": "code",
   "execution_count": 46,
   "id": "4e92310e",
   "metadata": {},
   "outputs": [
    {
     "name": "stdout",
     "output_type": "stream",
     "text": [
      "[1, 2, 3]\n",
      "[1, 3, 2]\n",
      "[2, 1, 3]\n",
      "[2, 3, 1]\n",
      "[3, 1, 2]\n",
      "[3, 2, 1]\n"
     ]
    }
   ],
   "source": [
    "class Permutations:\n",
    "    \n",
    "    def __init__(self, n):\n",
    "        self.n = n\n",
    "\n",
    "    def is_a_solution(self, a, k, n):\n",
    "        return k == n\n",
    "\n",
    "    def process_solution(self, a, k, input):\n",
    "#         print(f\"process_solution a: {a} k: {k}\")\n",
    "        res = []\n",
    "        for i in range(1,k+1):\n",
    "            res.append(a[i])\n",
    "        print(res)\n",
    "\n",
    "    def construct_candidates(self, a, k, input) -> List[int]:\n",
    "        res = []\n",
    "        for i in range(1,input+1):\n",
    "            if i in a[:k]:\n",
    "                continue\n",
    "            res.append(i)\n",
    "        return res\n",
    "\n",
    "    def make_move(self, a, k, input):\n",
    "        pass\n",
    "\n",
    "    def unmake_move(self, a, k, input):\n",
    "        pass\n",
    "\n",
    "    def backtrack(self, a: List[int], k: int, input):\n",
    "        \n",
    "#         print(f'backtrack k: {k}')\n",
    "\n",
    "        finished = False\n",
    "\n",
    "        if self.is_a_solution(a, k, input):\n",
    "            self.process_solution(a, k, input)\n",
    "        else:\n",
    "            k = k + 1\n",
    "            c = self.construct_candidates(a, k, input)\n",
    "            nc = len(c)\n",
    "            for i in range(nc):\n",
    "                a[k] = c[i]\n",
    "                self.make_move(a, k, input)\n",
    "                self.backtrack(a, k, input)\n",
    "                self.unmake_move(a, k, input)\n",
    "\n",
    "                if finished:\n",
    "                    return # terminate early\n",
    "\n",
    "    def gen_permutations(self):\n",
    "        a = [None] * 2**self.n\n",
    "        self, self.backtrack(a, 0, self.n)\n",
    "    \n",
    "Permutations(3).gen_permutations()"
   ]
  },
  {
   "cell_type": "markdown",
   "id": "f6935f08",
   "metadata": {},
   "source": [
    "# TODO:\n",
    "## Can I work with zero based `k`?"
   ]
  },
  {
   "cell_type": "markdown",
   "id": "b7442a76",
   "metadata": {},
   "source": [
    "# All Single Paths in Graph"
   ]
  },
  {
   "cell_type": "code",
   "execution_count": null,
   "id": "03fe6c2b",
   "metadata": {},
   "outputs": [],
   "source": [
    "class AllSinglePaths:\n",
    "    \n",
    "    def __init__(self, g):\n",
    "        self.g = g\n",
    "        self.n = len(n) # vertix count\n",
    "        self.finished = False\n",
    "        self.result = []\n",
    "        \n",
    "    def is_a_solution(self,a,k,input) -> bool:\n",
    "        self.a[k] = self.n - 1 # current partial solution points to target node `n-1`\n",
    "    \n",
    "    def process_solution(self, a, k, input):\n",
    "        self.result.append(a[:k])\n",
    "        \n",
    "    def construct_candidates(self, a, k, g):\n",
    "        res = []\n",
    "        \n",
    "        p = a[k]\n",
    "        while p:\n",
    "            p = g[p]\n",
    "        \n",
    "    \n",
    "    def make_move(self, a,k,input):\n",
    "        pass\n",
    "\n",
    "    def unmake_move(self, a,k,input):\n",
    "        pass\n",
    "    \n",
    "    def backtrack(self, a, k, input):\n",
    "        if self.is_a_solution(a,k,input):\n",
    "            self.process_solution(a,k,input)\n",
    "        else:\n",
    "            k = k+1\n",
    "            c = self.construct_candidates(a,k,input)\n",
    "            nc = len(c)\n",
    "            for i in range(nc):\n",
    "                a[k] = c[i]\n",
    "                self.make_move(a,k,input)\n",
    "                backtrack(a,k,input)\n",
    "                self.unmake_move(a,k,input)\n",
    "                \n",
    "                if self.finished:\n",
    "                    return\n",
    "\n",
    "    def get_all_single_paths(self):\n",
    "        a = [None*self.n] # max vertix count\n",
    "        backtrack(a,0,g)\n",
    "        return self.result\n",
    "\n",
    "    \n",
    "g = [\n",
    "    [1,2],\n",
    "    [3],\n",
    "    [3],\n",
    "    []]\n",
    "AllSinglePaths().get_all_single_paths(g)"
   ]
  }
 ],
 "metadata": {
  "kernelspec": {
   "display_name": "Python 3 (ipykernel)",
   "language": "python",
   "name": "python3"
  },
  "language_info": {
   "codemirror_mode": {
    "name": "ipython",
    "version": 3
   },
   "file_extension": ".py",
   "mimetype": "text/x-python",
   "name": "python",
   "nbconvert_exporter": "python",
   "pygments_lexer": "ipython3",
   "version": "3.7.11"
  }
 },
 "nbformat": 4,
 "nbformat_minor": 5
}
