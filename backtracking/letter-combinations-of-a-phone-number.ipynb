{
 "cells": [
  {
   "cell_type": "markdown",
   "id": "bede7bf0",
   "metadata": {},
   "source": [
    "letter-combinations-of-a-phone-number"
   ]
  },
  {
   "cell_type": "code",
   "execution_count": 8,
   "id": "c42ccb83",
   "metadata": {},
   "outputs": [],
   "source": [
    "from typing import List"
   ]
  },
  {
   "cell_type": "code",
   "execution_count": 31,
   "id": "8166797a",
   "metadata": {},
   "outputs": [],
   "source": [
    "def get_digit_variants(digit) -> List:\n",
    "    res = []\n",
    "    k = 3\n",
    "    j = (digit-2) \n",
    "    if digit in (7,9):\n",
    "        k += 1\n",
    "    m = ord('a')\n",
    "    if digit>=8:\n",
    "        m += 1\n",
    "    for i in range(k): \n",
    "        res.append(chr(m+3*j+i))\n",
    "    return res"
   ]
  },
  {
   "cell_type": "code",
   "execution_count": 32,
   "id": "f386af24",
   "metadata": {},
   "outputs": [
    {
     "data": {
      "text/plain": [
       "['a', 'b', 'c']"
      ]
     },
     "execution_count": 32,
     "metadata": {},
     "output_type": "execute_result"
    }
   ],
   "source": [
    "get_digit_variants(2)"
   ]
  },
  {
   "cell_type": "code",
   "execution_count": 33,
   "id": "52c27b8a",
   "metadata": {},
   "outputs": [
    {
     "data": {
      "text/plain": [
       "['m', 'n', 'o']"
      ]
     },
     "execution_count": 33,
     "metadata": {},
     "output_type": "execute_result"
    }
   ],
   "source": [
    "get_digit_variants(6)"
   ]
  },
  {
   "cell_type": "code",
   "execution_count": 34,
   "id": "86667d68",
   "metadata": {},
   "outputs": [
    {
     "data": {
      "text/plain": [
       "['p', 'q', 'r', 's']"
      ]
     },
     "execution_count": 34,
     "metadata": {},
     "output_type": "execute_result"
    }
   ],
   "source": [
    "get_digit_variants(7)"
   ]
  },
  {
   "cell_type": "code",
   "execution_count": 35,
   "id": "239b4969",
   "metadata": {},
   "outputs": [
    {
     "data": {
      "text/plain": [
       "['t', 'u', 'v']"
      ]
     },
     "execution_count": 35,
     "metadata": {},
     "output_type": "execute_result"
    }
   ],
   "source": [
    "get_digit_variants(8)"
   ]
  },
  {
   "cell_type": "code",
   "execution_count": 36,
   "id": "5fe31b2d",
   "metadata": {},
   "outputs": [
    {
     "data": {
      "text/plain": [
       "['w', 'x', 'y', 'z']"
      ]
     },
     "execution_count": 36,
     "metadata": {},
     "output_type": "execute_result"
    }
   ],
   "source": [
    "get_digit_variants(9)"
   ]
  },
  {
   "cell_type": "code",
   "execution_count": 3,
   "id": "23caa994",
   "metadata": {},
   "outputs": [
    {
     "data": {
      "text/plain": [
       "'b'"
      ]
     },
     "execution_count": 3,
     "metadata": {},
     "output_type": "execute_result"
    }
   ],
   "source": [
    "chr(ord('a')+1)"
   ]
  },
  {
   "cell_type": "code",
   "execution_count": 51,
   "id": "39344c06",
   "metadata": {},
   "outputs": [
    {
     "data": {
      "text/plain": [
       "['adg',\n",
       " 'adh',\n",
       " 'adi',\n",
       " 'aeg',\n",
       " 'aeh',\n",
       " 'aei',\n",
       " 'afg',\n",
       " 'afh',\n",
       " 'afi',\n",
       " 'bdg',\n",
       " 'bdh',\n",
       " 'bdi',\n",
       " 'beg',\n",
       " 'beh',\n",
       " 'bei',\n",
       " 'bfg',\n",
       " 'bfh',\n",
       " 'bfi',\n",
       " 'cdg',\n",
       " 'cdh',\n",
       " 'cdi',\n",
       " 'ceg',\n",
       " 'ceh',\n",
       " 'cei',\n",
       " 'cfg',\n",
       " 'cfh',\n",
       " 'cfi']"
      ]
     },
     "execution_count": 51,
     "metadata": {},
     "output_type": "execute_result"
    }
   ],
   "source": [
    "class LetterCombinations:\n",
    "\n",
    "    def __init__(self, digits: str):\n",
    "        self.input = digits\n",
    "        self.n = len(self.input)\n",
    "\n",
    "        self.data = []\n",
    "        for d in self.input:\n",
    "            rec = []\n",
    "            for v in self.get_digit_variants(int(d)):\n",
    "                rec.append(v)\n",
    "            self.data.append(rec)\n",
    "\n",
    "    \n",
    "    def get_digit_variants(self, digit) -> List:\n",
    "        res = []\n",
    "        k = 3\n",
    "        j = (digit-2) \n",
    "        if digit in (7,9):\n",
    "            k += 1\n",
    "        m = ord('a')\n",
    "        if digit>=8:\n",
    "            m += 1\n",
    "        for i in range(k): \n",
    "            res.append(chr(m+3*j+i))\n",
    "        return res        \n",
    "\n",
    "    def is_a_solution(self, a, k) -> bool:\n",
    "        return (k + 1) == self.n\n",
    "\n",
    "    def process_solution(self, a, k):\n",
    "#         print(f\"process_solution a: {a} k: {k}\")\n",
    "        self.res.append(''.join(a[:k+1]))\n",
    "\n",
    "\n",
    "    def construct_candidates(self, k):\n",
    "        return self.data[k]\n",
    "        \n",
    "        \n",
    "    def backtrack(self, a, k):\n",
    "        if self.is_a_solution(a, k):\n",
    "            self.process_solution(a, k)\n",
    "        else:\n",
    "            k += 1\n",
    "            c = self.construct_candidates(k)\n",
    "            for cv in c:\n",
    "                a[k] = cv\n",
    "                self.backtrack(a, k)\n",
    "\n",
    "    def get_letter_combinations(self) -> List[str]:\n",
    "        self.res = []\n",
    "        \n",
    "        a = [None] * self.n\n",
    "        self.backtrack(a, -1)\n",
    "        return self.res\n",
    "    \n",
    "LetterCombinations('234').get_letter_combinations()"
   ]
  },
  {
   "cell_type": "code",
   "execution_count": null,
   "id": "2247e440",
   "metadata": {},
   "outputs": [],
   "source": []
  },
  {
   "cell_type": "code",
   "execution_count": null,
   "id": "1df3a263",
   "metadata": {},
   "outputs": [],
   "source": []
  }
 ],
 "metadata": {
  "kernelspec": {
   "display_name": "Python 3 (ipykernel)",
   "language": "python",
   "name": "python3"
  },
  "language_info": {
   "codemirror_mode": {
    "name": "ipython",
    "version": 3
   },
   "file_extension": ".py",
   "mimetype": "text/x-python",
   "name": "python",
   "nbconvert_exporter": "python",
   "pygments_lexer": "ipython3",
   "version": "3.7.11"
  }
 },
 "nbformat": 4,
 "nbformat_minor": 5
}
