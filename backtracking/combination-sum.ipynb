{
 "cells": [
  {
   "cell_type": "markdown",
   "id": "7e4dd957",
   "metadata": {},
   "source": [
    "# Overview\n",
    "\n",
    "Given an array of distinct integers candidates and a target integer target, return a list of all unique combinations of candidates where the chosen numbers sum to target. You may return the combinations in any order.\n",
    "\n",
    "The same number may be chosen from candidates an unlimited number of times. Two combinations are unique if the \n",
    "frequency\n",
    " of at least one of the chosen numbers is different.\n",
    "\n",
    "The test cases are generated such that the number of unique combinations that sum up to target is less than 150 combinations for the given input.\n",
    "\n",
    " \n",
    "\n",
    "## Example 1:\n",
    "\n",
    "Input: candidates = [2,3,6,7], target = 7\n",
    "\n",
    "Output: [[2,2,3],[7]]\n",
    "\n",
    "### Explanation:\n",
    "2 and 3 are candidates, and 2 + 2 + 3 = 7. Note that 2 can be used multiple times.\n",
    "7 is a candidate, and 7 = 7.\n",
    "These are the only two combinations.\n",
    "\n",
    "## Example 2:\n",
    "\n",
    "Input: candidates = [2,3,5], target = 8\n",
    "Output: [[2,2,2,2],[2,3,3],[3,5]]\n",
    "\n",
    "## Example 3:\n",
    "\n",
    "Input: candidates = [2], target = 1\n",
    "Output: []"
   ]
  },
  {
   "cell_type": "code",
   "execution_count": 1,
   "id": "56d772eb",
   "metadata": {},
   "outputs": [],
   "source": [
    "from typing import List"
   ]
  },
  {
   "cell_type": "code",
   "execution_count": 62,
   "id": "2dfb8f6d",
   "metadata": {},
   "outputs": [
    {
     "name": "stdout",
     "output_type": "stream",
     "text": [
      "costruct_candidates start_k: 0 end_k: 0 remain: 7 -> [2, 3, 6, 7]\n",
      "costruct_candidates start_k: 0 end_k: 1 remain: 5 -> [2, 3]\n",
      "costruct_candidates start_k: 0 end_k: 2 remain: 3 -> [2, 3]\n",
      "costruct_candidates start_k: 0 end_k: 3 remain: 1 -> []\n",
      "costruct_candidates start_k: 1 end_k: 2 remain: 2 -> []\n",
      "costruct_candidates start_k: 1 end_k: 1 remain: 4 -> [3]\n",
      "costruct_candidates start_k: 1 end_k: 2 remain: 1 -> []\n",
      "costruct_candidates start_k: 2 end_k: 1 remain: 1 -> []\n"
     ]
    },
    {
     "data": {
      "text/plain": [
       "[[2, 2, 3], [7]]"
      ]
     },
     "execution_count": 62,
     "metadata": {},
     "output_type": "execute_result"
    }
   ],
   "source": [
    "class CombinationSum:\n",
    "    \n",
    "    def __init__(self, candidates: List[int], target: int):\n",
    "        self.candidates = sorted(candidates)\n",
    "        self.n = len(candidates)\n",
    "        self.target = target\n",
    "        self.res = []\n",
    "    \n",
    "    def is_a_solution(self, a, start_k: int, end_k: int, remain: int) -> bool:\n",
    "        \" The sum of local solutions is the target \"\n",
    "#         print(f\"is_a_solution end_k: {end_k}\")\n",
    "        return remain == 0\n",
    "    \n",
    "    def process_solution(self, a, start_k: int, end_k: int):\n",
    "        self.res.append(a[:end_k+1])\n",
    "        \n",
    "    def construct_candidates(self, a, start_k: int, end_k: int, remain: int):\n",
    "#         print(f\"init costruct_candidates start_k: {start_k} end_k: {end_k} remain: {remain}\")\n",
    "        \n",
    "        res = []\n",
    "\n",
    "        for i in range(start_k, self.n):\n",
    "            v = self.candidates[i]\n",
    "            if v <= remain:\n",
    "                res.append(v)\n",
    "        print(f\"costruct_candidates start_k: {start_k} end_k: {end_k} remain: {remain} -> {res}\")\n",
    "\n",
    "        return res\n",
    "        \n",
    "    def backtrack(self, a, start_k: int, end_k: int, remain: int):\n",
    "        if self.is_a_solution(a, start_k, end_k, remain):\n",
    "            self.process_solution(a, start_k, end_k)\n",
    "        else:\n",
    "            end_k += 1\n",
    "            c = self.construct_candidates(a, start_k, end_k, remain)\n",
    "            for i, cv in enumerate(c):\n",
    "                a[end_k] = cv\n",
    "                self.backtrack(a, start_k+i, end_k, remain-cv)\n",
    "\n",
    "    def get_result(self):\n",
    "        a = [None] * 40\n",
    "        self.backtrack(a, 0,-1,self.target)\n",
    "        return self.res\n",
    "    \n",
    "    \n",
    "CombinationSum([2,3,6,7], 7).get_result()"
   ]
  },
  {
   "cell_type": "code",
   "execution_count": null,
   "id": "bb82dee7",
   "metadata": {},
   "outputs": [],
   "source": []
  },
  {
   "cell_type": "code",
   "execution_count": null,
   "id": "0c6a6c5b",
   "metadata": {},
   "outputs": [],
   "source": []
  },
  {
   "cell_type": "code",
   "execution_count": 34,
   "id": "440611e1",
   "metadata": {},
   "outputs": [
    {
     "data": {
      "text/plain": [
       "[[2, 2, 3], [7]]"
      ]
     },
     "execution_count": 34,
     "metadata": {},
     "output_type": "execute_result"
    }
   ],
   "source": [
    "class Solution:\n",
    "    def combinationSum(self, candidates: List[int], target: int) -> List[List[int]]:\n",
    "\n",
    "        results = []\n",
    "\n",
    "        def backtrack(remain, comb, start):\n",
    "            if remain == 0:\n",
    "                # make a deep copy of the current combination\n",
    "                results.append(list(comb))\n",
    "                return\n",
    "            elif remain < 0:\n",
    "                # exceed the scope, stop exploration.\n",
    "                return\n",
    "\n",
    "            for i in range(start, len(candidates)):\n",
    "                # add the number into the combination\n",
    "                comb.append(candidates[i])\n",
    "                # give the current number another chance, rather than moving on\n",
    "                backtrack(remain - candidates[i], comb, i)\n",
    "                # backtrack, remove the number from the combination\n",
    "                comb.pop()\n",
    "\n",
    "        backtrack(target, [], 0)\n",
    "\n",
    "        return results\n",
    "    \n",
    "Solution().combinationSum([2,3,6,7], 7)"
   ]
  },
  {
   "cell_type": "code",
   "execution_count": null,
   "id": "1151f412",
   "metadata": {},
   "outputs": [],
   "source": []
  },
  {
   "cell_type": "code",
   "execution_count": null,
   "id": "8de32dfa",
   "metadata": {},
   "outputs": [],
   "source": []
  }
 ],
 "metadata": {
  "kernelspec": {
   "display_name": "Python 3 (ipykernel)",
   "language": "python",
   "name": "python3"
  },
  "language_info": {
   "codemirror_mode": {
    "name": "ipython",
    "version": 3
   },
   "file_extension": ".py",
   "mimetype": "text/x-python",
   "name": "python",
   "nbconvert_exporter": "python",
   "pygments_lexer": "ipython3",
   "version": "3.7.11"
  }
 },
 "nbformat": 4,
 "nbformat_minor": 5
}
