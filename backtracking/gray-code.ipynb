{
 "cells": [
  {
   "cell_type": "markdown",
   "id": "e102c9bc",
   "metadata": {},
   "source": [
    "# Overview\n",
    "\n",
    "https://leetcode.com/problems/gray-code/\n",
    "\n",
    "An n-bit gray code sequence is a sequence of 2n integers where:\n",
    "- Every integer is in the inclusive range [0, 2n - 1],\n",
    "- The first integer is 0,\n",
    "- An integer appears no more than once in the sequence,\n",
    "- The binary representation of every pair of adjacent integers differs by exactly one bit, and\n",
    "- The binary representation of the first and last integers differs by exactly one bit.\n",
    "- Given an integer n, return any valid n-bit gray code sequence.\n",
    "\n",
    " \n",
    "\n",
    "## Example 1:\n",
    "\n",
    "Input: n = 2\n",
    "\n",
    "Output: [0,1,3,2]\n",
    "\n",
    "Explanation:\n",
    "\n",
    "The binary representation of [0,1,3,2] is [00,01,11,10].\n",
    "- 00 and 01 differ by one bit\n",
    "- 01 and 11 differ by one bit\n",
    "- 11 and 10 differ by one bit\n",
    "- 10 and 00 differ by one bit\n",
    "[0,2,3,1] is also a valid gray code sequence, whose binary representation is [00,10,11,01].\n",
    "- 00 and 10 differ by one bit\n",
    "- 10 and 11 differ by one bit\n",
    "- 11 and 01 differ by one bit\n",
    "- 01 and 00 differ by one bit\n",
    "\n",
    "\n",
    "## Example 2:\n",
    "\n",
    "Input: n = 1\n",
    "\n",
    "Output: [0,1]"
   ]
  },
  {
   "cell_type": "code",
   "execution_count": 7,
   "id": "be54fcfe",
   "metadata": {},
   "outputs": [
    {
     "data": {
      "text/plain": [
       "[[0, 0, 0],\n",
       " [0, 0, 1],\n",
       " [0, 1, 0],\n",
       " [0, 1, 1],\n",
       " [1, 0, 0],\n",
       " [1, 0, 1],\n",
       " [1, 1, 0],\n",
       " [1, 1, 1]]"
      ]
     },
     "execution_count": 7,
     "metadata": {},
     "output_type": "execute_result"
    }
   ],
   "source": [
    "class GrayCode:\n",
    "    \n",
    "    def __init__(self, n):\n",
    "        self.n = n\n",
    "        self.res = []\n",
    "        \n",
    "    def is_a_solution(self, a, k):\n",
    "        return (k+1) == self.n\n",
    "    \n",
    "    def process_solution(self, a, k):\n",
    "        self.res.append(a[:k+1])\n",
    "        \n",
    "    def construct_candidates(self, a, k):\n",
    "        return [0,1]\n",
    "    \n",
    "    def backtrack(self, a, k):\n",
    "        if self.is_a_solution(a, k):\n",
    "            self.process_solution(a, k)\n",
    "        else:\n",
    "            k += 1\n",
    "            c = self.construct_candidates(a, k)\n",
    "            for cv in c:\n",
    "                a[k] = cv\n",
    "                self.backtrack(a, k)\n",
    "    \n",
    "    def get_result(self):\n",
    "        a = [None] * self.n\n",
    "        self.backtrack(a, -1)\n",
    "        return self.res\n",
    "    \n",
    "GrayCode(3).get_result()"
   ]
  },
  {
   "cell_type": "code",
   "execution_count": 4,
   "id": "b83297c7",
   "metadata": {},
   "outputs": [
    {
     "data": {
      "text/plain": [
       "8"
      ]
     },
     "execution_count": 4,
     "metadata": {},
     "output_type": "execute_result"
    }
   ],
   "source": [
    "2 ** 3"
   ]
  },
  {
   "cell_type": "code",
   "execution_count": 11,
   "id": "f671bc4c",
   "metadata": {},
   "outputs": [
    {
     "data": {
      "text/plain": [
       "0"
      ]
     },
     "execution_count": 11,
     "metadata": {},
     "output_type": "execute_result"
    }
   ],
   "source": [
    "int(''.join(map(str, [0,0,0])))"
   ]
  },
  {
   "cell_type": "code",
   "execution_count": 14,
   "id": "4ffed636",
   "metadata": {},
   "outputs": [
    {
     "data": {
      "text/plain": [
       "5"
      ]
     },
     "execution_count": 14,
     "metadata": {},
     "output_type": "execute_result"
    }
   ],
   "source": [
    "int('101', 2)"
   ]
  },
  {
   "cell_type": "code",
   "execution_count": null,
   "id": "3bf559e9",
   "metadata": {},
   "outputs": [],
   "source": []
  }
 ],
 "metadata": {
  "kernelspec": {
   "display_name": "Python 3 (ipykernel)",
   "language": "python",
   "name": "python3"
  },
  "language_info": {
   "codemirror_mode": {
    "name": "ipython",
    "version": 3
   },
   "file_extension": ".py",
   "mimetype": "text/x-python",
   "name": "python",
   "nbconvert_exporter": "python",
   "pygments_lexer": "ipython3",
   "version": "3.7.11"
  }
 },
 "nbformat": 4,
 "nbformat_minor": 5
}
