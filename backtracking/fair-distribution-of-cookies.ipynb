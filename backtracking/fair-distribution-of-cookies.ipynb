{
 "cells": [
  {
   "cell_type": "markdown",
   "id": "c83404e8",
   "metadata": {},
   "source": [
    "# Overview\n",
    "\n",
    "https://leetcode.com/problems/fair-distribution-of-cookies/\n",
    "\n",
    "You are given an integer array cookies, where cookies[i] denotes the number of cookies in the ith bag. You are also given an integer k that denotes the number of children to distribute all the bags of cookies to. All the cookies in the same bag must go to the same child and cannot be split up.\n",
    "\n",
    "The unfairness of a distribution is defined as the maximum total cookies obtained by a single child in the distribution.\n",
    "\n",
    "Return the minimum unfairness of all distributions.\n",
    "\n",
    " \n",
    "\n",
    "## Example 1:\n",
    "\n",
    "Input: cookies = [8,15,10,20,8], k = 2\n",
    "\n",
    "Output: 31\n",
    "\n",
    "Explanation: \n",
    "\n",
    "One optimal distribution is [8,15,8] and [10,20]\n",
    "- The 1st child receives [8,15,8] which has a total of 8 + 15 + 8 = 31 cookies.\n",
    "- The 2nd child receives [10,20] which has a total of 10 + 20 = 30 cookies.\n",
    "The unfairness of the distribution is max(31,30) = 31.\n",
    "It can be shown that there is no distribution with an unfairness less than 31.\n",
    "\n",
    "## Example 2:\n",
    "\n",
    "Input: cookies = [6,1,3,2,2,4,1,2], k = 3\n",
    "\n",
    "Output: 7\n",
    "\n",
    "Explanation: \n",
    "\n",
    "One optimal distribution is [6,1], [3,2,2], and [4,1,2]\n",
    "- The 1st child receives [6,1] which has a total of 6 + 1 = 7 cookies.\n",
    "- The 2nd child receives [3,2,2] which has a total of 3 + 2 + 2 = 7 cookies.\n",
    "- The 3rd child receives [4,1,2] which has a total of 4 + 1 + 2 = 7 cookies.\n",
    "\n",
    "The unfairness of the distribution is max(7,7,7) = 7.\n",
    "It can be shown that there is no distribution with an unfairness less than 7."
   ]
  },
  {
   "cell_type": "code",
   "execution_count": null,
   "id": "2144a6d9",
   "metadata": {},
   "outputs": [],
   "source": []
  }
 ],
 "metadata": {
  "kernelspec": {
   "display_name": "Python 3 (ipykernel)",
   "language": "python",
   "name": "python3"
  },
  "language_info": {
   "codemirror_mode": {
    "name": "ipython",
    "version": 3
   },
   "file_extension": ".py",
   "mimetype": "text/x-python",
   "name": "python",
   "nbconvert_exporter": "python",
   "pygments_lexer": "ipython3",
   "version": "3.7.11"
  }
 },
 "nbformat": 4,
 "nbformat_minor": 5
}
