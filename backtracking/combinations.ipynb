{
 "cells": [
  {
   "cell_type": "markdown",
   "id": "fc7eadeb",
   "metadata": {},
   "source": [
    "# Overview\n",
    "\n",
    "https://leetcode.com/problems/combinations/\n",
    "\n",
    "Given two integers n and k, return all possible combinations of k numbers chosen from the range [1, n].\n",
    "\n",
    "You may return the answer in any order.\n",
    "\n",
    " \n",
    "\n",
    "## Example 1:\n",
    "\n",
    "Input: n = 4, k = 2\n",
    "\n",
    "Output: [[1,2],[1,3],[1,4],[2,3],[2,4],[3,4]]\n",
    "\n",
    "Explanation: There are 4 choose 2 = 6 total combinations.\n",
    "Note that combinations are unordered, i.e., [1,2] and [2,1] are considered to be the same combination.\n",
    "\n",
    "\n",
    "## Example 2:\n",
    "\n",
    "Input: n = 1, k = 1\n",
    "\n",
    "Output: [[1]]\n",
    "\n",
    "Explanation: There is 1 choose 1 = 1 total combination.\n",
    "\n",
    "# Solution\n",
    "\n",
    "![backtracking tree](combinations.png)"
   ]
  },
  {
   "cell_type": "code",
   "execution_count": 1,
   "id": "c30e7389",
   "metadata": {},
   "outputs": [],
   "source": [
    "from typing import List"
   ]
  },
  {
   "cell_type": "code",
   "execution_count": 40,
   "id": "1702451c",
   "metadata": {},
   "outputs": [
    {
     "data": {
      "text/plain": [
       "[[1, 2], [1, 3], [1, 4], [2, 3], [2, 4], [3, 4]]"
      ]
     },
     "execution_count": 40,
     "metadata": {},
     "output_type": "execute_result"
    }
   ],
   "source": [
    "class Combinations:\n",
    "    \n",
    "    def __init__(self, n, k):\n",
    "        self.n = n\n",
    "        self.k = k\n",
    "        self.res = []\n",
    "        \n",
    "    def is_a_solution(self, a, i):\n",
    "        res = (i+1) == self.k\n",
    "#         print(f\"is_a_solution: a:{a[:i+1]} i: {i} self.k{self.k} -> {res}\")\n",
    "        return res\n",
    "    \n",
    "    def process_solution(self, a, i):\n",
    "        self.res.append(a[:i+1])\n",
    "    \n",
    "    def construct_candidates(self, a, i) -> List[int]:\n",
    "        res = []\n",
    "\n",
    "        if i == 0:\n",
    "            return [i for i in range(1, self.n+1)]\n",
    "\n",
    "        last = a[i-1]\n",
    "#         print(f\"last: {last}\")\n",
    "        for j in range(last+1, self.n+1):\n",
    "            res.append(j)\n",
    "        return res\n",
    "\n",
    "    def backtrack(self, a, i):\n",
    "        if self.is_a_solution(a, i):\n",
    "            self.process_solution(a, i)\n",
    "        else:\n",
    "            i += 1\n",
    "            c = self.construct_candidates(a, i)\n",
    "            for cv in c:\n",
    "#                 print(f\"backtrack i: {i}\")\n",
    "                a[i] = cv\n",
    "                self.backtrack(a, i)\n",
    "    \n",
    "    def get_result(self):\n",
    "        a = [None] * self.n\n",
    "        self.backtrack(a, -1)\n",
    "        return self.res\n",
    "\n",
    "assert Combinations(4,2).construct_candidates([None,None], i=0) == [1,2,3,4]    \n",
    "assert Combinations(4,2).construct_candidates([1,None], i=1) == [2,3,4]\n",
    "assert Combinations(4,2).construct_candidates([2,None], i=1) == [3,4]\n",
    "assert Combinations(4,2).construct_candidates([3,None], i=1) == [4]\n",
    "assert Combinations(4,2).construct_candidates([4,None], i=1) == []\n",
    "\n",
    "Combinations(4,2).get_result()"
   ]
  },
  {
   "cell_type": "code",
   "execution_count": null,
   "id": "5472db9a",
   "metadata": {},
   "outputs": [],
   "source": []
  }
 ],
 "metadata": {
  "kernelspec": {
   "display_name": "Python 3 (ipykernel)",
   "language": "python",
   "name": "python3"
  },
  "language_info": {
   "codemirror_mode": {
    "name": "ipython",
    "version": 3
   },
   "file_extension": ".py",
   "mimetype": "text/x-python",
   "name": "python",
   "nbconvert_exporter": "python",
   "pygments_lexer": "ipython3",
   "version": "3.7.11"
  }
 },
 "nbformat": 4,
 "nbformat_minor": 5
}
