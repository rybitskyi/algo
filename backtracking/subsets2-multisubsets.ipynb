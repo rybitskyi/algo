{
 "cells": [
  {
   "cell_type": "markdown",
   "id": "c6a0b20e",
   "metadata": {},
   "source": [
    "# Overview\n",
    "\n",
    "https://leetcode.com/problems/subsets-ii/\n",
    "    \n",
    "Given an integer array nums that may contain duplicates, return all possible \n",
    "subsets\n",
    " (the power set).\n",
    "\n",
    "The solution set must not contain duplicate subsets. Return the solution in any order.\n",
    "\n",
    " \n",
    "\n",
    "## Example 1:\n",
    "\n",
    "Input: nums = [1,2,2]\n",
    "\n",
    "Output: [[],[1],[1,2],[1,2,2],[2],[2,2]]\n",
    "\n",
    "\n",
    "## Example 2:\n",
    "\n",
    "Input: nums = [0]\n",
    "\n",
    "Output: [[],[0]]\n"
   ]
  },
  {
   "cell_type": "code",
   "execution_count": 76,
   "id": "1bc33b36",
   "metadata": {},
   "outputs": [
    {
     "data": {
      "text/plain": [
       "[[], [1], [1, 2], [1, 2, 2], [2], [2, 2]]"
      ]
     },
     "execution_count": 76,
     "metadata": {},
     "output_type": "execute_result"
    }
   ],
   "source": [
    "class MultiSetSubsets:\n",
    "    \n",
    "    def __init__(self, data):\n",
    "        self.data = sorted(data)\n",
    "        self.n = len(self.data)\n",
    "        self.res = []\n",
    "\n",
    "    def is_a_solution(self, a, k):\n",
    "        return k < self.n\n",
    "\n",
    "    def process_solution(self, a, k):\n",
    "#         print(f\"[{k}] process_solution -> {a[:k+1]}\")\n",
    "\n",
    "        res = list(map(lambda x: self.data[x], a[:k+1]))\n",
    "        self.res.append(res)\n",
    "    \n",
    "    def construct_candidates(self, a, k):\n",
    "        res = []\n",
    "\n",
    "        last = a[k-1]\n",
    "\n",
    "        j = last + 1 if last is not None else 0\n",
    "\n",
    "\n",
    "        if j >= self.n:\n",
    "            return res\n",
    "\n",
    "        res.append(j)\n",
    "        # print(f\"[{k}] 2222 construct_candidates a:{a[:k]} last: {last} res: {res}\")\n",
    "        prev_v = self.data[j]\n",
    "        for i in range(j+1,self.n):\n",
    "            if self.data[i] == prev_v:\n",
    "                continue\n",
    "\n",
    "            res.append(i)\n",
    "            prev_v = self.data[i]            \n",
    "\n",
    "#             print(f\"[{k}] construct_candidates {a[:k+1]} -> {res}\")\n",
    "\n",
    "        return res\n",
    "    \n",
    "    def backtrack(self, a, k):\n",
    "#         print(f\"[{k}] backtrack {a[:k+1]}\")\n",
    "\n",
    "        if not self.is_a_solution(a, k):\n",
    "            return\n",
    "\n",
    "        self.process_solution(a, k)\n",
    "\n",
    "        k += 1\n",
    "        if k < (self.n):\n",
    "            c = self.construct_candidates(a, k)\n",
    "            for cv in c:\n",
    "                a[k] = cv\n",
    "                self.backtrack(a, k)\n",
    "\n",
    "    def get_result(self):\n",
    "        a = [None] * self.n\n",
    "        self.backtrack(a, -1)\n",
    "        return self.res\n",
    "\n",
    "MultiSetSubsets([1,2,2]).get_result()"
   ]
  },
  {
   "cell_type": "code",
   "execution_count": null,
   "id": "4ffa0feb",
   "metadata": {},
   "outputs": [],
   "source": []
  }
 ],
 "metadata": {
  "kernelspec": {
   "display_name": "Python 3 (ipykernel)",
   "language": "python",
   "name": "python3"
  },
  "language_info": {
   "codemirror_mode": {
    "name": "ipython",
    "version": 3
   },
   "file_extension": ".py",
   "mimetype": "text/x-python",
   "name": "python",
   "nbconvert_exporter": "python",
   "pygments_lexer": "ipython3",
   "version": "3.7.11"
  }
 },
 "nbformat": 4,
 "nbformat_minor": 5
}
