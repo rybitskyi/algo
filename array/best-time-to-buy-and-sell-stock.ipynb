{
 "cells": [
  {
   "cell_type": "markdown",
   "id": "f3052941",
   "metadata": {},
   "source": [
    "# Overview\n",
    "\n",
    "https://leetcode.com/problems/best-time-to-buy-and-sell-stock\n",
    "\n",
    "You are given an array prices where prices[i] is the price of a given stock on the ith day.\n",
    "\n",
    "You want to maximize your profit by choosing a single day to buy one stock and choosing a different day in the future to sell that stock.\n",
    "\n",
    "Return the maximum profit you can achieve from this transaction. \n",
    "If you cannot achieve any profit, return 0.\n",
    "\n",
    " \n",
    "\n",
    "## Example 1:\n",
    "\n",
    "### Input: prices = [7,1,5,3,6,4]\n",
    "### Output: 5\n",
    "Explanation: Buy on day 2 (price = 1) and sell on day 5 (price = 6), profit = 6-1 = 5.\n",
    "Note that buying on day 2 and selling on day 1 is not allowed because you must buy before you sell.\n",
    "\n",
    "## Example 2:\n",
    "\n",
    "Input: prices = [7,6,4,3,1]\n",
    "Output: 0\n",
    "Explanation: In this case, no transactions are done and the max profit = 0.\n",
    " \n",
    "\n",
    "## Constraints:\n",
    "\n",
    "1 <= prices.length <= 105\n",
    "0 <= prices[i] <= 104"
   ]
  },
  {
   "cell_type": "code",
   "execution_count": 3,
   "id": "a76a46ec",
   "metadata": {},
   "outputs": [],
   "source": [
    "from typing import List\n",
    "from collections import deque"
   ]
  },
  {
   "cell_type": "code",
   "execution_count": 11,
   "id": "0e6535cd",
   "metadata": {},
   "outputs": [
    {
     "name": "stdout",
     "output_type": "stream",
     "text": [
      "buy_price:1 sell_price:2 -> 1\n",
      "buy_price:1 sell_price:3 -> 2\n",
      "buy_price:1 sell_price:4 -> 3\n",
      "buy_price:1 sell_price:5 -> 4\n",
      "buy_price:2 sell_price:3 -> 4\n",
      "buy_price:2 sell_price:4 -> 4\n",
      "buy_price:2 sell_price:5 -> 4\n",
      "buy_price:3 sell_price:4 -> 4\n",
      "buy_price:3 sell_price:5 -> 4\n",
      "buy_price:4 sell_price:5 -> 4\n"
     ]
    },
    {
     "data": {
      "text/plain": [
       "4"
      ]
     },
     "execution_count": 11,
     "metadata": {},
     "output_type": "execute_result"
    }
   ],
   "source": [
    "def max_profit(prices: List[int]) -> int:\n",
    "    '''\n",
    "    1,2,3,4,5\n",
    "      \n",
    "    \n",
    "buy_price:1 sell_price:2 -> 1\n",
    "buy_price:1 sell_price:3 -> 2\n",
    "buy_price:1 sell_price:4 -> 3\n",
    "buy_price:1 sell_price:5 -> 4\n",
    "\n",
    "buy_price:2 sell_price:3 -> 4\n",
    "buy_price:2 sell_price:4 -> 4\n",
    "buy_price:2 sell_price:5 -> 4\n",
    "\n",
    "buy_price:3 sell_price:4 -> 4\n",
    "buy_price:3 sell_price:5 -> 4\n",
    "\n",
    "buy_price:4 sell_price:5 -> 4\n",
    "    \n",
    "    '''\n",
    "    n = len(prices)\n",
    "    profit = 0\n",
    "    for i in range(n-1):\n",
    "        buy_price = prices[i]\n",
    "        for j in range(i+1, n):\n",
    "            sell_price = prices[j]\n",
    "            profit = max(profit, sell_price - buy_price)\n",
    "            print(f\"buy_price:{buy_price} sell_price:{sell_price} -> {profit}\")\n",
    "    \n",
    "    return profit\n",
    "\n",
    "# 3\n",
    "# assert max_profit([1,2,3]) == 2\n",
    "# assert max_profit([3,2,5]) == 3\n",
    "max_profit([1,2,3,4,5])"
   ]
  },
  {
   "cell_type": "code",
   "execution_count": 52,
   "id": "f09dcadb",
   "metadata": {},
   "outputs": [
    {
     "data": {
      "text/plain": [
       "5"
      ]
     },
     "execution_count": 52,
     "metadata": {},
     "output_type": "execute_result"
    }
   ],
   "source": [
    "def max_profit(prices: List[int]) -> int:\n",
    "    min_price = float('inf')\n",
    "    profit = 0\n",
    "    for i in range(len(prices)):\n",
    "        min_price = min(prices[i], min_price)\n",
    "        if prices[i] - min_price > profit:\n",
    "            profit = prices[i] - min_price\n",
    "    return profit\n",
    "max_profit([1,2,3,4,5,2,6,3])\n",
    "# assert max_profit([2,1,4]) == 3"
   ]
  },
  {
   "cell_type": "code",
   "execution_count": null,
   "id": "72d1d643",
   "metadata": {},
   "outputs": [],
   "source": []
  },
  {
   "cell_type": "markdown",
   "id": "568892f9",
   "metadata": {},
   "source": [
    "# Monotonic Stack\n",
    "\n",
    "The implementation of monotonick stack typically involves pushing elements onto the stack while maintaining the monotonic property."
   ]
  },
  {
   "cell_type": "code",
   "execution_count": 29,
   "id": "4c4f1f35",
   "metadata": {},
   "outputs": [
    {
     "data": {
      "text/plain": [
       "[-1, -1, 3, 3, -1]"
      ]
     },
     "execution_count": 29,
     "metadata": {},
     "output_type": "execute_result"
    }
   ],
   "source": [
    "def next_greater_element(nums: List[int]) -> int:\n",
    "    st = []\n",
    "    res = [-1] * len(nums)\n",
    "    \n",
    "    for i in range(len(nums)):\n",
    "        while st and nums[i] > nums[st[-1]]:\n",
    "            res[st.pop()] = nums[i]\n",
    "        \n",
    "        st.append(i)\n",
    "        \n",
    "#         print(f\"[{i}] -> {st} {res}\")\n",
    "    \n",
    "    return res\n",
    "\n",
    "# we should find the next max value\n",
    "# next_greater_element([1,2,3,4,5])\n",
    "\n",
    "# - Find max value from monotonic stack\n",
    "# - Find min for that values\n",
    "# - to calculate max profit\n",
    "next_greater_element([4,3,2,1,3])"
   ]
  },
  {
   "cell_type": "code",
   "execution_count": null,
   "id": "4d5fbdac",
   "metadata": {},
   "outputs": [],
   "source": []
  }
 ],
 "metadata": {
  "kernelspec": {
   "display_name": "Python 3 (ipykernel)",
   "language": "python",
   "name": "python3"
  },
  "language_info": {
   "codemirror_mode": {
    "name": "ipython",
    "version": 3
   },
   "file_extension": ".py",
   "mimetype": "text/x-python",
   "name": "python",
   "nbconvert_exporter": "python",
   "pygments_lexer": "ipython3",
   "version": "3.7.11"
  }
 },
 "nbformat": 4,
 "nbformat_minor": 5
}
