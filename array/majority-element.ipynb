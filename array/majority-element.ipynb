{
 "cells": [
  {
   "cell_type": "markdown",
   "id": "f68afd5b",
   "metadata": {},
   "source": [
    "# Overview\n",
    "\n",
    "https://leetcode.com/problems/majority-element/editorial/?envType=study-plan-v2&envId=top-interview-150\n",
    "\n",
    "Given an array nums of size n, return the majority element.\n",
    "\n",
    "The majority element is the element that appears more than ⌊n / 2⌋ times. You may assume that the majority element always exists in the array.\n",
    "\n",
    " \n",
    "\n",
    "Example 1:\n",
    "\n",
    "Input: nums = [3,2,3]\n",
    "Output: 3\n",
    "Example 2:\n",
    "\n",
    "Input: nums = [2,2,1,1,1,2,2]\n",
    "Output: 2"
   ]
  },
  {
   "cell_type": "markdown",
   "id": "d0fa6280",
   "metadata": {},
   "source": [
    "# Boyer-Moore Voting Algorithm"
   ]
  },
  {
   "cell_type": "code",
   "execution_count": 2,
   "id": "51e31885",
   "metadata": {},
   "outputs": [
    {
     "data": {
      "text/plain": [
       "1"
      ]
     },
     "execution_count": 2,
     "metadata": {},
     "output_type": "execute_result"
    }
   ],
   "source": [
    "#5,5,5, 4, 3\n",
    "sum([1,1,1,-1,-1])"
   ]
  },
  {
   "cell_type": "code",
   "execution_count": null,
   "id": "5e69bff5",
   "metadata": {},
   "outputs": [],
   "source": []
  },
  {
   "cell_type": "code",
   "execution_count": null,
   "id": "9a9c27f9",
   "metadata": {},
   "outputs": [],
   "source": [
    "def majorityElement(self, nums: List[int]) -> int:\n",
    "    cnt = Counter(nums)\n",
    "    return cnt.most_common(1)[0][0]"
   ]
  }
 ],
 "metadata": {
  "kernelspec": {
   "display_name": "Python 3 (ipykernel)",
   "language": "python",
   "name": "python3"
  },
  "language_info": {
   "codemirror_mode": {
    "name": "ipython",
    "version": 3
   },
   "file_extension": ".py",
   "mimetype": "text/x-python",
   "name": "python",
   "nbconvert_exporter": "python",
   "pygments_lexer": "ipython3",
   "version": "3.7.11"
  }
 },
 "nbformat": 4,
 "nbformat_minor": 5
}
