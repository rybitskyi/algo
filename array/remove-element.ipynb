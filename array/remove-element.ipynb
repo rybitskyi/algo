{
 "cells": [
  {
   "cell_type": "markdown",
   "id": "e9e506d9",
   "metadata": {},
   "source": [
    "# Overview\n",
    "\n",
    "https://leetcode.com/problems/remove-element/description/\n",
    "\n",
    "Given an integer array nums and an integer val, remove all occurrences of val in nums in-place. The order of the elements may be changed. Then return the number of elements in nums which are not equal to val.\n",
    "\n",
    "Consider the number of elements in nums which are not equal to val be k, to get accepted, you need to do the following things:\n",
    "\n",
    "Change the array nums such that the first k elements of nums contain the elements which are not equal to val. The remaining elements of nums are not important as well as the size of nums.\n",
    "Return k.\n",
    "Custom Judge:\n",
    "\n",
    "The judge will test your solution with the following code:\n",
    "\n",
    "int[] nums = [...]; // Input array\n",
    "int val = ...; // Value to remove\n",
    "int[] expectedNums = [...]; // The expected answer with correct length.\n",
    "                            // It is sorted with no values equaling val.\n",
    "\n",
    "int k = removeElement(nums, val); // Calls your implementation\n",
    "\n",
    "assert k == expectedNums.length;\n",
    "sort(nums, 0, k); // Sort the first k elements of nums\n",
    "for (int i = 0; i < actualLength; i++) {\n",
    "    assert nums[i] == expectedNums[i];\n",
    "}\n",
    "If all assertions pass, then your solution will be accepted.\n",
    "\n",
    " \n",
    "\n",
    "Example 1:\n",
    "\n",
    "Input: nums = [3,2,2,3], val = 3\n",
    "Output: 2, nums = [2,2,_,_]\n",
    "Explanation: Your function should return k = 2, with the first two elements of nums being 2.\n",
    "It does not matter what you leave beyond the returned k (hence they are underscores).\n",
    "Example 2:\n",
    "\n",
    "Input: nums = [0,1,2,2,3,0,4,2], val = 2\n",
    "Output: 5, nums = [0,1,4,0,3,_,_,_]\n",
    "Explanation: Your function should return k = 5, with the first five elements of nums containing 0, 0, 1, 3, and 4.\n",
    "Note that the five elements can be returned in any order.\n",
    "It does not matter what you leave beyond the returned k (hence they are underscores).\n"
   ]
  },
  {
   "cell_type": "code",
   "execution_count": 2,
   "id": "50a9d69f",
   "metadata": {},
   "outputs": [],
   "source": [
    "from typing import List"
   ]
  },
  {
   "cell_type": "code",
   "execution_count": 10,
   "id": "4b355855",
   "metadata": {},
   "outputs": [
    {
     "data": {
      "text/plain": [
       "([1, 2, 3, 4], 3)"
      ]
     },
     "execution_count": 10,
     "metadata": {},
     "output_type": "execute_result"
    }
   ],
   "source": [
    "def remove_element(nums: List[int], val: int) -> int:\n",
    "    k = 0\n",
    "    for j, v in enumerate(nums):\n",
    "        if v != val:\n",
    "            nums[k] = nums[j]\n",
    "#             print(f\"overrride k: {k}\")\n",
    "            k += 1\n",
    "#         print(f\"[{j}] k:{k} -> {nums}\")\n",
    "    return (nums, k)\n",
    "\n",
    "remove_element([1,2,3,4], 4)"
   ]
  },
  {
   "cell_type": "code",
   "execution_count": 15,
   "id": "8633f93a",
   "metadata": {},
   "outputs": [
    {
     "data": {
      "text/plain": [
       "([1, 2, 3, 4], 3)"
      ]
     },
     "execution_count": 15,
     "metadata": {},
     "output_type": "execute_result"
    }
   ],
   "source": [
    "def remove_element(nums: List[int], val: int) -> int:\n",
    "    i = 0\n",
    "    n = len(nums)\n",
    "    while i < n:\n",
    "        if nums[i] == val:\n",
    "            nums[i], nums[n-1] = nums[n-1], nums[i]\n",
    "            n -= 1\n",
    "        else:\n",
    "            i += 1\n",
    "    return (nums, i)\n",
    "\n",
    "remove_element([1,2,3,4], 4)"
   ]
  },
  {
   "cell_type": "code",
   "execution_count": null,
   "id": "c8ea54e9",
   "metadata": {},
   "outputs": [],
   "source": []
  }
 ],
 "metadata": {
  "kernelspec": {
   "display_name": "Python 3 (ipykernel)",
   "language": "python",
   "name": "python3"
  },
  "language_info": {
   "codemirror_mode": {
    "name": "ipython",
    "version": 3
   },
   "file_extension": ".py",
   "mimetype": "text/x-python",
   "name": "python",
   "nbconvert_exporter": "python",
   "pygments_lexer": "ipython3",
   "version": "3.7.11"
  }
 },
 "nbformat": 4,
 "nbformat_minor": 5
}
