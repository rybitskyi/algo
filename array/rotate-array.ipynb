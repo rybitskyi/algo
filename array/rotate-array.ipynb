{
 "cells": [
  {
   "cell_type": "markdown",
   "id": "d26ffec1",
   "metadata": {},
   "source": [
    "# Overview\n",
    "\n",
    "https://leetcode.com/problems/rotate-array\n",
    "\n",
    "Given an integer array nums, rotate the array to the right by k steps, where k is non-negative.\n",
    "\n",
    " \n",
    "\n",
    "## Example 1:\n",
    "\n",
    "Input: nums = [1,2,3,4,5,6,7], k = 3\n",
    "Output: [5,6,7,1,2,3,4]\n",
    "Explanation:\n",
    "rotate 1 steps to the right: [7,1,2,3,4,5,6]\n",
    "rotate 2 steps to the right: [6,7,1,2,3,4,5]\n",
    "rotate 3 steps to the right: [5,6,7,1,2,3,4]\n",
    "\n",
    "\n",
    "## Example 2:\n",
    "\n",
    "Input: nums = [-1,-100,3,99], k = 2\n",
    "Output: [3,99,-1,-100]\n",
    "### Explanation: \n",
    "- rotate 1 steps to the right: [99,-1,-100,3]\n",
    "- rotate 2 steps to the right: [3,99,-1,-100]\n"
   ]
  },
  {
   "cell_type": "code",
   "execution_count": 2,
   "id": "c1fd5fbc",
   "metadata": {},
   "outputs": [],
   "source": [
    "from typing import List"
   ]
  },
  {
   "cell_type": "code",
   "execution_count": 17,
   "id": "928bed26",
   "metadata": {},
   "outputs": [
    {
     "name": "stdout",
     "output_type": "stream",
     "text": [
      "[0] -> [99, -1, -100, 3]\n",
      "[1] -> [3, 99, -1, -100]\n"
     ]
    },
    {
     "data": {
      "text/plain": [
       "[3, 99, -1, -100]"
      ]
     },
     "execution_count": 17,
     "metadata": {},
     "output_type": "execute_result"
    }
   ],
   "source": [
    "def rotate(nums: List[int], k: int) -> None:\n",
    "        \"\"\"\n",
    "        Do not return anything, modify nums in-place instead.\n",
    "\n",
    "        [1,2,3,4,5,6,7] k=3\n",
    "        [2,3,4,5,6,7,1]\n",
    "\n",
    "        \"\"\"\n",
    "        n = len(nums)\n",
    "\n",
    "        for i in range(k):\n",
    "            v0 = nums[n-1]\n",
    "            for j in reversed(range(1,n)):\n",
    "                nums[j] = nums[j-1]\n",
    "            nums[0] = v0\n",
    "            print(f\"[{i}] -> {nums}\")\n",
    "\n",
    "# nums = [1,2,3,4,5]\n",
    "\n",
    "nums =                           [-1,-100,3,99]\n",
    "\n",
    "# - rotate 1 steps to the right: [99,-1,-100,3]\n",
    "# - rotate 2 steps to the right: [3,99,-1,-100]\n",
    "\n",
    "# Output: [3,99,-1,-100]\n",
    "\n",
    "\n",
    "rotate(nums, 2)\n",
    "nums"
   ]
  },
  {
   "cell_type": "code",
   "execution_count": 19,
   "id": "34a18c97",
   "metadata": {},
   "outputs": [
    {
     "data": {
      "text/plain": [
       "[7, 6, 5, 4, 3, 2, 1]"
      ]
     },
     "execution_count": 19,
     "metadata": {},
     "output_type": "execute_result"
    }
   ],
   "source": [
    "# [5,6,7,1,2,3,4]\n",
    "nums = [1,2,3,4,5,6,7]\n",
    "list(reversed(nums))"
   ]
  },
  {
   "cell_type": "markdown",
   "id": "2bb3d529",
   "metadata": {},
   "source": [
    "```\n",
    "1,2,3,4,5,6,7\n",
    "5,6,7,1,2,3,4\n",
    "\n",
    "7,6,5,4,3,2,1\n",
    "5,6,7,1,2,3,4\n",
    "\n",
    "```"
   ]
  },
  {
   "cell_type": "code",
   "execution_count": null,
   "id": "94266a59",
   "metadata": {},
   "outputs": [],
   "source": []
  },
  {
   "cell_type": "code",
   "execution_count": 101,
   "id": "a1fb771b",
   "metadata": {},
   "outputs": [],
   "source": [
    "def reverse(nums, start: int, end: int):\n",
    "#     print(nums)\n",
    "    k = 0\n",
    "    for i in range(start, (start+end)//2+1):\n",
    "#         print(f\"i:{i} -> {nums}\")\n",
    "        # nums[3] = nums[6]\n",
    "        nums[start+k],nums[end-k] = nums[end-k],nums[start+k]\n",
    "        k += 1"
   ]
  },
  {
   "cell_type": "code",
   "execution_count": 92,
   "id": "d86b44fe",
   "metadata": {},
   "outputs": [
    {
     "name": "stdout",
     "output_type": "stream",
     "text": [
      "[1, 2, 3, 4]\n",
      "i:0 -> [1, 2, 3, 4]\n",
      "i:1 -> [4, 2, 3, 1]\n",
      "[1, 2, 3, 4, 5, 6, 7]\n",
      "i:0 -> [1, 2, 3, 4, 5, 6, 7]\n",
      "i:1 -> [7, 2, 3, 4, 5, 6, 1]\n",
      "i:2 -> [7, 6, 3, 4, 5, 2, 1]\n",
      "i:3 -> [7, 6, 5, 4, 3, 2, 1]\n",
      "[5, 6, 7, 4, 3, 2, 1]\n",
      "i:3 -> [5, 6, 7, 4, 3, 2, 1]\n",
      "i:4 -> [5, 6, 7, 1, 3, 2, 4]\n"
     ]
    }
   ],
   "source": [
    "def reverse2(nums, start: int, end: int):\n",
    "    reverse(nums, start, end)\n",
    "    return nums\n",
    "\n",
    "assert reverse2([1,2,3,4], 0, 3) == [4,3,2,1]\n",
    "assert reverse2([1,2,3,4,5,6,7], 0, 6) == [7,6,5,4,3,2,1]\n",
    "assert reverse2([5, 6, 7, 4, 3, 2, 1], 3, 6) == [5,6,7,1,2,3,4]"
   ]
  },
  {
   "cell_type": "code",
   "execution_count": null,
   "id": "985a253a",
   "metadata": {},
   "outputs": [],
   "source": []
  },
  {
   "cell_type": "code",
   "execution_count": 104,
   "id": "0d27b954",
   "metadata": {},
   "outputs": [
    {
     "data": {
      "text/plain": [
       "[-1]"
      ]
     },
     "execution_count": 104,
     "metadata": {},
     "output_type": "execute_result"
    }
   ],
   "source": [
    "# [1,2,3,4,5,6,7], k = 3\n",
    "# Output: [5,6,7,1,2,3,4]\n",
    "'''\n",
    "init:  1,2,3,4,5,6,7\n",
    "\n",
    "step1: 7,6,5,4,3,2,1\n",
    "step2: 5,6,7,1,2,3,4\n",
    "'''\n",
    "\n",
    "#nums = [1,2,3,4,5,6,7]\n",
    "nums = [-1]\n",
    "\n",
    "def rotate(nums: List[int], k: int) -> None:\n",
    "    reverse(nums, 0, len(nums)-1)\n",
    "    reverse(nums, 0, k-1)\n",
    "    reverse(nums, k, len(nums)-1)\n",
    "    \n",
    "rotate(nums, 2%1)\n",
    "nums"
   ]
  },
  {
   "cell_type": "code",
   "execution_count": null,
   "id": "03fc9b4f",
   "metadata": {},
   "outputs": [],
   "source": []
  },
  {
   "cell_type": "code",
   "execution_count": null,
   "id": "9459b7aa",
   "metadata": {},
   "outputs": [],
   "source": []
  }
 ],
 "metadata": {
  "kernelspec": {
   "display_name": "Python 3 (ipykernel)",
   "language": "python",
   "name": "python3"
  },
  "language_info": {
   "codemirror_mode": {
    "name": "ipython",
    "version": 3
   },
   "file_extension": ".py",
   "mimetype": "text/x-python",
   "name": "python",
   "nbconvert_exporter": "python",
   "pygments_lexer": "ipython3",
   "version": "3.7.11"
  }
 },
 "nbformat": 4,
 "nbformat_minor": 5
}
