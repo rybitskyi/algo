{
 "cells": [
  {
   "cell_type": "markdown",
   "id": "8d57b91d",
   "metadata": {},
   "source": [
    "# Overview\n",
    "\n",
    "https://leetcode.com/problems/interval-list-intersections/ "
   ]
  },
  {
   "cell_type": "code",
   "execution_count": 21,
   "id": "a032cb49",
   "metadata": {},
   "outputs": [],
   "source": [
    "from types import SimpleNamespace"
   ]
  },
  {
   "cell_type": "code",
   "execution_count": 55,
   "id": "5eaed0af",
   "metadata": {},
   "outputs": [
    {
     "data": {
      "text/plain": [
       "[[7, 13], [16, 20]]"
      ]
     },
     "execution_count": 55,
     "metadata": {},
     "output_type": "execute_result"
    }
   ],
   "source": [
    "class IntervalListIntersections:\n",
    "\n",
    "    def __init__(self, list1, list2):\n",
    "        self.list1 = list1\n",
    "        self.list2 = list2\n",
    "    \n",
    "    def get_intervals(self):\n",
    "        prev_a, prev_b = None, None\n",
    "        for a,b in zip(self.list1, self.list2):\n",
    "            if prev_a is not None and prev_b is not None and prev_b[1] == a[0]:\n",
    "                yield((prev_b[1], a[0]))\n",
    "            yield((max(a[0], b[0]), min(a[1], b[1])))\n",
    "            prev_a, prev_b = a,b\n",
    "            \n",
    "\n",
    "\n",
    "    \n",
    "# list(IntervalListIntersections(\n",
    "#     [[0,2],[5,10],[13,23],[24,25]], \n",
    "#     [[1,5],[8,12],[15,24],[25,26]]\n",
    "# ).get_intervals())\n",
    "\n",
    "[[14,16]],\n",
    "[[7,13],[16,20]]\n",
    "\n",
    "# Output: [[1,2],[5,5],[8,10],[15,23],[24,24],[25,25]]"
   ]
  },
  {
   "cell_type": "code",
   "execution_count": null,
   "id": "b3b39582",
   "metadata": {},
   "outputs": [],
   "source": []
  }
 ],
 "metadata": {
  "kernelspec": {
   "display_name": "Python 3 (ipykernel)",
   "language": "python",
   "name": "python3"
  },
  "language_info": {
   "codemirror_mode": {
    "name": "ipython",
    "version": 3
   },
   "file_extension": ".py",
   "mimetype": "text/x-python",
   "name": "python",
   "nbconvert_exporter": "python",
   "pygments_lexer": "ipython3",
   "version": "3.7.11"
  }
 },
 "nbformat": 4,
 "nbformat_minor": 5
}
