{
 "cells": [
  {
   "cell_type": "markdown",
   "id": "b71ddf17",
   "metadata": {},
   "source": [
    "# Overview\n",
    "\n",
    "Sliding Window Pattern\n",
    "\n",
    "[csgator](hhttps://medium.com/leetcode-patterns/leetcode-pattern-2-sliding-windows-for-strings-e19af105316b)\n",
    "\n",
    "[Tim Park](https://medium.com/@timpark0807/leetcode-is-easy-sliding-window-c44c11cc33e1)\n",
    "\n",
    "https://leetcode.com/problems/find-all-anagrams-in-a-string/solutions/92007/sliding-window-algorithm-template-to-solve-all-the-leetcode-substring-search-problem/"
   ]
  },
  {
   "cell_type": "code",
   "execution_count": 1,
   "id": "45a0bcb2",
   "metadata": {},
   "outputs": [],
   "source": [
    "from typing import List"
   ]
  },
  {
   "cell_type": "markdown",
   "id": "abf9493e",
   "metadata": {},
   "source": [
    "## Problem 1 - Max Subarray Sum\n",
    "\n",
    "Given an array of integers of size n.\n",
    "Our aim is to calculate the maximum sum possible for `k` consecutive elements in the array."
   ]
  },
  {
   "cell_type": "code",
   "execution_count": 22,
   "id": "c89dc0f9",
   "metadata": {},
   "outputs": [
    {
     "name": "stdout",
     "output_type": "stream",
     "text": [
      "[0] -> [100, 200, 300, 400]\n",
      "[1] -> [200, 300, 400, 500]\n",
      "[2] -> [300, 400, 500, 600]\n",
      "[3] -> [400, 500, 600, 700]\n",
      "[4] -> [500, 600, 700, 800]\n"
     ]
    },
    {
     "data": {
      "text/plain": [
       "2600"
      ]
     },
     "execution_count": 22,
     "metadata": {},
     "output_type": "execute_result"
    }
   ],
   "source": [
    "def max_sum(arr, k: int) -> int:\n",
    "    res = float('-inf')\n",
    "    \n",
    "    n = len(arr)\n",
    "    \n",
    "    for i in range(n-k+1):\n",
    "        vals = arr[i:i+k]\n",
    "        print(f\"[{i}] -> {vals}\")\n",
    "        \n",
    "        res = max(res, sum(vals)) \n",
    "        \n",
    "    \n",
    "    return res\n",
    "\n",
    "max_sum([100,200,300,400,500,600,700,800], 4)"
   ]
  },
  {
   "cell_type": "code",
   "execution_count": 23,
   "id": "ba409763",
   "metadata": {},
   "outputs": [
    {
     "name": "stdout",
     "output_type": "stream",
     "text": [
      "[100, 200, 300, 400]\n",
      "[200, 300, 400, 500]\n",
      "[300, 400, 500, 600]\n",
      "[400, 500, 600, 700]\n",
      "[500, 600, 700, 800]\n"
     ]
    },
    {
     "data": {
      "text/plain": [
       "2600"
      ]
     },
     "execution_count": 23,
     "metadata": {},
     "output_type": "execute_result"
    }
   ],
   "source": [
    "'''\n",
    "Sliding Window\n",
    "'''\n",
    "def max_sum(arr, k: int) -> int:\n",
    "    n = len(arr)\n",
    "    res = float('-inf')\n",
    "\n",
    "    for i in range(n-k+1):\n",
    "        x = slice(i, i+k)\n",
    "        print(arr[x])\n",
    "        res = max(res, sum(arr[x]))\n",
    "    \n",
    "    return res\n",
    "\n",
    "max_sum([100,200,300,400,500,600,700,800], 4)"
   ]
  },
  {
   "cell_type": "code",
   "execution_count": 19,
   "id": "e81dfd49",
   "metadata": {},
   "outputs": [
    {
     "data": {
      "text/plain": [
       "2600"
      ]
     },
     "execution_count": 19,
     "metadata": {},
     "output_type": "execute_result"
    }
   ],
   "source": [
    "500+600+700+800"
   ]
  },
  {
   "cell_type": "code",
   "execution_count": null,
   "id": "3ceb60c5",
   "metadata": {},
   "outputs": [],
   "source": []
  },
  {
   "cell_type": "code",
   "execution_count": null,
   "id": "bff3de24",
   "metadata": {},
   "outputs": [],
   "source": []
  },
  {
   "cell_type": "code",
   "execution_count": null,
   "id": "fb32df2f",
   "metadata": {},
   "outputs": [],
   "source": []
  },
  {
   "cell_type": "code",
   "execution_count": null,
   "id": "06e3bca9",
   "metadata": {},
   "outputs": [],
   "source": []
  },
  {
   "cell_type": "code",
   "execution_count": null,
   "id": "9ca5b096",
   "metadata": {},
   "outputs": [],
   "source": []
  },
  {
   "cell_type": "code",
   "execution_count": null,
   "id": "afc51b90",
   "metadata": {},
   "outputs": [],
   "source": []
  },
  {
   "cell_type": "code",
   "execution_count": 31,
   "id": "48b9a6de",
   "metadata": {},
   "outputs": [
    {
     "name": "stdout",
     "output_type": "stream",
     "text": [
      "[100, 200, 300, 400]\n",
      "[200, 300, 400, 500]\n",
      "[300, 400, 500, 600]\n",
      "[400, 500, 600, 700]\n",
      "[500, 600, 700, 800]\n"
     ]
    },
    {
     "data": {
      "text/plain": [
       "-inf"
      ]
     },
     "execution_count": 31,
     "metadata": {},
     "output_type": "execute_result"
    }
   ],
   "source": [
    "def max_sum(arr, k: int) -> int:\n",
    "    res = float('-inf')\n",
    "    n = len(arr)\n",
    "    \n",
    "    for i in range(n-k+1):\n",
    "        s = slice(i,i+k)\n",
    "        sub_arr = arr[s]\n",
    "        print(sub_arr)\n",
    "    \n",
    "    return res\n",
    "\n",
    "max_sum([100,200,300,400,500,600,700,800], 4)"
   ]
  },
  {
   "cell_type": "code",
   "execution_count": null,
   "id": "629e19a4",
   "metadata": {},
   "outputs": [],
   "source": [
    "s"
   ]
  }
 ],
 "metadata": {
  "kernelspec": {
   "display_name": "Python 3 (ipykernel)",
   "language": "python",
   "name": "python3"
  },
  "language_info": {
   "codemirror_mode": {
    "name": "ipython",
    "version": 3
   },
   "file_extension": ".py",
   "mimetype": "text/x-python",
   "name": "python",
   "nbconvert_exporter": "python",
   "pygments_lexer": "ipython3",
   "version": "3.7.11"
  }
 },
 "nbformat": 4,
 "nbformat_minor": 5
}
