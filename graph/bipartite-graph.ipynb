{
 "cells": [
  {
   "cell_type": "markdown",
   "id": "ec4290ba",
   "metadata": {},
   "source": [
    "# 20.2-7\n",
    "\n",
    "## Exercise\n",
    "```\n",
    "There are two types of professional wrestlers: \"babyfaces\" (\"good guys\") and \"heels\" (\"bad guys\"). Between any pair of professional wrestlers, there may or may not be a rivalry. Suppose we have nn professional wrestlers and we have a list of rr pairs of wrestlers for which there are rivalries. Give an O(n + r)O(n+r)-time algorithm that determines whether it is possible to designate some of the wrestlers as babyfaces and the remainder as heels such that each rivalry is between a babyface and a heel. If it is possible to perform such a designation, your algorithm should produce it.\n",
    "```\n",
    "\n",
    "## Answer\n",
    "\n",
    "http://www.cs.cmu.edu/afs/cs/academic/class/15451-s10/www/recitations/rec0318.txt\n",
    "\n",
    "https://walkccc.me/CLRS/Chap22/22.2/\n",
    "\n",
    "```\n",
    "This problem is basically just a obfuscated version of two coloring. \n",
    "\n",
    "We will try to color the vertices of this graph of rivalries by two colors, \"babyface\" and \"heel\". \n",
    "\n",
    "To have that no two babyfaces and no two heels have a rivalry is the same as saying that the coloring is proper. \n",
    "\n",
    "To two color, we perform a breadth first search of each connected component to get the `d` values for each vertex. \n",
    "\n",
    "Then, we give all the odd ones one color say \"heel\", and all the even d values a different color. \n",
    "\n",
    "We know that no other coloring will succeed where this one fails since if we gave any other coloring, we would have that a vertex vv has the same color as v.\\piv.π since vv and v.\\piv.π must have different parities for their dd values. Since we know that there is no better coloring, we just need to check each edge to see if this coloring is valid. If each edge works, it is possible to find a designation, if a single edge fails, then it is not possible. Since the BFS took time O(n + r)O(n+r) and the checking took time O(r)O(r), the total runtime is O(n + r)O(n+r).\n",
    "```"
   ]
  },
  {
   "cell_type": "code",
   "execution_count": 14,
   "id": "2fe96b04",
   "metadata": {},
   "outputs": [],
   "source": [
    "from typing import List\n",
    "from collections import defaultdict, deque"
   ]
  },
  {
   "cell_type": "code",
   "execution_count": 24,
   "id": "cb2ef9f7",
   "metadata": {},
   "outputs": [],
   "source": [
    "def allow_bipartitions(pairs: List[int]) -> bool:\n",
    "    g = defaultdict(set)\n",
    "    for u,v in pairs:\n",
    "        g[u].add(v)\n",
    "        g[v].add(u)\n",
    "    \n",
    "    # O(r)\n",
    "    for k,v in g.items():\n",
    "        print(f\"{k} -> {v}\")\n",
    "        \n",
    "    # O (n + r)\n",
    "    s = 0 # TODO: any random vertex\n",
    "    q = deque([s])\n",
    "    c = [None] * len(g)\n",
    "    c[s] = 0\n",
    "    while q:\n",
    "        n = q.popleft()\n",
    "        print(f\"n: {n}\")\n",
    "        for v in g[n]:\n",
    "            if c[v] is None:\n",
    "                c[v] = c[n] + 1\n",
    "                q.append(v)\n",
    "    \n",
    "    print(c)\n",
    "    \n",
    "    return False"
   ]
  },
  {
   "cell_type": "code",
   "execution_count": 25,
   "id": "8bf68409",
   "metadata": {},
   "outputs": [
    {
     "name": "stdout",
     "output_type": "stream",
     "text": [
      "0 -> {1, 4}\n",
      "1 -> {0, 2}\n",
      "2 -> {1, 3}\n",
      "3 -> {2}\n",
      "4 -> {0}\n",
      "n: 0\n",
      "n: 1\n",
      "n: 4\n",
      "n: 2\n",
      "n: 3\n",
      "[0, 1, 2, 3, 1]\n"
     ]
    },
    {
     "data": {
      "text/plain": [
       "False"
      ]
     },
     "execution_count": 25,
     "metadata": {},
     "output_type": "execute_result"
    }
   ],
   "source": [
    "allow_bipartitions([\n",
    "    [0,1],\n",
    "    [1,2],\n",
    "    [1,2],\n",
    "    [2,3],\n",
    "    [0,4],\n",
    "])"
   ]
  },
  {
   "cell_type": "code",
   "execution_count": null,
   "id": "b59afc34",
   "metadata": {},
   "outputs": [],
   "source": []
  },
  {
   "cell_type": "code",
   "execution_count": null,
   "id": "c8d259a3",
   "metadata": {},
   "outputs": [],
   "source": []
  },
  {
   "cell_type": "code",
   "execution_count": null,
   "id": "c4a78c16",
   "metadata": {},
   "outputs": [],
   "source": []
  },
  {
   "cell_type": "code",
   "execution_count": 26,
   "id": "39987285",
   "metadata": {},
   "outputs": [],
   "source": [
    "# https://leetcode.com/problems/possible-bipartition/discuss/2199247/Using-concept-of-Bipartite-graph-oror-BFS\n",
    "from collections import deque\n",
    "class Solution:\n",
    "    def isBipartite(self, i, graph, color):\n",
    "        color[i] = 1\n",
    "        queue = deque([(i)])\n",
    "        \n",
    "        while queue:\n",
    "            vertex = queue.popleft()\n",
    "            for neighbour in graph[vertex]:\n",
    "                if color[neighbour] == color[vertex]:\n",
    "                    return False\n",
    "                if color[neighbour] == -1:\n",
    "                    color[neighbour] = 1 - color[vertex]\n",
    "                    queue.append((neighbour))\n",
    "        return True\n",
    "        \n",
    "    def possibleBipartition(self, n: int, dislikes: List[List[int]]) -> bool:\n",
    "        color = [-1]*(n+1)\n",
    "        graph = {i:[] for i in range(1, n + 1)}\n",
    "        \n",
    "        for dislike in dislikes:\n",
    "            graph[dislike[0]].append(dislike[1])\n",
    "            graph[dislike[1]].append(dislike[0])\n",
    "        \n",
    "        \n",
    "        for i in range(1, n + 1):\n",
    "            if color[i] == -1:\n",
    "                if not self.isBipartite(i, graph, color):\n",
    "                    return False\n",
    "        return True"
   ]
  },
  {
   "cell_type": "code",
   "execution_count": null,
   "id": "71e9569d",
   "metadata": {},
   "outputs": [],
   "source": []
  }
 ],
 "metadata": {
  "kernelspec": {
   "display_name": "Python 3 (ipykernel)",
   "language": "python",
   "name": "python3"
  },
  "language_info": {
   "codemirror_mode": {
    "name": "ipython",
    "version": 3
   },
   "file_extension": ".py",
   "mimetype": "text/x-python",
   "name": "python",
   "nbconvert_exporter": "python",
   "pygments_lexer": "ipython3",
   "version": "3.7.11"
  }
 },
 "nbformat": 4,
 "nbformat_minor": 5
}
