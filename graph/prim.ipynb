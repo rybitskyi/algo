{
 "cells": [
  {
   "cell_type": "markdown",
   "id": "4132b872",
   "metadata": {},
   "source": [
    "# Overview\n",
    "\n",
    "## Minimum Spanning Trees\n",
    "A spanning tree of a connected graph G = (V, E) is a subset of edges from E forming a tree connecting all vercices of V.\n",
    "\n",
    "\n",
    "## Prim's Algorithm\n",
    "\n",
    "```\n",
    "def prim(g):\n",
    "    select an arbitrary vertex s to start the tree Tprim from\n",
    "    while (there are still non-tree vertices):\n",
    "        Find the minimum-weight edge between a tree and non-tree vertex\n",
    "        Add the selected edge and vertex to the tree Tprim\n",
    "```"
   ]
  },
  {
   "cell_type": "code",
   "execution_count": 95,
   "id": "b713380e",
   "metadata": {},
   "outputs": [
    {
     "name": "stdout",
     "output_type": "stream",
     "text": [
      "(0, [1, 2])\n",
      "(1, [3])\n",
      "(2, [3])\n",
      "(3, [1, 2])\n",
      "\n",
      "\n",
      "v:1 distance:[0, 1, 2, inf] in_tree:[True, False, False, False]]\n",
      "v:2 distance:[0, 1, 2, 4] in_tree:[True, True, False, False]]\n",
      "v:3 distance:[0, 1, 2, 4] in_tree:[True, True, True, False]]\n",
      "v:3 distance:[0, 1, 2, 4] in_tree:[True, True, True, True]]\n"
     ]
    },
    {
     "data": {
      "text/plain": [
       "7"
      ]
     },
     "execution_count": 95,
     "metadata": {},
     "output_type": "execute_result"
    }
   ],
   "source": [
    "class Prim:\n",
    "    def __init__(self, g):\n",
    "        self.g = g\n",
    "        self.n = len(self.g)\n",
    "        \n",
    "    def get_weight(self, u: int, v: int) -> int:\n",
    "        return u + v\n",
    "        \n",
    "    def get_mst(self):\n",
    "        in_tree = [False] * self.n\n",
    "        distance = [float('inf')] * self.n\n",
    "\n",
    "        # choose the first vertex as `s` vertex\n",
    "        start = 0\n",
    "        v = start\n",
    "        distance[start] = 0\n",
    "\n",
    "        # Find the minimum edge between tree and non-tree vertex\n",
    "        # v -  in tree vertex\n",
    "        while not in_tree[v]:\n",
    "            in_tree[v] = True\n",
    "            \n",
    "            for u in self.g[v]:\n",
    "                w = self.get_weight(v, u)\n",
    "                if distance[u] > w and not in_tree[u]:\n",
    "                    distance[u] = w\n",
    "\n",
    "            # Finding the next minimum edge weight between in-tree and out-tree sets\n",
    "            dist = float('inf')\n",
    "            for u in self.g:\n",
    "                if in_tree[u]:\n",
    "                    continue\n",
    "                if dist > distance[u]:\n",
    "                    dist = distance[u]\n",
    "                    v = u\n",
    "\n",
    "            print(f\"v:{v} distance:{distance} in_tree:{in_tree}]\")\n",
    "\n",
    "        return sum(distance)\n",
    "\n",
    "    \n",
    "g = {\n",
    "    0: [1,2],\n",
    "    1: [3],\n",
    "    2: [3],\n",
    "    3: [1,2],\n",
    "}\n",
    "\n",
    "for r in g.items():\n",
    "    print(r)\n",
    "print('\\n')    \n",
    "\n",
    "Prim(g).get_mst()"
   ]
  },
  {
   "cell_type": "code",
   "execution_count": 102,
   "id": "79f077d9",
   "metadata": {},
   "outputs": [],
   "source": [
    "class Prim:\n",
    "    \n",
    "    def __init__(self, g):\n",
    "        self.g = g\n",
    "        self.n = len(g)\n",
    "\n",
    "    def get_weight(self, u: int, v: int) -> int:\n",
    "        return u + v\n",
    "\n",
    "    def get_mst(self):\n",
    "        in_tree = [False] * self.n\n",
    "        distance = [float('inf')] * self.n\n",
    "        \n",
    "        v = 0\n",
    "        distance[v] = 0\n",
    "        \n",
    "        while not in_tree[v]:\n",
    "            in_tree[v] = True\n",
    "            \n",
    "            for u in self.g[v]:\n",
    "                if in_tree[u]:\n",
    "                    continue\n",
    "                w = self.get_weight(u, v)\n",
    "                if distance[u] > w:\n",
    "                    distance[u] = w\n",
    "                    \n",
    "            dist = float('inf')\n",
    "            for u in self.g:\n",
    "                if in_tree[u]:\n",
    "                    continue\n",
    "                if dist > distance[u]:\n",
    "                    dist = distance[u]\n",
    "                    v = u\n",
    "\n",
    "            print(f\"v:{v} distance:{distance} in_tree:{in_tree}]\")\n",
    "\n",
    "        return sum(distance)        "
   ]
  },
  {
   "cell_type": "code",
   "execution_count": 103,
   "id": "9558a928",
   "metadata": {},
   "outputs": [
    {
     "name": "stdout",
     "output_type": "stream",
     "text": [
      "(0, [1, 2])\n",
      "(1, [3])\n",
      "(2, [3])\n",
      "(3, [1, 2])\n",
      "\n",
      "\n",
      "v:1 distance:[0, 1, 2, inf] in_tree:[True, False, False, False]]\n",
      "v:2 distance:[0, 1, 2, 4] in_tree:[True, True, False, False]]\n",
      "v:3 distance:[0, 1, 2, 4] in_tree:[True, True, True, False]]\n",
      "v:3 distance:[0, 1, 2, 4] in_tree:[True, True, True, True]]\n"
     ]
    },
    {
     "data": {
      "text/plain": [
       "7"
      ]
     },
     "execution_count": 103,
     "metadata": {},
     "output_type": "execute_result"
    }
   ],
   "source": [
    "g = {\n",
    "    0: [1,2],\n",
    "    1: [3],\n",
    "    2: [3],\n",
    "    3: [1,2],\n",
    "}\n",
    "\n",
    "for r in g.items():\n",
    "    print(r)\n",
    "print('\\n')    \n",
    "\n",
    "Prim(g).get_mst()"
   ]
  },
  {
   "cell_type": "code",
   "execution_count": 65,
   "id": "3cd603ec",
   "metadata": {},
   "outputs": [
    {
     "name": "stdout",
     "output_type": "stream",
     "text": [
      "(0, [1, 2, 3])\n",
      "(1, [0, 2, 3])\n",
      "(2, [0, 1, 3])\n",
      "(3, [0, 1, 2])\n"
     ]
    }
   ],
   "source": []
  },
  {
   "cell_type": "code",
   "execution_count": 15,
   "id": "e9318cd6",
   "metadata": {},
   "outputs": [
    {
     "name": "stdout",
     "output_type": "stream",
     "text": [
      "(0, [1, 2, 3])\n",
      "(1, [0, 2, 3])\n",
      "(2, [0, 1, 3])\n",
      "(3, [0, 1, 2])\n"
     ]
    }
   ],
   "source": []
  },
  {
   "cell_type": "code",
   "execution_count": null,
   "id": "9af2256a",
   "metadata": {},
   "outputs": [],
   "source": []
  }
 ],
 "metadata": {
  "kernelspec": {
   "display_name": "Python 3 (ipykernel)",
   "language": "python",
   "name": "python3"
  },
  "language_info": {
   "codemirror_mode": {
    "name": "ipython",
    "version": 3
   },
   "file_extension": ".py",
   "mimetype": "text/x-python",
   "name": "python",
   "nbconvert_exporter": "python",
   "pygments_lexer": "ipython3",
   "version": "3.7.11"
  }
 },
 "nbformat": 4,
 "nbformat_minor": 5
}
