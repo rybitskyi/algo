{
 "cells": [
  {
   "cell_type": "markdown",
   "id": "7e869ae6",
   "metadata": {},
   "source": [
    "# Overview\n",
    "\n",
    "Find Strongly Connected Components in undirected graph."
   ]
  },
  {
   "cell_type": "code",
   "execution_count": 5,
   "id": "8774b02d",
   "metadata": {},
   "outputs": [],
   "source": [
    "from collections import deque, defaultdict"
   ]
  },
  {
   "cell_type": "code",
   "execution_count": 4,
   "id": "349cd6fc",
   "metadata": {},
   "outputs": [
    {
     "name": "stdout",
     "output_type": "stream",
     "text": [
      "(1, {2, 3})\n",
      "(2, {1})\n",
      "(3, {1})\n",
      "(4, {5})\n",
      "(5, {4})\n"
     ]
    }
   ],
   "source": [
    "g = defaultdict(set)\n",
    "g[1].add(2)\n",
    "g[1].add(3)\n",
    "\n",
    "g[2].add(1)\n",
    "g[3].add(1)\n",
    "\n",
    "\n",
    "g[4].add(5)\n",
    "g[5].add(4)\n",
    "\n",
    "for r in g.items():\n",
    "    print(r)"
   ]
  },
  {
   "cell_type": "code",
   "execution_count": 13,
   "id": "f4ab7580",
   "metadata": {},
   "outputs": [],
   "source": [
    "def scc_count_undirected(g) -> int:\n",
    "    '''\n",
    "    Returns count of SCCs in undirected graph.\n",
    "    - Keep the list of visited graph.\n",
    "    - Call DFS for each unvisited graph.\n",
    "    - For each new DFS call, increase SCC count.\n",
    "    '''\n",
    "    visited = set()    \n",
    "    \n",
    "    def dfs(u: int):\n",
    "        st = deque([u])\n",
    "        while st:\n",
    "            u = st.pop()\n",
    "            visited.add(u)\n",
    "            print(u)\n",
    "            for v in g[u]:\n",
    "                if v in visited:\n",
    "                    continue\n",
    "                st.append(v)\n",
    "    \n",
    "    scc_count = 0\n",
    "    # Iterate each vertex\n",
    "    for u in g.keys():\n",
    "        if u in visited:\n",
    "            continue\n",
    "        scc_count += 1\n",
    "        print('---')\n",
    "        dfs(u)\n",
    "    \n",
    "    return scc_count"
   ]
  },
  {
   "cell_type": "code",
   "execution_count": 14,
   "id": "4decef50",
   "metadata": {},
   "outputs": [
    {
     "name": "stdout",
     "output_type": "stream",
     "text": [
      "---\n",
      "1\n",
      "3\n",
      "2\n",
      "---\n",
      "4\n",
      "5\n"
     ]
    },
    {
     "data": {
      "text/plain": [
       "2"
      ]
     },
     "execution_count": 14,
     "metadata": {},
     "output_type": "execute_result"
    }
   ],
   "source": [
    "scc_count_undirected(g)"
   ]
  }
 ],
 "metadata": {
  "kernelspec": {
   "display_name": "Python 3 (ipykernel)",
   "language": "python",
   "name": "python3"
  },
  "language_info": {
   "codemirror_mode": {
    "name": "ipython",
    "version": 3
   },
   "file_extension": ".py",
   "mimetype": "text/x-python",
   "name": "python",
   "nbconvert_exporter": "python",
   "pygments_lexer": "ipython3",
   "version": "3.7.11"
  }
 },
 "nbformat": 4,
 "nbformat_minor": 5
}
