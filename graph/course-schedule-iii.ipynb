{
 "cells": [
  {
   "cell_type": "markdown",
   "id": "db2bd632",
   "metadata": {},
   "source": [
    "# Overview\n",
    "\n",
    "There are n different online courses numbered from 1 to n. \n",
    "\n",
    "You are given an array courses where \n",
    "courses[i] = [duration_i, lastDay_i] indicate that the i-th course should be taken continuously for `duration_i` days and must be finished before or on `lastDay_i`.\n",
    "\n",
    "You will start on the 1st day and you cannot take two or more courses simultaneously.\n",
    "\n",
    "Return the maximum number of courses that you can take.\n",
    "\n",
    " \n",
    "\n",
    "## Example 1:\n",
    "\n",
    "Input: courses = [\n",
    "    [100,200],\n",
    "    [200,1300],\n",
    "    [1000,1250],\n",
    "    [2000,3200],\n",
    "    ]\n",
    "\n",
    "Output: 3\n",
    "\n",
    "Explanation: \n",
    "There are totally 4 courses, but you can take 3 courses at most:\n",
    "\n",
    "First, take the 1st course, it costs 100 days so you will finish it on the 100th day, and ready to take the next course on the 101st day.\n",
    "\n",
    "Second, take the 3rd course, it costs 1000 days so you will finish it on the 1100th day, and ready to take the next course on the 1101st day. \n",
    "\n",
    "Third, take the 2nd course, it costs 200 days so you will finish it on the 1300th day. \n",
    "\n",
    "The 4th course cannot be taken now, \n",
    "since you will finish it on the 3300th day, which exceeds the closed date.\n",
    "\n",
    "## Example 2:\n",
    "\n",
    "Input: courses = [[1,2]]\n",
    "Output: 1\n",
    "\n",
    "\n",
    "## Example 3:\n",
    "\n",
    "Input: courses = [[3,2],[4,3]]\n",
    "Output: 0"
   ]
  },
  {
   "cell_type": "code",
   "execution_count": null,
   "id": "0c1bc171",
   "metadata": {},
   "outputs": [],
   "source": []
  }
 ],
 "metadata": {
  "kernelspec": {
   "display_name": "Python 3 (ipykernel)",
   "language": "python",
   "name": "python3"
  },
  "language_info": {
   "codemirror_mode": {
    "name": "ipython",
    "version": 3
   },
   "file_extension": ".py",
   "mimetype": "text/x-python",
   "name": "python",
   "nbconvert_exporter": "python",
   "pygments_lexer": "ipython3",
   "version": "3.7.11"
  }
 },
 "nbformat": 4,
 "nbformat_minor": 5
}
