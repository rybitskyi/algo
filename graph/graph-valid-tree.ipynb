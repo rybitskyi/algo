{
 "cells": [
  {
   "cell_type": "markdown",
   "id": "0819ad2c",
   "metadata": {},
   "source": [
    "# Overview\n",
    "\n",
    "You have a graph of n nodes labeled from 0 to n - 1. You are given an integer `n` and a list of edges where edges[i] = [ai, bi] indicates that there is an undirected edge between nodes ai and bi in the graph.\n",
    "\n",
    "Return `true` if the edges of the given graph make up a valid tree, and `false` otherwise.\n",
    "\n",
    "https://leetcode.com/problems/graph-valid-tree/"
   ]
  },
  {
   "cell_type": "code",
   "execution_count": 1,
   "id": "c0e2e298",
   "metadata": {},
   "outputs": [],
   "source": [
    "from typing import List\n",
    "from collections import defaultdict, deque"
   ]
  },
  {
   "cell_type": "code",
   "execution_count": 2,
   "id": "dcda80cb",
   "metadata": {},
   "outputs": [],
   "source": [
    "class Solution:\n",
    "    \n",
    "    def __init__(self, n: int, edges: List[List[int]]):\n",
    "        self.n = n\n",
    "        g = defaultdict(list)\n",
    "\n",
    "        for u, v in edges:\n",
    "            g[u].append(v)\n",
    "            g[v].append(u)\n",
    "\n",
    "        self.g = g\n",
    "#         print(self.g)\n",
    "    \n",
    "    def is_valid_tree(self) -> bool:\n",
    "        '''\n",
    "        Iterative Depth-first search from vertex `u`.\n",
    "        ADT: stack.\n",
    "        \n",
    "        A graph is a valid tree iff the following two conditions are met:\n",
    "        1. G is fully connected, i.e. each vertex has a single path to another one.\n",
    "        2. G doesn't contain cycles.\n",
    "        '''\n",
    "        \n",
    "        st = deque([0])\n",
    "        seen = {} # { node: parent }\n",
    "        seen[0] = 1\n",
    "        while st:\n",
    "            u = st.pop()   \n",
    "#             print(u)\n",
    "\n",
    "            for v in self.g[u]:\n",
    "                if seen[u] == v : # skip simple cycle\n",
    "                    continue\n",
    "                elif v in seen:\n",
    "                    return False\n",
    "                st.append(v)\n",
    "                seen[v] = u\n",
    "        \n",
    "#         print(f\"seen: {seen}\")\n",
    "        return len(seen) == self.n\n",
    "                "
   ]
  },
  {
   "cell_type": "code",
   "execution_count": 3,
   "id": "91a704c2",
   "metadata": {},
   "outputs": [],
   "source": [
    "assert Solution(n = 5, edges = [[0,1],[0,2],[0,3],[1,4]]).is_valid_tree() == False"
   ]
  },
  {
   "cell_type": "code",
   "execution_count": 4,
   "id": "07cc70b6",
   "metadata": {},
   "outputs": [],
   "source": [
    "assert Solution(n = 5, edges = [[0,1],[1,2],[2,3],[1,3],[1,4]]).is_valid_tree() == False"
   ]
  },
  {
   "cell_type": "code",
   "execution_count": null,
   "id": "eae4d1c7",
   "metadata": {},
   "outputs": [],
   "source": []
  }
 ],
 "metadata": {
  "kernelspec": {
   "display_name": "Python 3 (ipykernel)",
   "language": "python",
   "name": "python3"
  },
  "language_info": {
   "codemirror_mode": {
    "name": "ipython",
    "version": 3
   },
   "file_extension": ".py",
   "mimetype": "text/x-python",
   "name": "python",
   "nbconvert_exporter": "python",
   "pygments_lexer": "ipython3",
   "version": "3.7.11"
  }
 },
 "nbformat": 4,
 "nbformat_minor": 5
}
