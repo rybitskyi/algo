{
 "cells": [
  {
   "cell_type": "markdown",
   "id": "28ed9128",
   "metadata": {},
   "source": [
    "# Overview\n",
    "\n",
    "Strongly Connected Components of directed graph."
   ]
  },
  {
   "cell_type": "code",
   "execution_count": 21,
   "id": "76c3bdae",
   "metadata": {},
   "outputs": [],
   "source": [
    "from collections import defaultdict, deque, OrderedDict\n",
    "from digraph_spec import DigraphSpec"
   ]
  },
  {
   "cell_type": "code",
   "execution_count": 11,
   "id": "9039a0fe",
   "metadata": {},
   "outputs": [
    {
     "data": {
      "text/plain": [
       "OrderedDict([('q', ['s', 't', 'w']),\n",
       "             ('r', ['u', 'y']),\n",
       "             ('s', ['v']),\n",
       "             ('t', ['x', 'y']),\n",
       "             ('u', ['y']),\n",
       "             ('v', ['w']),\n",
       "             ('w', ['s']),\n",
       "             ('x', ['z']),\n",
       "             ('y', ['q']),\n",
       "             ('z', ['x'])])"
      ]
     },
     "execution_count": 11,
     "metadata": {},
     "output_type": "execute_result"
    }
   ],
   "source": [
    "g = DigraphSpec().g\n",
    "g"
   ]
  },
  {
   "cell_type": "code",
   "execution_count": 26,
   "id": "5b257b15",
   "metadata": {},
   "outputs": [],
   "source": [
    "class StronglyConnectedComponents:\n",
    "    \n",
    "    def __init__(self, g):\n",
    "        self.g = g\n",
    "    \n",
    "    def _get_f_times(self):\n",
    "        f_times = {}\n",
    "        seen = set()\n",
    "        \n",
    "        t = 0\n",
    "        \n",
    "        for u in g.keys():\n",
    "            if not u in seen:\n",
    "                t += 1\n",
    "                seen.add(u)\n",
    "                st = deque([u])\n",
    "                while st:\n",
    "                    u = st[-1]\n",
    "                    \n",
    "                    # get the first WHITE neighbourh vertex\n",
    "                    v = None\n",
    "                    for x in g[u]:\n",
    "                        if x in seen:\n",
    "                            continue\n",
    "                        v = x\n",
    "                        break\n",
    "                    \n",
    "                    if v is None: # all neighbors were processed\n",
    "                        st.pop()\n",
    "                        t += 1\n",
    "                        f_times[u] = t\n",
    "                    else:\n",
    "                        t += 1\n",
    "                        seen.add(v)\n",
    "                        st.append(v)\n",
    "\n",
    "        return f_times\n",
    "\n",
    "    def transpose(self):\n",
    "        gt = defaultdict(list)\n",
    "        \n",
    "        for u in self.g.keys():\n",
    "            for v in g[u]:\n",
    "                gt[v].append(u)\n",
    "        \n",
    "        return gt\n",
    "\n",
    "    def get_scc():\n",
    "        f_times = self._get_f_times()\n",
    "        gt = self.transpose()\n"
   ]
  },
  {
   "cell_type": "code",
   "execution_count": 27,
   "id": "58aff129",
   "metadata": {},
   "outputs": [],
   "source": [
    "assert StronglyConnectedComponents(g)._get_f_times() == DigraphSpec().get_finished_times()"
   ]
  },
  {
   "cell_type": "code",
   "execution_count": 31,
   "id": "2dee9ff7",
   "metadata": {},
   "outputs": [
    {
     "data": {
      "text/plain": [
       "['q', 'r', 's', 't', 'u', 'v', 'w', 'x', 'y', 'z']"
      ]
     },
     "execution_count": 31,
     "metadata": {},
     "output_type": "execute_result"
    }
   ],
   "source": [
    "sorted(StronglyConnectedComponents(g)._get_f_times(), key=lambda x: x)"
   ]
  },
  {
   "cell_type": "code",
   "execution_count": 28,
   "id": "5ee1373e",
   "metadata": {},
   "outputs": [
    {
     "data": {
      "text/plain": [
       "defaultdict(list,\n",
       "            {'s': ['q', 'w'],\n",
       "             't': ['q'],\n",
       "             'w': ['q', 'v'],\n",
       "             'u': ['r'],\n",
       "             'y': ['r', 't', 'u'],\n",
       "             'v': ['s'],\n",
       "             'x': ['t', 'z'],\n",
       "             'z': ['x'],\n",
       "             'q': ['y']})"
      ]
     },
     "execution_count": 28,
     "metadata": {},
     "output_type": "execute_result"
    }
   ],
   "source": [
    "StronglyConnectedComponents(g).transpose()"
   ]
  },
  {
   "cell_type": "code",
   "execution_count": null,
   "id": "3e09d478",
   "metadata": {},
   "outputs": [],
   "source": []
  },
  {
   "cell_type": "code",
   "execution_count": null,
   "id": "9a6ac9e2",
   "metadata": {},
   "outputs": [],
   "source": []
  }
 ],
 "metadata": {
  "kernelspec": {
   "display_name": "Python 3 (ipykernel)",
   "language": "python",
   "name": "python3"
  },
  "language_info": {
   "codemirror_mode": {
    "name": "ipython",
    "version": 3
   },
   "file_extension": ".py",
   "mimetype": "text/x-python",
   "name": "python",
   "nbconvert_exporter": "python",
   "pygments_lexer": "ipython3",
   "version": "3.7.11"
  }
 },
 "nbformat": 4,
 "nbformat_minor": 5
}
