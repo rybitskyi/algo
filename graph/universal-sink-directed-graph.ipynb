{
 "cells": [
  {
   "cell_type": "markdown",
   "id": "36a1260f",
   "metadata": {},
   "source": [
    "# Exercise\n",
    "https://walkccc.me/CLRS/Chap22/22.1/\n",
    "\n",
    "Most graph algorithms that take an adjacency-matrix representation as input require time \\Omega(V^2)Ω(V \n",
    "2\n",
    " ), but there are some exceptions. Show how to determine whether a directed graph GG contains a universal sink -− a vertex with \\text{in-degree}in-degree |V| - 1∣V∣−1 and \\text{out-degree}out-degree 00 -− in time O(V)O(V), given an adjacency matrix for GG.\n",
    " \n",
    "\n",
    "# Solution\n",
    "\n",
    "```\n",
    "import numpy as np\n",
    "\n",
    "class Solution(object):\n",
    "    def findJudge(self, N, trust):\n",
    "        \"\"\"\n",
    "        :type N: int\n",
    "        :type trust: List[List[int]]\n",
    "        :rtype: int\n",
    "        \"\"\"\n",
    "        adj_mat = np.zeros((N,N))\n",
    "        for s in trust:\n",
    "            adj_mat[s[0]-1, s[1]-1] = 1\n",
    "               \n",
    "        i = 0\n",
    "        j = 0\n",
    "        while (i < N) and (j < N):\n",
    "            if adj_mat[i,j] == 0:\n",
    "                j += 1\n",
    "            elif adj_mat[i,j] == 1:\n",
    "                i += 1\n",
    "        \n",
    "        if (np.sum(adj_mat[i,:]) == 0) and (np.sum(adj_mat[:,i])==(N-1)) and (adj_mat[i,i]==0):\n",
    "            return i+1\n",
    "        else:\n",
    "            return -1\n",
    "```"
   ]
  },
  {
   "cell_type": "code",
   "execution_count": null,
   "id": "82b7133c",
   "metadata": {},
   "outputs": [],
   "source": []
  }
 ],
 "metadata": {
  "kernelspec": {
   "display_name": "Python 3 (ipykernel)",
   "language": "python",
   "name": "python3"
  },
  "language_info": {
   "codemirror_mode": {
    "name": "ipython",
    "version": 3
   },
   "file_extension": ".py",
   "mimetype": "text/x-python",
   "name": "python",
   "nbconvert_exporter": "python",
   "pygments_lexer": "ipython3",
   "version": "3.7.11"
  }
 },
 "nbformat": 4,
 "nbformat_minor": 5
}
