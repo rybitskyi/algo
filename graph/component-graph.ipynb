{
 "cells": [
  {
   "cell_type": "markdown",
   "id": "f18cedf0",
   "metadata": {},
   "source": [
    "# CLRS 20.5-5\n",
    "\n",
    "## Exercise\n",
    "Compute the `component graph` of directed graph G = (V, E). Make sure there is at most one edge between two vertices in the `component graph`.\n",
    "\n",
    "## Answer\n",
    "\n",
    "- Run DFS on init graph to calculate finish times\n",
    "- Traverse graph to form GT graph\n",
    "- Run another DFS on GT with G finish times order\n",
    "    - Each forest tree is Strongly Connected Component\n",
    "- Create new `component graph` CG\n",
    "    - create component graph vertice by traversing all SCCs\n",
    "    - create map of original -> CG vertices, like {'a'-> 'abc', 'b' -> 'abc', ...}\n",
    "    - Traverse all edges:\n",
    "        - if both head and tail belong to the same SCC, do nothing\n",
    "        - if head and tail belong to different SCC, create new distinct edges between component graph vertices"
   ]
  },
  {
   "cell_type": "code",
   "execution_count": 46,
   "id": "accc8b86",
   "metadata": {},
   "outputs": [],
   "source": [
    "from collections import defaultdict, deque"
   ]
  },
  {
   "cell_type": "code",
   "execution_count": 3,
   "id": "37ea147a",
   "metadata": {},
   "outputs": [
    {
     "name": "stdout",
     "output_type": "stream",
     "text": [
      "a : ['b']\n",
      "b : ['c']\n",
      "c : ['a']\n",
      "d : ['b', 'b', 'e']\n"
     ]
    }
   ],
   "source": [
    "g = {}\n",
    "g['a'] = ['b']\n",
    "g['b'] = ['c']\n",
    "g['c'] = ['a']\n",
    "\n",
    "g['d'] = ['b', 'b', 'e']\n",
    "\n",
    "for u, vs in g.items():\n",
    "    print(f\"{u} : {vs}\")"
   ]
  },
  {
   "cell_type": "markdown",
   "id": "8b9ea40c",
   "metadata": {},
   "source": [
    "## Get DFS Finish Times"
   ]
  },
  {
   "cell_type": "code",
   "execution_count": 44,
   "id": "bc7e177a",
   "metadata": {},
   "outputs": [],
   "source": [
    "def get_finish_times(g):\n",
    "    '''\n",
    "    Returns vertices ordered in finished DFS times in desc order.\n",
    "    '''\n",
    "    m = {}\n",
    "    t = 0\n",
    "    \n",
    "    seen = set()\n",
    "    for u in g.keys():\n",
    "        if u in seen:\n",
    "            continue\n",
    "        \n",
    "        st = deque([u])\n",
    "        t += 1\n",
    "        seen.add(u)\n",
    "        while st:\n",
    "            u = st[-1]\n",
    "            \n",
    "            v = None\n",
    "            if u in g:\n",
    "                for x in g[u]:\n",
    "                    if x in seen:\n",
    "                        continue\n",
    "                    v = x\n",
    "                    break\n",
    "                \n",
    "            if v is None:\n",
    "                t += 1\n",
    "                m[u] = t\n",
    "                seen.add(u)\n",
    "                st.pop()\n",
    "            else:\n",
    "                t += 1\n",
    "                seen.add(v)\n",
    "                st.append(v)\n",
    "                \n",
    "    \n",
    "    return dict(sorted(m.items(), key=lambda x: x[1], reverse=True))"
   ]
  },
  {
   "cell_type": "code",
   "execution_count": 45,
   "id": "8d177831",
   "metadata": {},
   "outputs": [
    {
     "data": {
      "text/plain": [
       "{'d': 10, 'e': 9, 'a': 6, 'b': 5, 'c': 4}"
      ]
     },
     "execution_count": 45,
     "metadata": {},
     "output_type": "execute_result"
    }
   ],
   "source": [
    "finish_times = get_finish_times(g)\n",
    "finish_times"
   ]
  },
  {
   "cell_type": "code",
   "execution_count": 68,
   "id": "d2a5cb66",
   "metadata": {},
   "outputs": [],
   "source": [
    "assert finish_times == {'d': 10, 'e': 9, 'a': 6, 'b': 5, 'c': 4}"
   ]
  },
  {
   "cell_type": "markdown",
   "id": "5ea50392",
   "metadata": {},
   "source": [
    "## Traverse Graph"
   ]
  },
  {
   "cell_type": "code",
   "execution_count": 31,
   "id": "75e49cfd",
   "metadata": {},
   "outputs": [],
   "source": [
    "def traverse(g):\n",
    "    '''\n",
    "    Return a bigraph with traversed edges.\n",
    "    '''\n",
    "    gt = defaultdict(list)\n",
    "    for u, vs in g.items():\n",
    "        for v in vs:\n",
    "            gt[v].append(u)\n",
    "    return gt"
   ]
  },
  {
   "cell_type": "code",
   "execution_count": 32,
   "id": "36626a7b",
   "metadata": {},
   "outputs": [
    {
     "name": "stdout",
     "output_type": "stream",
     "text": [
      "b : ['a', 'd', 'd']\n",
      "c : ['b']\n",
      "a : ['c']\n",
      "e : ['d']\n"
     ]
    }
   ],
   "source": [
    "gt = traverse(g)\n",
    "\n",
    "for u, vs in gt.items():\n",
    "    print(f\"{u} : {vs}\")"
   ]
  },
  {
   "cell_type": "markdown",
   "id": "d87226eb",
   "metadata": {},
   "source": [
    "## Traverse GT in descending finish times order"
   ]
  },
  {
   "cell_type": "code",
   "execution_count": 57,
   "id": "216fc631",
   "metadata": {},
   "outputs": [],
   "source": [
    "def scc(gt, finish_times):\n",
    "    sccs = []\n",
    "    seen = set()\n",
    "\n",
    "    def dfs_visit(u, scc):\n",
    "#         print(u)\n",
    "        seen.add(u)\n",
    "        scc.append(u)\n",
    "        \n",
    "        for v in gt[u]:\n",
    "            if v in seen:\n",
    "                continue\n",
    "            dfs_visit(v, scc)\n",
    "    \n",
    "    for u in finish_times.keys():\n",
    "        if u in seen:\n",
    "            continue\n",
    "        scc = []\n",
    "        sccs.append(scc)\n",
    "        dfs_visit(u, scc)\n",
    "        \n",
    "    return sccs\n"
   ]
  },
  {
   "cell_type": "code",
   "execution_count": 60,
   "id": "02d54b3e",
   "metadata": {},
   "outputs": [],
   "source": [
    "sccs = scc(gt, finish_times)\n",
    "assert sccs  == [['d'], ['e'], ['a', 'c', 'b']]"
   ]
  },
  {
   "cell_type": "code",
   "execution_count": 63,
   "id": "2309be4a",
   "metadata": {},
   "outputs": [],
   "source": [
    "def to_component_graph(g, sccs):\n",
    "    '''\n",
    "    Returns new Component Graph each vertex is a list of SCC vertices and there is at most one edge between two vertices of component graph.\n",
    "    For example,\n",
    "    input: \n",
    "        g = a : ['b']\n",
    "            b : ['c']\n",
    "            c : ['a']\n",
    "            d : ['b', 'b', 'e']\n",
    "        sccs = [['d'], ['e'], ['a', 'c', 'b']]\n",
    "    outout_t: {'d': ['abc', 'e']}\n",
    "    '''\n",
    "    vertex_scc_map = {}\n",
    "    '''\n",
    "        {\n",
    "            'd': 0,\n",
    "            'e': 1,\n",
    "            'a': 2,\n",
    "            'c': 2,\n",
    "            'b': 2,\n",
    "        }\n",
    "    '''\n",
    "    for i, scc in enumerate(sccs):\n",
    "        for v in scc:\n",
    "            vertex_scc_map[v] = i\n",
    "    print(vertex_scc_map)\n",
    "    \n",
    "    cg = defaultdict(set)\n",
    "    \n",
    "    for u, vs in g.items():\n",
    "        head_scc = vertex_scc_map[u]\n",
    "        for v in vs:\n",
    "            tail_scc = vertex_scc_map[v]\n",
    "            if head_scc == tail_scc:\n",
    "                continue\n",
    "            cg[head_scc].add(tail_scc)\n",
    "            \n",
    "    return cg       "
   ]
  },
  {
   "cell_type": "code",
   "execution_count": 67,
   "id": "0580bfaa",
   "metadata": {},
   "outputs": [
    {
     "name": "stdout",
     "output_type": "stream",
     "text": [
      "{'d': 0, 'e': 1, 'a': 2, 'c': 2, 'b': 2}\n"
     ]
    }
   ],
   "source": [
    "assert to_component_graph(g, sccs) == {0: {1,2}}"
   ]
  },
  {
   "cell_type": "code",
   "execution_count": null,
   "id": "8c6056cd",
   "metadata": {},
   "outputs": [],
   "source": []
  }
 ],
 "metadata": {
  "kernelspec": {
   "display_name": "Python 3 (ipykernel)",
   "language": "python",
   "name": "python3"
  },
  "language_info": {
   "codemirror_mode": {
    "name": "ipython",
    "version": 3
   },
   "file_extension": ".py",
   "mimetype": "text/x-python",
   "name": "python",
   "nbconvert_exporter": "python",
   "pygments_lexer": "ipython3",
   "version": "3.7.11"
  }
 },
 "nbformat": 4,
 "nbformat_minor": 5
}
