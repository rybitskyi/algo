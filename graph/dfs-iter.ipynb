{
 "cells": [
  {
   "cell_type": "markdown",
   "id": "0ab96ed4",
   "metadata": {},
   "source": [
    "# Overview\n",
    "\n",
    "Iterative DFS"
   ]
  },
  {
   "cell_type": "code",
   "execution_count": 1,
   "id": "949d7a10",
   "metadata": {},
   "outputs": [],
   "source": [
    "from collections import deque, OrderedDict\n",
    "\n",
    "from digraph_spec import DigraphSpec"
   ]
  },
  {
   "cell_type": "markdown",
   "id": "b2327a15",
   "metadata": {},
   "source": [
    "# Iterative Algorithm to calculate DFS with discovered and finished times"
   ]
  },
  {
   "cell_type": "code",
   "execution_count": 2,
   "id": "79f2b2ed",
   "metadata": {},
   "outputs": [],
   "source": [
    "# Iterative version to calculate f array\n",
    "class DFS:\n",
    "    \n",
    "    def __init__(self, g):\n",
    "        self.g = g\n",
    "\n",
    "    def walk(self):\n",
    "        self.seen = set()\n",
    "        self.d = {}\n",
    "        self.f = {}\n",
    "        self.t = 0\n",
    "\n",
    "        def dfs(u):\n",
    "            st = deque([u])\n",
    "            self.seen.add(u)\n",
    "            self.t += 1\n",
    "            self.d[u] = self.t\n",
    "\n",
    "            while st:\n",
    "                u = st[-1]\n",
    "\n",
    "                # get first white neighbor node\n",
    "                v = None\n",
    "                for x in self.g[u]:\n",
    "                    if x in self.seen:\n",
    "                        continue\n",
    "                    v = x\n",
    "                    break\n",
    "                    \n",
    "#                 print(f\"u: {u} v: {v} self.seen: {self.seen}\")\n",
    "                    \n",
    "                if v is None: # all neighbours were seen\n",
    "                    st.pop()\n",
    "                    self.t += 1\n",
    "                    self.f[u] = self.t\n",
    "                    self.seen.add(u)\n",
    "                else:\n",
    "#             // u's adjacency list hasn't been fully explored\n",
    "                    self.t += 1\n",
    "                    self.d[v] = self.t\n",
    "                    self.seen.add(v)\n",
    "                    st.append(v)\n",
    "\n",
    "        for u in self.g.keys():\n",
    "            if u in self.seen:\n",
    "                continue\n",
    "            \n",
    "            dfs(u)\n",
    "        \n",
    "        print(f\"self.d: {self.d}\")\n",
    "        print(f\"self.f: {self.f}\")            "
   ]
  },
  {
   "cell_type": "code",
   "execution_count": 3,
   "id": "c3d75a14",
   "metadata": {},
   "outputs": [
    {
     "data": {
      "text/plain": [
       "OrderedDict([('q', ['s', 't', 'w']),\n",
       "             ('r', ['u', 'y']),\n",
       "             ('s', ['v']),\n",
       "             ('t', ['x', 'y']),\n",
       "             ('u', ['y']),\n",
       "             ('v', ['w']),\n",
       "             ('w', ['s']),\n",
       "             ('x', ['z']),\n",
       "             ('y', ['q']),\n",
       "             ('z', ['x'])])"
      ]
     },
     "execution_count": 3,
     "metadata": {},
     "output_type": "execute_result"
    }
   ],
   "source": [
    "g_spec = DigraphSpec()\n",
    "g = g_spec.g\n",
    "g"
   ]
  },
  {
   "cell_type": "code",
   "execution_count": 4,
   "id": "f06437d7",
   "metadata": {},
   "outputs": [
    {
     "name": "stdout",
     "output_type": "stream",
     "text": [
      "self.d: {'q': 1, 's': 2, 'v': 3, 'w': 4, 't': 8, 'x': 9, 'z': 10, 'y': 13, 'r': 17, 'u': 18}\n",
      "self.f: {'w': 5, 'v': 6, 's': 7, 'z': 11, 'x': 12, 'y': 14, 't': 15, 'q': 16, 'u': 19, 'r': 20}\n"
     ]
    }
   ],
   "source": [
    "dfs = DFS(g)\n",
    "dfs.walk()\n",
    "\n",
    "assert dfs.d == g_spec.get_discovered_times()\n",
    "assert dfs.f == g_spec.get_finished_times()"
   ]
  }
 ],
 "metadata": {
  "kernelspec": {
   "display_name": "Python 3 (ipykernel)",
   "language": "python",
   "name": "python3"
  },
  "language_info": {
   "codemirror_mode": {
    "name": "ipython",
    "version": 3
   },
   "file_extension": ".py",
   "mimetype": "text/x-python",
   "name": "python",
   "nbconvert_exporter": "python",
   "pygments_lexer": "ipython3",
   "version": "3.7.11"
  }
 },
 "nbformat": 4,
 "nbformat_minor": 5
}
