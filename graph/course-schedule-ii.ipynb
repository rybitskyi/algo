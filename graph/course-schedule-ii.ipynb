{
 "cells": [
  {
   "cell_type": "markdown",
   "id": "a002af6c",
   "metadata": {},
   "source": [
    "# Overview\n",
    "\n",
    "## Reference\n",
    "https://leetcode.com/problems/course-schedule-ii/description/\n",
    "\n",
    "\n",
    "There are a total of numCourses courses you have to take, labeled from 0 to numCourses - 1. \n",
    "You are given an array prerequisites where prerequisites[i] = [ai, bi] indicates that you must take course bi first if you want to take course ai.\n",
    "\n",
    "For example, the pair [0, 1], indicates that to take course 0 you have to first take course 1.\n",
    "\n",
    "Return the ordering of courses you should take to finish all courses. \n",
    "\n",
    "If there are many valid answers, return any of them. \n",
    "\n",
    "If it is impossible to finish all courses, return an empty array.\n",
    "\n",
    "\n",
    "### Input\n",
    "- Unweighted Directed Graph\n",
    "\n",
    "### Expected Outcome\n",
    "- List of vertices \n",
    "- in topological sort order\n",
    "- Return empty array in case there is a cycle (topological sort algo should handle it)\n",
    "\n",
    "## Example 1:\n",
    "\n",
    "Input: numCourses = 2, prerequisites = [[1,0]]\n",
    "Output: [0,1]\n",
    "Explanation: There are a total of 2 courses to take. To take course 1 you should have finished course 0. So the correct course order is [0,1].\n",
    "\n",
    "## Example 2:\n",
    "\n",
    "Input: numCourses = 4, prerequisites = [[1,0],[2,0],[3,1],[3,2]]\n",
    "Output: [0,2,1,3]\n",
    "Explanation: There are a total of 4 courses to take. To take course 3 you should have finished both courses 1 and 2. Both courses 1 and 2 should be taken after you finished course 0.\n",
    "So one correct course order is [0,1,2,3]. Another correct ordering is [0,2,1,3].\n",
    "\n",
    "## Example 3:\n",
    "\n",
    "Input: numCourses = 1, prerequisites = []\n",
    "Output: [0]"
   ]
  },
  {
   "cell_type": "code",
   "execution_count": 22,
   "id": "4dbca8e7",
   "metadata": {},
   "outputs": [],
   "source": [
    "from collections import deque\n",
    "\n",
    "EDGE_TREE = 1\n",
    "EDGE_BACK = 2\n",
    "EDGE_FORWARD = 3\n",
    "EDGE_CROSS = 4\n",
    "\n",
    "class Graph:\n",
    "    \n",
    "    def __init__(self, g):\n",
    "        self.g = g\n",
    "        self.n = len(self.g)\n",
    "        \n",
    "    def _init_search(self):\n",
    "        self.finished = False\n",
    "        self.discovered = [False] * self.n\n",
    "        self.processed  = [False] * self.n\n",
    "        self.time = 0\n",
    "        self.entry_time = [None] * self.n\n",
    "        self.exit_time = [None] * self.n\n",
    "        self.parent = [None] * self.n\n",
    "        self.sorted = deque()\n",
    "        self.has_cycle = False\n",
    "\n",
    "        \n",
    "    def _edge_cls(self, x: int, y: int) -> int:\n",
    "        if self.parent[y] == x:\n",
    "            return EDGE_TREE\n",
    "\n",
    "        if self.discovered[y] and not self.processed[y]:\n",
    "            return EDGE_BACK\n",
    "        \n",
    "        if self.processed[y] and self.entry_time[y] > self.entry_time[x]:\n",
    "            return EDGE_CROSS\n",
    "        \n",
    "        if self.processed[y] and self.entry_time < self.entry_time[x]:\n",
    "            return EDGE_FORWARD\n",
    "        \n",
    "    \n",
    "    def _process_edge(self, x: int, y: int):\n",
    "        edge_cls = self._edge_cls(x, y)\n",
    "#         print(f\"edge_cls {x} {y}: {edge_cls}\")\n",
    "        if edge_cls == EDGE_BACK:\n",
    "            self.has_cycle = True\n",
    "            self.finished = True\n",
    "    \n",
    "    def _process_vertex_early(self, v):\n",
    "        pass\n",
    "    \n",
    "    def _process_vertex_late(self, v):\n",
    "        self.sorted.appendleft(v)\n",
    "    \n",
    "    def _dfs(self, v):\n",
    "        if self.finished:\n",
    "            return\n",
    "        \n",
    "        self.discovered[v] = True\n",
    "        self.time += 1\n",
    "        self.entry_time[v] = self.time\n",
    "        \n",
    "        self._process_vertex_early(v)\n",
    "        \n",
    "        for u in self.g[v]:\n",
    "            if not self.discovered[u]:\n",
    "                self.parent[u] = v\n",
    "                self._process_edge(v, u)\n",
    "                self._dfs(u)\n",
    "\n",
    "                if self.finished:\n",
    "                    return\n",
    "            elif not self.processed[u]:\n",
    "                self._process_edge(v, u)\n",
    "        \n",
    "        self._process_vertex_late(v)\n",
    "        self.time += 1\n",
    "        self.exit_time[v] = self.time\n",
    "        self.processed[v] = True\n",
    "    \n",
    "    def sort(self):\n",
    "        self._init_search()\n",
    "\n",
    "        for x in range(self.n):\n",
    "            if not self.discovered[x]:\n",
    "                self._dfs(x)\n",
    "        \n",
    "        if self.has_cycle:\n",
    "            return []\n",
    "\n",
    "        return self.sorted"
   ]
  },
  {
   "cell_type": "code",
   "execution_count": 23,
   "id": "dca5616b",
   "metadata": {},
   "outputs": [
    {
     "data": {
      "text/plain": [
       "deque([0, 1, 2])"
      ]
     },
     "execution_count": 23,
     "metadata": {},
     "output_type": "execute_result"
    }
   ],
   "source": [
    "Graph({\n",
    "    0: [1],\n",
    "    1: [2],\n",
    "    2: [],\n",
    "}).sort()"
   ]
  },
  {
   "cell_type": "code",
   "execution_count": 24,
   "id": "3e3116d8",
   "metadata": {},
   "outputs": [
    {
     "data": {
      "text/plain": [
       "deque([0, 2, 4, 1, 3])"
      ]
     },
     "execution_count": 24,
     "metadata": {},
     "output_type": "execute_result"
    }
   ],
   "source": [
    "Graph({\n",
    "    0: [1,2],\n",
    "    1: [3],\n",
    "    2: [4],\n",
    "    3: [],\n",
    "    4: [],\n",
    "}).sort()"
   ]
  },
  {
   "cell_type": "code",
   "execution_count": 21,
   "id": "ba522a9e",
   "metadata": {},
   "outputs": [
    {
     "name": "stdout",
     "output_type": "stream",
     "text": [
      "edge_cls 0 1: 1\n",
      "edge_cls 1 0: 2\n"
     ]
    },
    {
     "data": {
      "text/plain": [
       "[]"
      ]
     },
     "execution_count": 21,
     "metadata": {},
     "output_type": "execute_result"
    }
   ],
   "source": [
    "Graph({\n",
    "    0: [1],\n",
    "    1: [0],\n",
    "}).sort()"
   ]
  },
  {
   "cell_type": "code",
   "execution_count": null,
   "id": "cfe18b79",
   "metadata": {},
   "outputs": [],
   "source": []
  }
 ],
 "metadata": {
  "kernelspec": {
   "display_name": "Python 3 (ipykernel)",
   "language": "python",
   "name": "python3"
  },
  "language_info": {
   "codemirror_mode": {
    "name": "ipython",
    "version": 3
   },
   "file_extension": ".py",
   "mimetype": "text/x-python",
   "name": "python",
   "nbconvert_exporter": "python",
   "pygments_lexer": "ipython3",
   "version": "3.7.11"
  }
 },
 "nbformat": 4,
 "nbformat_minor": 5
}
