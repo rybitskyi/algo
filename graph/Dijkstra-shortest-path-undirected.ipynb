{
 "cells": [
  {
   "cell_type": "code",
   "execution_count": null,
   "id": "196657dd",
   "metadata": {},
   "outputs": [],
   "source": [
    "from heapq import heappush, heappop"
   ]
  },
  {
   "cell_type": "code",
   "execution_count": null,
   "id": "db8e54aa",
   "metadata": {},
   "outputs": [],
   "source": [
    "class Solution:\n",
    "    def maxProbability(self, n: int, edges: List[List[int]], succProb: List[float], start: int, end: int) -> float:\n",
    "        d = ['inf'] * n\n",
    "        d[start] = 0\n",
    "        pq = [start]\n",
    "        visited = set([start])\n",
    "        \n",
    "        V = set()\n",
    "        for edge in edges:\n",
    "            V.add(edge[0])\n",
    "            V.add(edge[1])\n",
    "        \n",
    "        while pq:\n",
    "            u = heappop(pq)\n",
    "            \n",
    "            for v in V:\n",
    "                for edge in edges[v]:\n",
    "                    \n",
    "        \n",
    "        "
   ]
  },
  {
   "cell_type": "code",
   "execution_count": null,
   "id": "86be4297",
   "metadata": {},
   "outputs": [],
   "source": [
    "Solution().maxProbability(n = 3, edges = [[0,1],[1,2],[0,2]], succProb = [0.5,0.5,0.2], start = 0, end = 2"
   ]
  }
 ],
 "metadata": {
  "kernelspec": {
   "display_name": "Python 3 (ipykernel)",
   "language": "python",
   "name": "python3"
  },
  "language_info": {
   "codemirror_mode": {
    "name": "ipython",
    "version": 3
   },
   "file_extension": ".py",
   "mimetype": "text/x-python",
   "name": "python",
   "nbconvert_exporter": "python",
   "pygments_lexer": "ipython3",
   "version": "3.7.11"
  }
 },
 "nbformat": 4,
 "nbformat_minor": 5
}
