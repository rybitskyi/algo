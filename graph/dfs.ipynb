{
 "cells": [
  {
   "cell_type": "markdown",
   "id": "002eb9c5",
   "metadata": {},
   "source": [
    "# Depth-first search Graph Traversal"
   ]
  },
  {
   "cell_type": "code",
   "execution_count": 1,
   "id": "3278af03",
   "metadata": {},
   "outputs": [],
   "source": [
    "from collections import defaultdict, deque, OrderedDict\n",
    "from dataclasses import dataclass, field"
   ]
  },
  {
   "cell_type": "code",
   "execution_count": 2,
   "id": "246f7180",
   "metadata": {},
   "outputs": [],
   "source": [
    "@dataclass(unsafe_hash=True)\n",
    "class Node:\n",
    "    vertex: str\n",
    "    color: str = field(default='WHITE', compare = False)\n",
    "    parent: 'Node' = field(default=None, compare = False)\n",
    "    d: int = field(default=None, compare = False)\n",
    "    f: int = field(default=None, compare = False)"
   ]
  },
  {
   "cell_type": "code",
   "execution_count": 3,
   "id": "da34cb72",
   "metadata": {},
   "outputs": [],
   "source": [
    "def new_g():\n",
    "    nodes = OrderedDict()\n",
    "    for u in ['s', 't', 'u', 'v', 'w', 'x', 'y', 'z']:\n",
    "        nodes[u] = Node(u)\n",
    "\n",
    "    g = defaultdict(list)\n",
    "\n",
    "    g[nodes['s']].append(nodes['z'])\n",
    "    g[nodes['s']].append(nodes['w'])\n",
    "\n",
    "    g[nodes['z']].append(nodes['y'])\n",
    "    g[nodes['z']].append(nodes['w'])\n",
    "\n",
    "    g[nodes['y']].append(nodes['x'])\n",
    "\n",
    "    g[nodes['x']].append(nodes['z'])\n",
    "\n",
    "    g[nodes['t']].append(nodes['v'])\n",
    "    g[nodes['t']].append(nodes['u'])\n",
    "\n",
    "    g[nodes['u']].append(nodes['v'])\n",
    "\n",
    "    g[nodes['v']].append(nodes['s'])\n",
    "    g[nodes['v']].append(nodes['w'])\n",
    "\n",
    "    g[nodes['w']].append(nodes['x'])\n",
    "    \n",
    "    return g"
   ]
  },
  {
   "cell_type": "code",
   "execution_count": 4,
   "id": "7cbb0639",
   "metadata": {},
   "outputs": [],
   "source": [
    "def dfs_visit(g, u):\n",
    "    global t\n",
    "    t += 1\n",
    "    u.color = 'GREY'\n",
    "    u.d = t\n",
    "    st = deque([u])\n",
    "\n",
    "    while st:  \n",
    "        u = st[-1]\n",
    "        exist_white_node = False\n",
    "        for v in g[u]:\n",
    "            if v.color == 'WHITE':\n",
    "                exist_white_node = True\n",
    "\n",
    "                t += 1\n",
    "                v.d = t\n",
    "                v.color = 'GREY'\n",
    "\n",
    "                v.parent = u\n",
    "                st.append(v)\n",
    "                break\n",
    "\n",
    "        if not exist_white_node:\n",
    "            u.color = 'BLACK'\n",
    "            t += 1\n",
    "            u.f = t\n",
    "            st.pop()\n",
    "    "
   ]
  },
  {
   "cell_type": "code",
   "execution_count": 5,
   "id": "79e9a13d",
   "metadata": {},
   "outputs": [],
   "source": [
    "def dfs(g):\n",
    "    global t\n",
    "    t = 0\n",
    "    for u in g.keys():\n",
    "        if u.color == 'WHITE':\n",
    "            dfs_visit(g, u)"
   ]
  },
  {
   "cell_type": "code",
   "execution_count": null,
   "id": "b7234347",
   "metadata": {},
   "outputs": [],
   "source": []
  },
  {
   "cell_type": "markdown",
   "id": "d39777a4",
   "metadata": {},
   "source": [
    "# DFS and print edge types"
   ]
  },
  {
   "cell_type": "code",
   "execution_count": 35,
   "id": "980dff2b",
   "metadata": {},
   "outputs": [],
   "source": [
    "def dfs_visit_print(g, u):\n",
    "    global t\n",
    "    t += 1\n",
    "    u.d = t\n",
    "    u.color = 'GRAY'\n",
    "    for v in g[u]:\n",
    "        if v.color == 'WHITE':\n",
    "            print(f\"({u.vertex}, {v.vertex}) is a tree edge.\")\n",
    "            v.parent = u\n",
    "            dfs_visit_print(g, v)\n",
    "        elif v.color == 'GRAY':\n",
    "            print(f\"({u.vertex}, {v.vertex}) is a back edge.\")\n",
    "        elif v.d > u.d:\n",
    "            print(f\"({u.vertex}, {v.vertex}) is a forward edge.\")\n",
    "        else:\n",
    "            print(f\"({u.vertex}, {v.vertex}) is a cross edge.\")\n",
    "    t += 1\n",
    "    u.f = t\n",
    "    u.color = 'BLACK'\n"
   ]
  },
  {
   "cell_type": "code",
   "execution_count": null,
   "id": "5d5934c6",
   "metadata": {},
   "outputs": [],
   "source": []
  },
  {
   "cell_type": "code",
   "execution_count": 40,
   "id": "6f8a56c5",
   "metadata": {},
   "outputs": [],
   "source": [
    "def new_g():\n",
    "    nodes = OrderedDict()\n",
    "    for u in [0, 1, 2, 3, 4]:\n",
    "        nodes[u] = Node(u)\n",
    "\n",
    "    g = defaultdict(list)\n",
    "    for u, v in [[0,1],[0,2],[0,3],[1,4]]:\n",
    "        g[nodes[u]].append(nodes[v])\n",
    "        g[nodes[v]].append(nodes[u])\n",
    "    return g"
   ]
  },
  {
   "cell_type": "code",
   "execution_count": 42,
   "id": "ac0cbb94",
   "metadata": {},
   "outputs": [
    {
     "name": "stdout",
     "output_type": "stream",
     "text": [
      "(0, 1) is a tree edge.\n",
      "(1, 0) is a back edge.\n",
      "(1, 4) is a tree edge.\n",
      "(4, 1) is a back edge.\n",
      "(0, 2) is a tree edge.\n",
      "(2, 0) is a back edge.\n",
      "(0, 3) is a tree edge.\n",
      "(3, 0) is a back edge.\n"
     ]
    }
   ],
   "source": [
    "def print_edges(g):\n",
    "    global t\n",
    "    t = 0\n",
    "    for u in g.keys():\n",
    "        if u.color == 'WHITE':\n",
    "            dfs_visit_print(g, u)\n",
    "            \n",
    "g = new_g()\n",
    "print_edges(g)"
   ]
  },
  {
   "cell_type": "code",
   "execution_count": null,
   "id": "b4e09e07",
   "metadata": {},
   "outputs": [],
   "source": []
  },
  {
   "cell_type": "code",
   "execution_count": null,
   "id": "7ea9faef",
   "metadata": {},
   "outputs": [],
   "source": []
  },
  {
   "cell_type": "code",
   "execution_count": 20,
   "id": "a4b2a787",
   "metadata": {},
   "outputs": [],
   "source": [
    "t = 0\n",
    "    \n",
    "def dfs_visit(u):\n",
    "    global t\n",
    "    t += 1\n",
    "    u.d = t\n",
    "    u.color = 'GREY'\n",
    "    for v in g[u]:\n",
    "        if v.color == 'WHITE':\n",
    "            v.parent = u\n",
    "            dfs_visit(v)\n",
    "    t += 1\n",
    "    u.f = t\n",
    "    u.color = 'BLACK'\n",
    "\n",
    "def dfs(g):\n",
    "    for u in g.keys():\n",
    "        if u.color == 'WHITE':\n",
    "            dfs_visit(u)"
   ]
  },
  {
   "cell_type": "code",
   "execution_count": 6,
   "id": "9d5471c4",
   "metadata": {},
   "outputs": [],
   "source": [
    "dfs(g)"
   ]
  },
  {
   "cell_type": "code",
   "execution_count": 7,
   "id": "9af14304",
   "metadata": {},
   "outputs": [
    {
     "name": "stdout",
     "output_type": "stream",
     "text": [
      "Node(vertex='s', color='BLACK', parent=None, d=1, f=10)\n",
      "Node(vertex='z', color='BLACK', parent=Node(vertex='s', color='BLACK', parent=None, d=1, f=10), d=2, f=9)\n",
      "Node(vertex='y', color='BLACK', parent=Node(vertex='z', color='BLACK', parent=Node(vertex='s', color='BLACK', parent=None, d=1, f=10), d=2, f=9), d=3, f=6)\n",
      "Node(vertex='x', color='BLACK', parent=Node(vertex='y', color='BLACK', parent=Node(vertex='z', color='BLACK', parent=Node(vertex='s', color='BLACK', parent=None, d=1, f=10), d=2, f=9), d=3, f=6), d=4, f=5)\n",
      "Node(vertex='t', color='BLACK', parent=None, d=11, f=16)\n",
      "Node(vertex='u', color='BLACK', parent=Node(vertex='t', color='BLACK', parent=None, d=11, f=16), d=14, f=15)\n",
      "Node(vertex='v', color='BLACK', parent=Node(vertex='t', color='BLACK', parent=None, d=11, f=16), d=12, f=13)\n",
      "Node(vertex='w', color='BLACK', parent=Node(vertex='z', color='BLACK', parent=Node(vertex='s', color='BLACK', parent=None, d=1, f=10), d=2, f=9), d=7, f=8)\n"
     ]
    }
   ],
   "source": [
    "for v in g.keys():\n",
    "    print(v)"
   ]
  },
  {
   "cell_type": "code",
   "execution_count": 9,
   "id": "63cc8d95",
   "metadata": {},
   "outputs": [],
   "source": [
    "assert nodes['s'].d == 1\n",
    "assert nodes['s'].f == 10\n",
    "\n",
    "assert nodes['z'].d == 2\n",
    "assert nodes['z'].f == 9\n",
    "\n",
    "assert nodes['y'].d == 3\n",
    "assert nodes['y'].f == 6\n",
    "\n",
    "assert nodes['x'].d == 4\n",
    "assert nodes['x'].f == 5\n",
    "\n",
    "assert nodes['w'].d == 7\n",
    "assert nodes['w'].f == 8\n",
    "\n",
    "assert nodes['v'].d == 12\n",
    "assert nodes['v'].f == 13\n",
    "\n",
    "assert nodes['t'].d == 11\n",
    "assert nodes['t'].f == 16\n",
    "\n",
    "assert nodes['u'].d == 14\n",
    "assert nodes['u'].f == 15"
   ]
  },
  {
   "cell_type": "code",
   "execution_count": null,
   "id": "25694dd5",
   "metadata": {},
   "outputs": [],
   "source": []
  }
 ],
 "metadata": {
  "kernelspec": {
   "display_name": "Python 3 (ipykernel)",
   "language": "python",
   "name": "python3"
  },
  "language_info": {
   "codemirror_mode": {
    "name": "ipython",
    "version": 3
   },
   "file_extension": ".py",
   "mimetype": "text/x-python",
   "name": "python",
   "nbconvert_exporter": "python",
   "pygments_lexer": "ipython3",
   "version": "3.7.11"
  }
 },
 "nbformat": 4,
 "nbformat_minor": 5
}
