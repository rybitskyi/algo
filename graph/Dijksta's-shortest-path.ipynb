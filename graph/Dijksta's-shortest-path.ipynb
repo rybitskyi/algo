{
 "cells": [
  {
   "cell_type": "markdown",
   "id": "a046f886",
   "metadata": {},
   "source": [
    "# Overview \n",
    "\n",
    "Dijkstra's is an algorithm to find a shortest path in directed weighted acyclic non negative graphs.\n",
    "\n"
   ]
  },
  {
   "cell_type": "code",
   "execution_count": 1,
   "id": "4955c9a6",
   "metadata": {},
   "outputs": [],
   "source": [
    "import networkx as nx"
   ]
  },
  {
   "cell_type": "code",
   "execution_count": 9,
   "id": "aa8e9465",
   "metadata": {},
   "outputs": [
    {
     "data": {
      "image/png": "[encoded data removed]",
      "text/plain": [
       "<Figure size 432x288 with 1 Axes>"
      ]
     },
     "metadata": {},
     "output_type": "display_data"
    }
   ],
   "source": [
    "G = nx.DiGraph()\n",
    "G.add_weighted_edges_from([\n",
    "    ('s', 't', 10), \n",
    "    ('s', 'y', 5),\n",
    "    \n",
    "    ('t', 'y', 2),\n",
    "    ('t', 'x', 1),\n",
    "        \n",
    "    ('y', 'z', 2),\n",
    "    ('y', 'x', 9),\n",
    "    ('y', 't', 3),\n",
    "        \n",
    "    ('x', 'z', 4),\n",
    "    \n",
    "    ('z', 'x', 6),\n",
    "    ('z', 's', 7),\n",
    "])\n",
    "\n",
    "pos=nx.spring_layout(G)\n",
    "nx.draw_networkx(G,pos)\n",
    "labels = nx.get_edge_attributes(G,'weight')\n",
    "nx.draw_networkx_edge_labels(G,pos,edge_labels=labels);\n"
   ]
  },
  {
   "cell_type": "code",
   "execution_count": null,
   "id": "bd36c86f",
   "metadata": {},
   "outputs": [],
   "source": []
  },
  {
   "cell_type": "code",
   "execution_count": null,
   "id": "44910b50",
   "metadata": {},
   "outputs": [],
   "source": []
  },
  {
   "cell_type": "code",
   "execution_count": null,
   "id": "c7d634d9",
   "metadata": {},
   "outputs": [],
   "source": []
  },
  {
   "cell_type": "code",
   "execution_count": null,
   "id": "1af773d7",
   "metadata": {},
   "outputs": [],
   "source": []
  },
  {
   "cell_type": "code",
   "execution_count": 1,
   "id": "f64656ae",
   "metadata": {},
   "outputs": [],
   "source": [
    "from dataclasses import dataclass, field\n",
    "from heapq import heappush, heappop"
   ]
  },
  {
   "cell_type": "code",
   "execution_count": 2,
   "id": "151f49b9",
   "metadata": {},
   "outputs": [],
   "source": [
    "@dataclass(order=True, unsafe_hash=True)\n",
    "class Vertex:\n",
    "    label: str = field(hash=True)\n",
    "    d: int = field(default=float('inf'), hash=False)"
   ]
  },
  {
   "cell_type": "code",
   "execution_count": 3,
   "id": "9e827ba6",
   "metadata": {},
   "outputs": [
    {
     "data": {
      "text/plain": [
       "[Vertex(label='a', d=2), Vertex(label='s', d=inf)]"
      ]
     },
     "execution_count": 3,
     "metadata": {},
     "output_type": "execute_result"
    }
   ],
   "source": [
    "sorted([Vertex('s'), Vertex('a', 2)])"
   ]
  },
  {
   "cell_type": "code",
   "execution_count": 4,
   "id": "db0f373d",
   "metadata": {},
   "outputs": [
    {
     "data": {
      "text/plain": [
       "Vertex(label='d', d=2)"
      ]
     },
     "execution_count": 4,
     "metadata": {},
     "output_type": "execute_result"
    }
   ],
   "source": [
    "Vertex('d', 2)"
   ]
  },
  {
   "cell_type": "code",
   "execution_count": 5,
   "id": "b300fa81",
   "metadata": {},
   "outputs": [],
   "source": [
    "def new_g():\n",
    "    global V\n",
    "    V = {\n",
    "        's': Vertex('s'),\n",
    "        't': Vertex('t'),\n",
    "        'x': Vertex('x'),\n",
    "        'y': Vertex('y'),\n",
    "        'z': Vertex('z'),\n",
    "    }\n",
    "    g = {\n",
    "        V['s']: [(V['t'], 10), (V['y'], 5)],\n",
    "        V['t']: [(V['x'], 1), (V['y'], 2)],\n",
    "        V['x']: [(V['z'], 4)],\n",
    "        V['y']: [(V['z'], 2), (V['t'], 3), (V['x'], 9)],\n",
    "        V['z']: [(V['x'], 6), (V['s'], 7)],\n",
    "        }\n",
    "    return g"
   ]
  },
  {
   "cell_type": "code",
   "execution_count": 6,
   "id": "ddfbbcd8",
   "metadata": {},
   "outputs": [
    {
     "data": {
      "text/plain": [
       "{Vertex(label='s', d=inf): [(Vertex(label='t', d=inf), 10),\n",
       "  (Vertex(label='y', d=inf), 5)],\n",
       " Vertex(label='t', d=inf): [(Vertex(label='x', d=inf), 1),\n",
       "  (Vertex(label='y', d=inf), 2)],\n",
       " Vertex(label='x', d=inf): [(Vertex(label='z', d=inf), 4)],\n",
       " Vertex(label='y', d=inf): [(Vertex(label='z', d=inf), 2),\n",
       "  (Vertex(label='t', d=inf), 3),\n",
       "  (Vertex(label='x', d=inf), 9)],\n",
       " Vertex(label='z', d=inf): [(Vertex(label='x', d=inf), 6),\n",
       "  (Vertex(label='s', d=inf), 7)]}"
      ]
     },
     "execution_count": 6,
     "metadata": {},
     "output_type": "execute_result"
    }
   ],
   "source": [
    "g = new_g()\n",
    "g"
   ]
  },
  {
   "cell_type": "code",
   "execution_count": 7,
   "id": "caf768df",
   "metadata": {},
   "outputs": [
    {
     "data": {
      "text/plain": [
       "[(Vertex(label='t', d=inf), 10), (Vertex(label='y', d=inf), 5)]"
      ]
     },
     "execution_count": 7,
     "metadata": {},
     "output_type": "execute_result"
    }
   ],
   "source": [
    "g[V['s']]"
   ]
  },
  {
   "cell_type": "code",
   "execution_count": 9,
   "id": "c3a45244",
   "metadata": {},
   "outputs": [
    {
     "data": {
      "text/plain": [
       "[(Vertex(label='x', d=inf), 1), (Vertex(label='y', d=inf), 2)]"
      ]
     },
     "execution_count": 9,
     "metadata": {},
     "output_type": "execute_result"
    }
   ],
   "source": [
    "g[Vertex('t')]"
   ]
  },
  {
   "cell_type": "markdown",
   "id": "85be76a4",
   "metadata": {},
   "source": [
    "## Vertex Count"
   ]
  },
  {
   "cell_type": "code",
   "execution_count": 10,
   "id": "e0822a21",
   "metadata": {},
   "outputs": [
    {
     "data": {
      "text/plain": [
       "[Vertex(label='s', d=inf),\n",
       " Vertex(label='t', d=inf),\n",
       " Vertex(label='x', d=inf),\n",
       " Vertex(label='y', d=inf),\n",
       " Vertex(label='z', d=inf)]"
      ]
     },
     "execution_count": 10,
     "metadata": {},
     "output_type": "execute_result"
    }
   ],
   "source": [
    "sorted(new_g().keys())"
   ]
  },
  {
   "cell_type": "markdown",
   "id": "24606a94",
   "metadata": {},
   "source": [
    "## Edge Count"
   ]
  },
  {
   "cell_type": "code",
   "execution_count": 11,
   "id": "7dff2880",
   "metadata": {},
   "outputs": [
    {
     "data": {
      "text/plain": [
       "10"
      ]
     },
     "execution_count": 11,
     "metadata": {},
     "output_type": "execute_result"
    }
   ],
   "source": [
    "edge_cnt = 0\n",
    "for v, edges in g.items():\n",
    "    edge_cnt += len(edges)\n",
    "edge_cnt"
   ]
  },
  {
   "cell_type": "code",
   "execution_count": 12,
   "id": "c9a02304",
   "metadata": {},
   "outputs": [
    {
     "name": "stdout",
     "output_type": "stream",
     "text": [
      "Vertex(label='s', d=inf)\n",
      "t 10\n",
      "y 5\n",
      "------\n",
      "Vertex(label='t', d=inf)\n",
      "x 1\n",
      "y 2\n",
      "------\n",
      "Vertex(label='x', d=inf)\n",
      "z 4\n",
      "------\n",
      "Vertex(label='y', d=inf)\n",
      "z 2\n",
      "t 3\n",
      "x 9\n",
      "------\n",
      "Vertex(label='z', d=inf)\n",
      "x 6\n",
      "s 7\n",
      "------\n"
     ]
    }
   ],
   "source": [
    "for v in g.keys():\n",
    "    print(f\"{v}\")\n",
    "    for edge_item in g[v]:\n",
    "        print(f\"{edge_item[0].label} {edge_item[1]}\")\n",
    "    print(f\"------\")"
   ]
  },
  {
   "cell_type": "code",
   "execution_count": 13,
   "id": "15976444",
   "metadata": {},
   "outputs": [],
   "source": [
    "def init_single_source(g, s):\n",
    "    V[s].d = 0"
   ]
  },
  {
   "cell_type": "code",
   "execution_count": 14,
   "id": "83ad8586",
   "metadata": {},
   "outputs": [
    {
     "data": {
      "text/plain": [
       "dict_keys([Vertex(label='s', d=inf), Vertex(label='t', d=inf), Vertex(label='x', d=inf), Vertex(label='y', d=inf), Vertex(label='z', d=inf)])"
      ]
     },
     "execution_count": 14,
     "metadata": {},
     "output_type": "execute_result"
    }
   ],
   "source": [
    "init_single_source(g, 's')\n",
    "g.keys()"
   ]
  },
  {
   "cell_type": "code",
   "execution_count": null,
   "id": "b2996f80",
   "metadata": {},
   "outputs": [],
   "source": []
  },
  {
   "cell_type": "code",
   "execution_count": 49,
   "id": "97c56059",
   "metadata": {},
   "outputs": [
    {
     "name": "stdout",
     "output_type": "stream",
     "text": [
      "RELAX a -> b w: 2\n",
      "relax try a -> b w: 2\n"
     ]
    }
   ],
   "source": [
    "def relax(u, v, w):\n",
    "    if u.d + w < v.d:\n",
    "        v.d = u.d + w\n",
    "        print(f\"RELAX {u.label} -> {v.label} w: {w}\")\n",
    "        return True\n",
    "    print(f\"relax try {u.label} -> {v.label} w: {w}\")\n",
    "    return False\n",
    "\n",
    "assert relax(Vertex('a', 4), Vertex('b', 10), 2)\n",
    "assert not relax(Vertex('a', 4), Vertex('b', 5), 2)"
   ]
  },
  {
   "cell_type": "code",
   "execution_count": 50,
   "id": "7694ef52",
   "metadata": {},
   "outputs": [],
   "source": [
    "class MinPriorityQueue:\n",
    "    \n",
    "    def __init__(self):\n",
    "        self.arr = []\n",
    "    \n",
    "    def add(self, item):\n",
    "        heappush(self.arr, item)\n",
    "    \n",
    "    def get_min(self):\n",
    "        return heappop(self.arr)"
   ]
  },
  {
   "cell_type": "code",
   "execution_count": 51,
   "id": "16248233",
   "metadata": {},
   "outputs": [
    {
     "name": "stdout",
     "output_type": "stream",
     "text": [
      "# 0\n",
      "u: Vertex(label='s', d=0)\n",
      "arr: [Vertex(label='t', d=inf), Vertex(label='y', d=inf), Vertex(label='x', d=inf), Vertex(label='z', d=inf)]\n",
      "RELAX s -> t w: 10\n",
      "RELAX s -> y w: 5\n",
      "after iter nodes: dict_keys([Vertex(label='s', d=0), Vertex(label='t', d=10), Vertex(label='x', d=inf), Vertex(label='y', d=5), Vertex(label='z', d=inf)])\n",
      "# 1\n",
      "u: Vertex(label='t', d=10)\n",
      "arr: [Vertex(label='x', d=inf), Vertex(label='y', d=5), Vertex(label='z', d=inf)]\n",
      "RELAX t -> x w: 1\n",
      "relax try t -> y w: 2\n",
      "after iter nodes: dict_keys([Vertex(label='s', d=0), Vertex(label='t', d=10), Vertex(label='x', d=11), Vertex(label='y', d=5), Vertex(label='z', d=inf)])\n",
      "# 2\n",
      "u: Vertex(label='x', d=11)\n",
      "arr: [Vertex(label='y', d=5), Vertex(label='z', d=inf)]\n",
      "RELAX x -> z w: 4\n",
      "after iter nodes: dict_keys([Vertex(label='s', d=0), Vertex(label='t', d=10), Vertex(label='x', d=11), Vertex(label='y', d=5), Vertex(label='z', d=15)])\n",
      "# 3\n",
      "u: Vertex(label='y', d=5)\n",
      "arr: [Vertex(label='z', d=15)]\n",
      "RELAX y -> z w: 2\n",
      "RELAX y -> t w: 3\n",
      "relax try y -> x w: 9\n",
      "after iter nodes: dict_keys([Vertex(label='s', d=0), Vertex(label='t', d=8), Vertex(label='x', d=11), Vertex(label='y', d=5), Vertex(label='z', d=7)])\n",
      "# 4\n",
      "u: Vertex(label='z', d=7)\n",
      "arr: []\n",
      "relax try z -> x w: 6\n",
      "relax try z -> s w: 7\n",
      "after iter nodes: dict_keys([Vertex(label='s', d=0), Vertex(label='t', d=8), Vertex(label='x', d=11), Vertex(label='y', d=5), Vertex(label='z', d=7)])\n"
     ]
    }
   ],
   "source": [
    "def dijkstra(g, source):\n",
    "    S = []\n",
    "    \n",
    "    init_single_source(g, source)\n",
    "\n",
    "    Q = MinPriorityQueue() # min heap queue\n",
    "    \n",
    "    for u in g.keys():\n",
    "        Q.add(u)\n",
    "\n",
    "    i = 0\n",
    "    while Q.arr:\n",
    "        print(f\"# {i}\")\n",
    "        u = Q.get_min()\n",
    "        print(f\"u: {u}\")\n",
    "        print(f\"arr: {Q.arr}\")\n",
    "        \n",
    "        \n",
    "        for edge_item in g[u]:\n",
    "            v = edge_item[0]\n",
    "            w = edge_item[1]\n",
    "            relax(u, v, w)\n",
    "    \n",
    "        print(f\"after iter nodes: {g.keys()}\")\n",
    "        \n",
    "        i += 1\n",
    "\n",
    "    return None\n",
    "\n",
    "dijkstra(new_g(), 's')"
   ]
  },
  {
   "cell_type": "code",
   "execution_count": 54,
   "id": "d5c9d664",
   "metadata": {},
   "outputs": [
    {
     "data": {
      "text/plain": [
       "{'s': Vertex(label='s', d=0),\n",
       " 't': Vertex(label='t', d=8),\n",
       " 'x': Vertex(label='x', d=11),\n",
       " 'y': Vertex(label='y', d=5),\n",
       " 'z': Vertex(label='z', d=7)}"
      ]
     },
     "execution_count": 54,
     "metadata": {},
     "output_type": "execute_result"
    }
   ],
   "source": [
    "V"
   ]
  },
  {
   "cell_type": "markdown",
   "id": "96289109",
   "metadata": {},
   "source": [
    "Let's print all short paths from vertex S to other nodes."
   ]
  },
  {
   "cell_type": "code",
   "execution_count": 58,
   "id": "c398572e",
   "metadata": {},
   "outputs": [
    {
     "name": "stdout",
     "output_type": "stream",
     "text": [
      "Short Path: s -> s = 0\n",
      "Short Path: s -> t = 8\n",
      "Short Path: s -> x = 11\n",
      "Short Path: s -> y = 5\n",
      "Short Path: s -> z = 7\n"
     ]
    }
   ],
   "source": [
    "for u in V.values():\n",
    "    print(f\"Short Path: s -> {u.label} = {u.d}\")"
   ]
  },
  {
   "cell_type": "code",
   "execution_count": null,
   "id": "84c8a1d3",
   "metadata": {},
   "outputs": [],
   "source": []
  },
  {
   "cell_type": "code",
   "execution_count": 69,
   "id": "eaee3c5a",
   "metadata": {},
   "outputs": [],
   "source": [
    "init_single_source(g, 's')"
   ]
  },
  {
   "cell_type": "code",
   "execution_count": 71,
   "id": "201f27cf",
   "metadata": {},
   "outputs": [
    {
     "data": {
      "text/plain": [
       "dict_keys([Vertex(label='s', d=0), Vertex(label='t', d=inf), Vertex(label='x', d=inf), Vertex(label='y', d=inf), Vertex(label='z', d=inf)])"
      ]
     },
     "execution_count": 71,
     "metadata": {},
     "output_type": "execute_result"
    }
   ],
   "source": [
    "g.keys()"
   ]
  },
  {
   "cell_type": "code",
   "execution_count": 72,
   "id": "f60a6729",
   "metadata": {},
   "outputs": [
    {
     "data": {
      "text/plain": [
       "[]"
      ]
     },
     "execution_count": 72,
     "metadata": {},
     "output_type": "execute_result"
    }
   ],
   "source": [
    "Q = MinPriorityQueue()\n",
    "Q.arr"
   ]
  },
  {
   "cell_type": "code",
   "execution_count": 73,
   "id": "ce6c7ace",
   "metadata": {},
   "outputs": [
    {
     "data": {
      "text/plain": [
       "[Vertex(label='s', d=0)]"
      ]
     },
     "execution_count": 73,
     "metadata": {},
     "output_type": "execute_result"
    }
   ],
   "source": [
    "for u in g.keys():\n",
    "    Q.add(u)\n",
    "    break\n",
    "Q.arr"
   ]
  },
  {
   "cell_type": "code",
   "execution_count": 77,
   "id": "b452013b",
   "metadata": {},
   "outputs": [
    {
     "data": {
      "text/plain": [
       "Vertex(label='s', d=0)"
      ]
     },
     "execution_count": 77,
     "metadata": {},
     "output_type": "execute_result"
    }
   ],
   "source": [
    "v = None\n",
    "for u in g.keys():\n",
    "    v = u\n",
    "    break\n",
    "v"
   ]
  },
  {
   "cell_type": "code",
   "execution_count": null,
   "id": "fdc2c950",
   "metadata": {},
   "outputs": [],
   "source": []
  },
  {
   "cell_type": "code",
   "execution_count": null,
   "id": "cab197d4",
   "metadata": {},
   "outputs": [],
   "source": []
  },
  {
   "cell_type": "code",
   "execution_count": 1,
   "id": "7ed365df",
   "metadata": {},
   "outputs": [],
   "source": [
    "from collections import OrderedDict"
   ]
  },
  {
   "cell_type": "code",
   "execution_count": null,
   "id": "76abd293",
   "metadata": {},
   "outputs": [],
   "source": [
    "d = OrderedDict()\n",
    "d[0] = f"
   ]
  }
 ],
 "metadata": {
  "kernelspec": {
   "display_name": "Python 3 (ipykernel)",
   "language": "python",
   "name": "python3"
  },
  "language_info": {
   "codemirror_mode": {
    "name": "ipython",
    "version": 3
   },
   "file_extension": ".py",
   "mimetype": "text/x-python",
   "name": "python",
   "nbconvert_exporter": "python",
   "pygments_lexer": "ipython3",
   "version": "3.7.11"
  }
 },
 "nbformat": 4,
 "nbformat_minor": 5
}
