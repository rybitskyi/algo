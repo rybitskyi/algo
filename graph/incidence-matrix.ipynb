{
 "cells": [
  {
   "cell_type": "markdown",
   "id": "8af09ce1",
   "metadata": {},
   "source": [
    "https://walkccc.me/CLRS/Chap22/22.1/"
   ]
  },
  {
   "cell_type": "code",
   "execution_count": 2,
   "id": "be2f68d3",
   "metadata": {},
   "outputs": [],
   "source": [
    "import numpy as np"
   ]
  },
  {
   "cell_type": "code",
   "execution_count": 1,
   "id": "a5b79fc8",
   "metadata": {},
   "outputs": [
    {
     "data": {
      "text/plain": [
       "[[-1, 0, 0, 1, 0], [1, -1, 0, 0, 1], [0, 1, -1, 0, 0], [0, 0, 1, -1, -1]]"
      ]
     },
     "execution_count": 1,
     "metadata": {},
     "output_type": "execute_result"
    }
   ],
   "source": [
    "b = [\n",
    "    [-1,0,0,1,0],\n",
    "    [1,-1,0,0,1],\n",
    "    [0,1,-1,0,0],\n",
    "    [0,0,1,-1,-1],\n",
    "]\n",
    "b"
   ]
  },
  {
   "cell_type": "code",
   "execution_count": 5,
   "id": "c73218fc",
   "metadata": {},
   "outputs": [
    {
     "data": {
      "text/plain": [
       "array([[-1,  1,  0,  0],\n",
       "       [ 0, -1,  1,  0],\n",
       "       [ 0,  0, -1,  1],\n",
       "       [ 1,  0,  0, -1],\n",
       "       [ 0,  1,  0, -1]])"
      ]
     },
     "execution_count": 5,
     "metadata": {},
     "output_type": "execute_result"
    }
   ],
   "source": [
    "np.matrix.transpose(np.array(b))"
   ]
  },
  {
   "cell_type": "code",
   "execution_count": 6,
   "id": "90d7552b",
   "metadata": {},
   "outputs": [
    {
     "data": {
      "text/plain": [
       "array([[ 2, -1,  0, -1],\n",
       "       [-1,  3, -1, -1],\n",
       "       [ 0, -1,  2, -1],\n",
       "       [-1, -1, -1,  3]])"
      ]
     },
     "execution_count": 6,
     "metadata": {},
     "output_type": "execute_result"
    }
   ],
   "source": [
    "np.matmul(np.array(b), np.matrix.transpose(np.array(b)))"
   ]
  },
  {
   "cell_type": "code",
   "execution_count": null,
   "id": "f7696ec3",
   "metadata": {},
   "outputs": [],
   "source": []
  }
 ],
 "metadata": {
  "kernelspec": {
   "display_name": "Python 3 (ipykernel)",
   "language": "python",
   "name": "python3"
  },
  "language_info": {
   "codemirror_mode": {
    "name": "ipython",
    "version": 3
   },
   "file_extension": ".py",
   "mimetype": "text/x-python",
   "name": "python",
   "nbconvert_exporter": "python",
   "pygments_lexer": "ipython3",
   "version": "3.7.11"
  }
 },
 "nbformat": 4,
 "nbformat_minor": 5
}
