{
 "cells": [
  {
   "cell_type": "markdown",
   "id": "8ac0b6eb",
   "metadata": {},
   "source": [
    "# Overview\n",
    "\n",
    "## Topological Sort\n",
    "\n",
    "```\n",
    "def topological_sort(G):\n",
    "    call dfs(G) to compute finish times v.f for each vertex v\n",
    "    as each vertex is finised, insert it onto the front of a lined list\n",
    "    return the linked list of vertices\n",
    "```"
   ]
  },
  {
   "cell_type": "code",
   "execution_count": 29,
   "id": "4e3c041b",
   "metadata": {},
   "outputs": [],
   "source": [
    "adj = {\n",
    "    'pants': ['undershorts'],\n",
    "    'watch': [],\n",
    "    'belt': ['pants', 'shirt'],\n",
    "    'undershorts': [],\n",
    "    'tie': ['shirt'],\n",
    "    'jacket': ['tie', 'belt'],\n",
    "    'shoes': ['undershorts', 'pants', 'socks'],\n",
    "    'socks': [],\n",
    "    'shirt': [],\n",
    "}"
   ]
  },
  {
   "cell_type": "code",
   "execution_count": 30,
   "id": "86363e50",
   "metadata": {},
   "outputs": [],
   "source": [
    "def top_sort(g):\n",
    "\n",
    "    sorted_list = []\n",
    "    \n",
    "    def dfs_visit(u):\n",
    "        visited.add(u)\n",
    "        for v in g[u]:\n",
    "            if not v in visited:\n",
    "                dfs_visit(v)        \n",
    "        sorted_list.append(u)\n",
    "    \n",
    "    visited = set()\n",
    "\n",
    "\n",
    "    for u in g.keys():\n",
    "        if not u in visited:\n",
    "            dfs_visit(u)\n",
    "            \n",
    "    \n",
    "    return sorted_list"
   ]
  },
  {
   "cell_type": "code",
   "execution_count": 31,
   "id": "32f183ad",
   "metadata": {},
   "outputs": [
    {
     "data": {
      "text/plain": [
       "['undershorts',\n",
       " 'pants',\n",
       " 'watch',\n",
       " 'shirt',\n",
       " 'belt',\n",
       " 'tie',\n",
       " 'jacket',\n",
       " 'socks',\n",
       " 'shoes']"
      ]
     },
     "execution_count": 31,
     "metadata": {},
     "output_type": "execute_result"
    }
   ],
   "source": [
    "top_sort(adj)"
   ]
  },
  {
   "cell_type": "code",
   "execution_count": 17,
   "id": "c0f40205",
   "metadata": {},
   "outputs": [
    {
     "data": {
      "text/plain": [
       "{'shirt': ['tie', 'belt'],\n",
       " 'tie': ['jacket'],\n",
       " 'belt': ['jacket'],\n",
       " 'socks': ['shoes'],\n",
       " 'shoes': [],\n",
       " 'watch': [],\n",
       " 'jacket': [],\n",
       " 'undershorts': ['shoes', 'pants'],\n",
       " 'pants': ['belt', 'shoes']}"
      ]
     },
     "execution_count": 17,
     "metadata": {},
     "output_type": "execute_result"
    }
   ],
   "source": [
    "adj"
   ]
  },
  {
   "cell_type": "code",
   "execution_count": null,
   "id": "d093327e",
   "metadata": {},
   "outputs": [],
   "source": []
  },
  {
   "cell_type": "code",
   "execution_count": null,
   "id": "bd05328a",
   "metadata": {},
   "outputs": [],
   "source": []
  },
  {
   "cell_type": "code",
   "execution_count": null,
   "id": "c5f1ecf4",
   "metadata": {},
   "outputs": [],
   "source": []
  },
  {
   "cell_type": "code",
   "execution_count": null,
   "id": "abc03d9f",
   "metadata": {},
   "outputs": [],
   "source": []
  },
  {
   "cell_type": "code",
   "execution_count": null,
   "id": "a30b1723",
   "metadata": {},
   "outputs": [],
   "source": []
  },
  {
   "cell_type": "code",
   "execution_count": null,
   "id": "e12fe371",
   "metadata": {},
   "outputs": [],
   "source": []
  },
  {
   "cell_type": "code",
   "execution_count": null,
   "id": "99c9cd4c",
   "metadata": {},
   "outputs": [],
   "source": []
  },
  {
   "cell_type": "code",
   "execution_count": null,
   "id": "af1674c9",
   "metadata": {},
   "outputs": [],
   "source": []
  },
  {
   "cell_type": "code",
   "execution_count": null,
   "id": "a9560b65",
   "metadata": {},
   "outputs": [],
   "source": []
  },
  {
   "cell_type": "code",
   "execution_count": null,
   "id": "2869a737",
   "metadata": {},
   "outputs": [],
   "source": []
  },
  {
   "cell_type": "code",
   "execution_count": null,
   "id": "9d793db9",
   "metadata": {},
   "outputs": [],
   "source": [
    "class Solution:\n",
    "\n",
    "    WHITE = 0\n",
    "    GRAY = 1\n",
    "    BLACK = -1\n",
    "\n",
    "    def canFinish(self, n: int, prerequisites: List[List[int]]) -> bool:\n",
    "\n",
    "        def dfs(i: int) -> bool:\n",
    "            if color[i] == self.GRAY:\n",
    "                return True\n",
    "            if color[i] == self.BLACK:\n",
    "                return False\n",
    "\n",
    "            color[i] = self.GRAY\n",
    "            for j in graph[i]:\n",
    "                if dfs(j):\n",
    "                    return True\n",
    "\n",
    "            color[i] = self.BLACK\n",
    "            return False\n",
    "\n",
    "        graph = defaultdict(list)\n",
    "        for u, v in prerequisites:\n",
    "            graph[u].append(v)\n",
    "\n",
    "        color = [self.WHITE] * n\n",
    "        return not any(map(dfs, range(n)))"
   ]
  }
 ],
 "metadata": {
  "kernelspec": {
   "display_name": "Python 3 (ipykernel)",
   "language": "python",
   "name": "python3"
  },
  "language_info": {
   "codemirror_mode": {
    "name": "ipython",
    "version": 3
   },
   "file_extension": ".py",
   "mimetype": "text/x-python",
   "name": "python",
   "nbconvert_exporter": "python",
   "pygments_lexer": "ipython3",
   "version": "3.7.11"
  }
 },
 "nbformat": 4,
 "nbformat_minor": 5
}
