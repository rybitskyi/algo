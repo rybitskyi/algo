{
 "cells": [
  {
   "cell_type": "markdown",
   "id": "fefd8959",
   "metadata": {},
   "source": [
    "# Overview\n",
    "\n",
    "https://leetcode.com/problems/find-eventual-safe-states/\n",
    "\n",
    "There is a directed graph of n nodes with each node labeled from 0 to n - 1. The graph is represented by a 0-indexed 2D integer array graph where graph[i] is an integer array of nodes adjacent to node i, meaning there is an edge from node i to each node in graph[i].\n",
    "\n",
    "A node is a terminal node if there are no outgoing edges. A node is a safe node if every possible path starting from that node leads to a terminal node (or another safe node).\n",
    "\n",
    "Return an array containing all the safe nodes of the graph. The answer should be sorted in ascending order.\n",
    "\n",
    " \n",
    "\n",
    "## Example 1\n",
    "\n",
    "Input: graph = [[1,2],[2,3],[5],[0],[5],[],[]]\n",
    "\n",
    "Output: [2,4,5,6]\n",
    "\n",
    "Explanation: The given graph is shown above.\n",
    "Nodes 5 and 6 are terminal nodes as there are no outgoing edges from either of them.\n",
    "Every path starting at nodes 2, 4, 5, and 6 all lead to either node 5 or 6.\n",
    "\n",
    "## Example 2\n",
    "\n",
    "Input: graph = [[1,2,3,4],[1,2],[3,4],[0,4],[]]\n",
    "\n",
    "Output: [4]\n",
    "\n",
    "Explanation:\n",
    "Only node 4 is a terminal node, and every path starting at node 4 leads to node 4."
   ]
  },
  {
   "cell_type": "code",
   "execution_count": 112,
   "id": "f0480632",
   "metadata": {},
   "outputs": [
    {
     "name": "stdout",
     "output_type": "stream",
     "text": [
      "res False\n",
      "res False\n",
      "There is a cycle from 0 to 3\n",
      "res False\n",
      "res False\n",
      "There is a cycle from 1 to 0\n",
      "res False\n",
      "res False\n",
      "res False\n",
      "res False\n",
      "There is a cycle from 3 to 1\n",
      "res False\n",
      "res False\n",
      "res False\n",
      "res False\n"
     ]
    },
    {
     "data": {
      "text/plain": [
       "[2, 4, 5, 6]"
      ]
     },
     "execution_count": 112,
     "metadata": {},
     "output_type": "execute_result"
    }
   ],
   "source": [
    "class SafeStatesFinder:\n",
    "    \n",
    "    def __init__(self, graph):\n",
    "        self.graph = graph\n",
    "        self.n = len(graph)\n",
    "\n",
    "        # None - default state\n",
    "        # 1 - discovered\n",
    "        # 2 - processed\n",
    "        self.state = [None] * self.n\n",
    "        \n",
    "    \n",
    "    def dfs(self, u) -> bool:\n",
    "        '''\n",
    "        Returns whether there is a cycle.\n",
    "        '''\n",
    "#         print(u)\n",
    "        assert self.state[u] is None # Each vertex should be traversed once only\n",
    "        self.state[u] = 1\n",
    "\n",
    "        detected_cycle = False\n",
    "        for v in self.graph[u]:\n",
    "            if self.state[v] is None:\n",
    "                if self.dfs(v): \n",
    "                    return True\n",
    "            elif self.state[v] == 1:\n",
    "                print(f\"There is a cycle from {v} to {u}\")\n",
    "                return True\n",
    "\n",
    "\n",
    "        self.state[u] = 2\n",
    "        \n",
    "        print(f\"res False\")\n",
    "        return detected_cycle\n",
    "\n",
    "    def is_safe_state(self, s: int) -> bool:\n",
    "        return not self.dfs(s)\n",
    "    \n",
    "    def get_safe_states(self):\n",
    "        res = []\n",
    "        for u in range(self.n):\n",
    "            self.state = [None] * self.n\n",
    "            if self.is_safe_state(u):\n",
    "                res.append(u)\n",
    "        return res\n",
    "        \n",
    "\n",
    "#SafeStatesFinder([[1,2],[2,3],[5],[0],[5],[],[]]).is_safe_state(1)\n",
    "SafeStatesFinder([[1,2],[2,3],[5],[0],[5],[],[]]).get_safe_states()\n",
    "# [2,4,5,6]"
   ]
  },
  {
   "cell_type": "code",
   "execution_count": null,
   "id": "8b3ee22f",
   "metadata": {},
   "outputs": [],
   "source": []
  },
  {
   "cell_type": "code",
   "execution_count": null,
   "id": "6d3820bc",
   "metadata": {},
   "outputs": [],
   "source": []
  },
  {
   "cell_type": "code",
   "execution_count": 119,
   "id": "352f0ebb",
   "metadata": {},
   "outputs": [
    {
     "data": {
      "text/plain": [
       "[2, 4, 5, 6]"
      ]
     },
     "execution_count": 119,
     "metadata": {},
     "output_type": "execute_result"
    }
   ],
   "source": [
    "class SafeStatesFinder:\n",
    "    \n",
    "    def __init__(self, graph):\n",
    "        self.graph = graph\n",
    "        self.n = len(graph)\n",
    "\n",
    "        # None - default state\n",
    "        # 1 - discovered\n",
    "        # 2 - processed\n",
    "        self.state = [None] * self.n\n",
    "        \n",
    "    \n",
    "    def dfs(self, u) -> bool:\n",
    "        '''\n",
    "        Returns whether there is a cycle.\n",
    "        '''\n",
    "#         print(u)\n",
    "#         assert self.state[u] is None # Each vertex should be traversed once only\n",
    "        self.state[u] = 1\n",
    "\n",
    "        detected_cycle = False\n",
    "        for v in self.graph[u]:\n",
    "            if self.state[v] is None:\n",
    "                if self.dfs(v): \n",
    "                    return True\n",
    "            elif self.state[v] == 1:\n",
    "#                 print(f\"There is a cycle from {v} to {u}\")\n",
    "                return True\n",
    "\n",
    "\n",
    "        self.state[u] = 2\n",
    "        \n",
    "#         print(f\"res False\")\n",
    "        return detected_cycle\n",
    "\n",
    "    def is_safe_state(self, s: int) -> bool:\n",
    "        return not self.dfs(s)\n",
    "    \n",
    "    def get_safe_states(self):\n",
    "        res = []\n",
    "        for u in range(self.n):\n",
    "            self.dfs(u)\n",
    "        \n",
    "        for u in range(self.n):\n",
    "            if self.state[u] == 2:\n",
    "                res.append(u)\n",
    "        return res\n",
    "        \n",
    "\n",
    "#SafeStatesFinder([[1,2],[2,3],[5],[0],[5],[],[]]).is_safe_state(1)\n",
    "SafeStatesFinder([[1,2],[2,3],[5],[0],[5],[],[]]).get_safe_states()\n",
    "# [2,4,5,6]"
   ]
  },
  {
   "cell_type": "markdown",
   "id": "c5628716",
   "metadata": {},
   "source": [
    "DFS(G,V):\n",
    "1. Mark V as \"being explored\"\n",
    "2. For every vertex K belonging to Adj.(V)\n",
    "   -- If K is not explored, \n",
    "      -- Call DFS(G,K)\n",
    "   -- else if K is \"being explored\" (not \"fully explored\")\n",
    "      -- then there is a cycle\n",
    "3. Mark V as \"fully explored\" "
   ]
  },
  {
   "cell_type": "code",
   "execution_count": null,
   "id": "6dbf43d6",
   "metadata": {},
   "outputs": [],
   "source": []
  },
  {
   "cell_type": "code",
   "execution_count": null,
   "id": "f121a413",
   "metadata": {},
   "outputs": [],
   "source": []
  },
  {
   "cell_type": "code",
   "execution_count": null,
   "id": "8bb7d371",
   "metadata": {},
   "outputs": [],
   "source": []
  },
  {
   "cell_type": "code",
   "execution_count": 36,
   "id": "357b33b3",
   "metadata": {},
   "outputs": [
    {
     "name": "stdout",
     "output_type": "stream",
     "text": [
      "[0] seen: {0}\n",
      "[1] seen: {1}\n",
      "[0] seen: {0, 1}\n",
      "[2] seen: {0, 1, 2}\n",
      "[3] seen: {0, 1, 2, 3}\n",
      "[4] seen: {0, 1, 2, 3, 4}\n",
      "[2] seen: {2}\n",
      "[3] seen: {2, 3}\n",
      "[4] seen: {2, 3, 4}\n",
      "[3] seen: {3}\n",
      "[4] seen: {3, 4}\n",
      "[4] seen: {4}\n"
     ]
    },
    {
     "data": {
      "text/plain": [
       "[0, 2, 3, 4]"
      ]
     },
     "execution_count": 36,
     "metadata": {},
     "output_type": "execute_result"
    }
   ],
   "source": [
    "SafeStatesFinder([[],[0,2,3,4],[3 ],[4],[]]).get_safe_states()"
   ]
  },
  {
   "cell_type": "code",
   "execution_count": null,
   "id": "a3cfcec8",
   "metadata": {},
   "outputs": [],
   "source": []
  }
 ],
 "metadata": {
  "kernelspec": {
   "display_name": "Python 3 (ipykernel)",
   "language": "python",
   "name": "python3"
  },
  "language_info": {
   "codemirror_mode": {
    "name": "ipython",
    "version": 3
   },
   "file_extension": ".py",
   "mimetype": "text/x-python",
   "name": "python",
   "nbconvert_exporter": "python",
   "pygments_lexer": "ipython3",
   "version": "3.7.11"
  }
 },
 "nbformat": 4,
 "nbformat_minor": 5
}
