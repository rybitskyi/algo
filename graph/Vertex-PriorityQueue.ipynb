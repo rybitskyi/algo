{
 "cells": [
  {
   "cell_type": "code",
   "execution_count": 7,
   "id": "5449916d",
   "metadata": {},
   "outputs": [],
   "source": [
    "from dataclasses import dataclass, field\n",
    "from heapq import heappush, heappop, heapify"
   ]
  },
  {
   "cell_type": "code",
   "execution_count": 8,
   "id": "910d4fb9",
   "metadata": {},
   "outputs": [],
   "source": [
    "@dataclass(order=True, unsafe_hash=True)\n",
    "class Vertex:\n",
    "    label: int = field(hash=False, compare=False)\n",
    "    d: float = field(default=0.0, hash=True)"
   ]
  },
  {
   "cell_type": "code",
   "execution_count": 9,
   "id": "fcde2544",
   "metadata": {},
   "outputs": [
    {
     "data": {
      "text/plain": [
       "[Vertex(label=3, d=-2),\n",
       " Vertex(label=1, d=1.0),\n",
       " Vertex(label=2, d=2.0),\n",
       " Vertex(label=4, d=4.0)]"
      ]
     },
     "execution_count": 9,
     "metadata": {},
     "output_type": "execute_result"
    }
   ],
   "source": [
    "arr = [\n",
    "    Vertex(label=1, d=1.0), \n",
    "    Vertex(label=3, d=-2), \n",
    "    Vertex(label=2, d=2.0), \n",
    "    Vertex(label=4, d=4.0),\n",
    "]\n",
    "heapify(arr)\n",
    "arr"
   ]
  },
  {
   "cell_type": "code",
   "execution_count": 10,
   "id": "48cd7fd8",
   "metadata": {},
   "outputs": [
    {
     "data": {
      "text/plain": [
       "[Vertex(label=1, d=1.0), Vertex(label=4, d=4.0), Vertex(label=2, d=2.0)]"
      ]
     },
     "execution_count": 10,
     "metadata": {},
     "output_type": "execute_result"
    }
   ],
   "source": [
    "assert heappop(arr).d == -2.0\n",
    "arr"
   ]
  },
  {
   "cell_type": "code",
   "execution_count": 5,
   "id": "54130d16",
   "metadata": {},
   "outputs": [
    {
     "data": {
      "text/plain": [
       "[Vertex(label=2, d=2.0), Vertex(label=4, d=4.0)]"
      ]
     },
     "execution_count": 5,
     "metadata": {},
     "output_type": "execute_result"
    }
   ],
   "source": [
    "heappop(arr)\n",
    "arr"
   ]
  },
  {
   "cell_type": "code",
   "execution_count": 6,
   "id": "04f1133c",
   "metadata": {},
   "outputs": [
    {
     "data": {
      "text/plain": [
       "[Vertex(label=4, d=4.0)]"
      ]
     },
     "execution_count": 6,
     "metadata": {},
     "output_type": "execute_result"
    }
   ],
   "source": [
    "heappop(arr)\n",
    "arr"
   ]
  },
  {
   "cell_type": "code",
   "execution_count": null,
   "id": "73723de1",
   "metadata": {},
   "outputs": [],
   "source": []
  }
 ],
 "metadata": {
  "kernelspec": {
   "display_name": "Python 3 (ipykernel)",
   "language": "python",
   "name": "python3"
  },
  "language_info": {
   "codemirror_mode": {
    "name": "ipython",
    "version": 3
   },
   "file_extension": ".py",
   "mimetype": "text/x-python",
   "name": "python",
   "nbconvert_exporter": "python",
   "pygments_lexer": "ipython3",
   "version": "3.7.11"
  }
 },
 "nbformat": 4,
 "nbformat_minor": 5
}
