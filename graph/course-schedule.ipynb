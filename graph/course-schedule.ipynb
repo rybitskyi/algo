{
 "cells": [
  {
   "cell_type": "markdown",
   "id": "2ca61722",
   "metadata": {},
   "source": [
    "# Overview\n",
    "\n",
    "https://leetcode.com/problems/course-schedule/description/\n",
    "\n",
    "There are a total of numCourses courses you have to take, labeled from 0 to numCourses - 1. You are given an array prerequisites where prerequisites[i] = [ai, bi] indicates that you must take course bi first if you want to take course ai.\n",
    "\n",
    "For example, the pair [0, 1], indicates that to take course 0 you have to first take course 1.\n",
    "Return true if you can finish all courses. Otherwise, return false.\n",
    "\n",
    " \n",
    "\n",
    "## Example 1:\n",
    "\n",
    "Input: numCourses = 2, prerequisites = [[1,0]]\n",
    "Output: true\n",
    "Explanation: There are a total of 2 courses to take. \n",
    "To take course 1 you should have finished course 0. So it is possible.\n",
    "\n",
    "\n",
    "## Example 2:\n",
    "\n",
    "Input: numCourses = 2, prerequisites = [[1,0],[0,1]]\n",
    "Output: false\n",
    "Explanation: There are a total of 2 courses to take. \n",
    "To take course 1 you should have finished course 0, and to take course 0 you should also have finished course 1. So it is impossible."
   ]
  },
  {
   "cell_type": "code",
   "execution_count": 4,
   "id": "c9525250",
   "metadata": {},
   "outputs": [],
   "source": [
    "from collections import defaultdict"
   ]
  },
  {
   "cell_type": "code",
   "execution_count": 115,
   "id": "662b8666",
   "metadata": {},
   "outputs": [
    {
     "data": {
      "text/plain": [
       "True"
      ]
     },
     "execution_count": 115,
     "metadata": {},
     "output_type": "execute_result"
    }
   ],
   "source": [
    "class DirectedGraph:\n",
    "\n",
    "    def __init__(self, data, n):\n",
    "        self.n = n\n",
    "\n",
    "        self.g = defaultdict(set)\n",
    "        for u,v in data:\n",
    "            self.g[u].add(v)\n",
    "        \n",
    "#         print(self.g)\n",
    "    \n",
    "    def _init_search(self):\n",
    "        self.finished = False\n",
    "        \n",
    "        self.discovered = [False] * self.n\n",
    "        self.processed =  [False] * self.n\n",
    "        self.parent =     [None]  * self.n\n",
    "\n",
    "        self.time = 0\n",
    "        self.entry_time = [None] * self.n\n",
    "        self.exit_time =  [None] * self.n\n",
    "    \n",
    "    def _edge_cls(self, u: int, v: int) -> int:\n",
    "        pass\n",
    "    \n",
    "    def _process_edge(self, x: int, y: int):\n",
    "#         print(f\"process edge ({x},{y})\")\n",
    "        if self.discovered[y] is True and self.processed[y] is False:\n",
    "#             print(f\"BACK edge: ({(x, y)}) discovered:{self.discovered} processed:{self.processed}\")\n",
    "            self.finished = True\n",
    "    \n",
    "    def _process_vertex_early(self, v: int):\n",
    "        pass\n",
    "    \n",
    "    def _process_vertex_later(self, v: int):\n",
    "        pass\n",
    "\n",
    "    def _dfs(self, v) -> bool:\n",
    "#         print(f\"[{v}] dfs discovered:{self.discovered} processed:{self.processed}\")\n",
    "        \n",
    "        if self.finished:\n",
    "            return\n",
    "        \n",
    "        self.discovered[v] = True\n",
    "        self.time += 1\n",
    "        self.entry_time[v] = self.time\n",
    "        \n",
    "        self._process_vertex_early(v)\n",
    " \n",
    "        for y in self.g[v]:\n",
    "            if not self.discovered[y]:\n",
    "                self.parent[y] = v\n",
    "                self._process_edge(v, y)\n",
    "                self._dfs(y)\n",
    "            elif not self.processed[y]:\n",
    "                self._process_edge(v, y)\n",
    "                \n",
    "            if self.finished:\n",
    "                return\n",
    "    \n",
    "        self._process_vertex_later(v)\n",
    "        self.time += 1\n",
    "        self.exit_time[v] = self.time\n",
    "        self.processed[v] = True\n",
    "    \n",
    "    def can_traverse_all_vertices(self) -> bool:\n",
    "        self._init_search()\n",
    "\n",
    "        for u in range(self.n):\n",
    "            self._dfs(u)\n",
    "\n",
    "        if self.finished:\n",
    "            return False\n",
    "    \n",
    "        res = True\n",
    "        for i in range(self.n):\n",
    "            if not self.discovered[i]:\n",
    "                res = False\n",
    "                break\n",
    "\n",
    "#         print(f\"discovered: {self.discovered}\")\n",
    "#         print(f\"processed: {self.processed}\")\n",
    "#         print(f\"entry_time: {self.entry_time}\")\n",
    "#         print(f\"exit_time: {self.exit_time}\")\n",
    "        return res\n",
    "    \n",
    "    \n",
    "# DirectedGraph([[1,0],[0,1]], 2).can_traverse_all_vertices()# assert False\n",
    "\n",
    "DirectedGraph([[0,1],[2,3]], 4).can_traverse_all_vertices() # assert True"
   ]
  },
  {
   "cell_type": "code",
   "execution_count": 84,
   "id": "4c4c4007",
   "metadata": {},
   "outputs": [
    {
     "name": "stdout",
     "output_type": "stream",
     "text": [
      "defaultdict(<class 'set'>, {1: {0}, 0: {1}})\n",
      "[0] dfs discovered:[False, False] processed:[False, False]\n",
      "process edge (0,1)\n",
      "[1] dfs discovered:[True, False] processed:[False, False]\n",
      "process edge (1,0)\n",
      "discovered: [True, True]\n",
      "processed: [True, True]\n",
      "entry_time: [1, 2]\n",
      "exit_time: [4, 3]\n"
     ]
    },
    {
     "data": {
      "text/plain": [
       "True"
      ]
     },
     "execution_count": 84,
     "metadata": {},
     "output_type": "execute_result"
    }
   ],
   "source": [
    "# \n",
    "DirectedGraph([[1,0],[0,1]], 2).can_traverse_all_vertices() # assert False\n",
    "# DirectedGraph([[0,1],[2,3]], 4).can_traverse_all_vertices() # assert True\n"
   ]
  },
  {
   "cell_type": "code",
   "execution_count": null,
   "id": "f33c5da0",
   "metadata": {},
   "outputs": [],
   "source": []
  }
 ],
 "metadata": {
  "kernelspec": {
   "display_name": "Python 3 (ipykernel)",
   "language": "python",
   "name": "python3"
  },
  "language_info": {
   "codemirror_mode": {
    "name": "ipython",
    "version": 3
   },
   "file_extension": ".py",
   "mimetype": "text/x-python",
   "name": "python",
   "nbconvert_exporter": "python",
   "pygments_lexer": "ipython3",
   "version": "3.7.11"
  }
 },
 "nbformat": 4,
 "nbformat_minor": 5
}
