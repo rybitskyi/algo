{
 "cells": [
  {
   "cell_type": "markdown",
   "id": "2c93c3dc",
   "metadata": {},
   "source": [
    "# 22.2-8\n",
    "```\n",
    "The diameter of a tree T = (V, E)T=(V,E) is defined as \\max_{u,v \\in V} \\delta(u, v)max \n",
    "u,v∈V\n",
    "​\n",
    " δ(u,v), that is, the largest of all shortest-path distances in the tree. Give an efficient algorithm to compute the diameter of a tree, and analyze the running time of your algorithm.\n",
    "```\n",
    "\n",
    "\n",
    "=>\n",
    "\n",
    "```\n",
    "- Calculate all short-pathes using BFS\n",
    "- Choose the max short-path.\n",
    "```"
   ]
  },
  {
   "cell_type": "markdown",
   "id": "717fd13e",
   "metadata": {},
   "source": [
    "```\n",
    "\n",
    "     1\n",
    "    / \\\n",
    "  2    3\n",
    " /\n",
    "3\n",
    "\n",
    "Because it's a tree, let's go from root level-by-level.\n",
    "At \n",
    "\n",
    "```"
   ]
  }
 ],
 "metadata": {
  "kernelspec": {
   "display_name": "Python 3 (ipykernel)",
   "language": "python",
   "name": "python3"
  },
  "language_info": {
   "codemirror_mode": {
    "name": "ipython",
    "version": 3
   },
   "file_extension": ".py",
   "mimetype": "text/x-python",
   "name": "python",
   "nbconvert_exporter": "python",
   "pygments_lexer": "ipython3",
   "version": "3.7.11"
  }
 },
 "nbformat": 4,
 "nbformat_minor": 5
}
