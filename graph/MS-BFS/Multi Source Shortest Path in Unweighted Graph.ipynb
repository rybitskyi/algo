{
 "cells": [
  {
   "cell_type": "markdown",
   "id": "83fe6a27",
   "metadata": {},
   "source": [
    "# Overview\n",
    "\n",
    "https://www.geeksforgeeks.org/multi-source-shortest-path-in-unweighted-graph/\n",
    "\n",
    "Suppose there are n towns connected by m bidirectional roads. There are s towns among them with a police station. We want to find out the distance of each town from the nearest police station. If the town itself has one the distance is 0."
   ]
  },
  {
   "cell_type": "code",
   "execution_count": 5,
   "id": "dd6c7b12",
   "metadata": {},
   "outputs": [],
   "source": [
    "from collections import defaultdict, deque"
   ]
  },
  {
   "cell_type": "code",
   "execution_count": 3,
   "id": "342adf34",
   "metadata": {},
   "outputs": [],
   "source": [
    "def add_edge(g, u, v):\n",
    "    g[u].add(v)\n",
    "    g[v].add(u)"
   ]
  },
  {
   "cell_type": "code",
   "execution_count": 4,
   "id": "b0e4d9f7",
   "metadata": {},
   "outputs": [
    {
     "name": "stdout",
     "output_type": "stream",
     "text": [
      "(1, {2, 6})\n",
      "(2, {1, 3, 6})\n",
      "(6, {1, 2, 3, 5})\n",
      "(3, {2, 4, 5, 6})\n",
      "(5, {3, 4, 6})\n",
      "(4, {3, 5})\n"
     ]
    }
   ],
   "source": [
    "edges = [\n",
    "    (1,2),\n",
    "    (1, 6),\n",
    "    (2, 6),\n",
    "    (2, 3),\n",
    "    (3, 6),\n",
    "    (5, 4),\n",
    "    (6, 5),\n",
    "    (3, 4),\n",
    "    (5, 3)\n",
    "]\n",
    "g = defaultdict(set)\n",
    "for u, v in edges:\n",
    "    add_edge(g, u, v)\n",
    "for r in g.items():\n",
    "    print(r)"
   ]
  },
  {
   "cell_type": "code",
   "execution_count": null,
   "id": "68ea0082",
   "metadata": {},
   "outputs": [],
   "source": []
  },
  {
   "cell_type": "code",
   "execution_count": null,
   "id": "8e986f83",
   "metadata": {},
   "outputs": [],
   "source": [
    "Output :\n",
    "1 0\n",
    "2 1\n",
    "3 1\n",
    "4 1\n",
    "5 0\n",
    "6 1"
   ]
  },
  {
   "cell_type": "code",
   "execution_count": 18,
   "id": "e770b647",
   "metadata": {},
   "outputs": [
    {
     "name": "stdout",
     "output_type": "stream",
     "text": [
      "1 -> 0\n",
      "5 -> 0\n",
      "2 -> 1\n",
      "6 -> 1\n",
      "3 -> 1\n",
      "4 -> 1\n",
      "6 -> 1\n",
      "3 -> 2\n",
      "6 -> 2\n",
      "3 -> 2\n",
      "4 -> 2\n"
     ]
    },
    {
     "data": {
      "text/plain": [
       "[None, 0, 1, 1, 1, 0, 1]"
      ]
     },
     "execution_count": 18,
     "metadata": {},
     "output_type": "execute_result"
    }
   ],
   "source": [
    "def get_distances(g, police_vertices):\n",
    "    '''\n",
    "    - Track result for each vertices\n",
    "    - Run multi-source BFS in each iteration\n",
    "        - if the same node in multiple results, choose the smallest one\n",
    "    '''\n",
    "    res = [None for _ in range(len(g.keys()) + 1)]\n",
    "    q = deque()\n",
    "    for p in police_vertices:\n",
    "        res[p] = 0\n",
    "        q.appendleft((p, 0))\n",
    "    \n",
    "    while q:\n",
    "        u, level = q.pop()\n",
    "        print(f\"{u} -> {level}\")\n",
    "        \n",
    "        if res[u] is None:\n",
    "            res[u] = level\n",
    "        else:\n",
    "            res[u] = min(res[u], level)\n",
    "        \n",
    "\n",
    "        for v in g[u]:\n",
    "            if res[v] is not None:\n",
    "                continue\n",
    "            q.appendleft((v, level + 1))\n",
    "            \n",
    "    \n",
    "    return res\n",
    "\n",
    "# Number of Vertices = 6\n",
    "# Number of Edges = 9\n",
    "# Towns with Police Station : 1, 5\n",
    "# Edges:\n",
    "# 1 2\n",
    "\n",
    "get_distances(g, [1, 5])"
   ]
  },
  {
   "cell_type": "code",
   "execution_count": 27,
   "id": "6ca98d0e",
   "metadata": {},
   "outputs": [
    {
     "name": "stdout",
     "output_type": "stream",
     "text": [
      "1 -> 0\n",
      "5 -> 0\n",
      "2 -> 1\n",
      "6 -> 1\n",
      "3 -> 1\n",
      "4 -> 1\n"
     ]
    },
    {
     "data": {
      "text/plain": [
       "[None, 0, 1, 1, 1, 0, 1]"
      ]
     },
     "execution_count": 27,
     "metadata": {},
     "output_type": "execute_result"
    }
   ],
   "source": [
    "def get_distances(g, police_vertices):\n",
    "    '''\n",
    "    - Track result for each vertices\n",
    "    - Run multi-source BFS in each iteration\n",
    "        - if the same node in multiple results, choose the smallest one\n",
    "    '''\n",
    "    res = [None for _ in range(len(g.keys()) + 1)]\n",
    "    q = deque()\n",
    "    for p in police_vertices:\n",
    "        res[p] = 0\n",
    "        q.appendleft((p, 0))\n",
    "    \n",
    "    while q:\n",
    "        u, level = q.pop()\n",
    "        print(f\"{u} -> {level}\")\n",
    "\n",
    "        for v in g[u]:\n",
    "            if res[v] is not None:\n",
    "                continue\n",
    "            q.appendleft((v, level + 1))\n",
    "            res[v] = level + 1\n",
    "            \n",
    "    \n",
    "    return res\n",
    "\n",
    "# Number of Vertices = 6\n",
    "# Number of Edges = 9\n",
    "# Towns with Police Station : 1, 5\n",
    "# Edges:\n",
    "# 1 2\n",
    "\n",
    "get_distances(g, [1, 5])"
   ]
  },
  {
   "cell_type": "code",
   "execution_count": null,
   "id": "1fbe86a8",
   "metadata": {},
   "outputs": [],
   "source": []
  }
 ],
 "metadata": {
  "kernelspec": {
   "display_name": "Python 3 (ipykernel)",
   "language": "python",
   "name": "python3"
  },
  "language_info": {
   "codemirror_mode": {
    "name": "ipython",
    "version": 3
   },
   "file_extension": ".py",
   "mimetype": "text/x-python",
   "name": "python",
   "nbconvert_exporter": "python",
   "pygments_lexer": "ipython3",
   "version": "3.7.11"
  }
 },
 "nbformat": 4,
 "nbformat_minor": 5
}
