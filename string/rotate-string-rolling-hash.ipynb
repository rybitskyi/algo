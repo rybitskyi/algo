{
 "cells": [
  {
   "cell_type": "markdown",
   "id": "17b3dec4",
   "metadata": {},
   "source": [
    "# Overview\n",
    "\n",
    "\n",
    "# References\n",
    "https://leetcode.com/problems/rotate-string/editorial/\n",
    "https://www.cs.ucdavis.edu/~gusfield/strmat.html\n",
    "\n",
    "\n",
    "# Solution\n",
    "\n",
    "Approach #3: Rolling Hash [Accepted]\n",
    "Intuition\n",
    "\n",
    "Our approach comes down to quickly checking whether want to check whether B is a substring of A2 = A+A. Specifically, (if N = A.length) we should check whether B = A2[0:N], or B = A2[1:N+1], or B = A2[2:N+2] and so on. To check this, we can use a rolling hash.\n",
    "\n",
    "Algorithm\n",
    "\n",
    "For a string S, say hash(S) = (S[0] * P**0 + S[1] * P**1 + S[2] * P**2 + ...) % MOD, where X**Y represents exponentiation, and S[i] is the ASCII character code of the string at that index.\n",
    "\n",
    "The idea is that hash(S) has output that is approximately uniformly distributed between [0, 1, 2, ..., MOD-1], and so if hash(S) == hash(T) it is very likely that S == T.\n",
    "\n",
    "Now say we have a hash hash(A), and we want the hash of A[1], A[2], ..., A[N-1], A[0]. We can subtract A[0] from the hash, divide by P, and add A[0] * P**(N-1). (Our division is under the finite field FMOD\\mathbb{F}_\\text{MOD}F \n",
    "MOD\n",
    "  - done by multiplying by the modular inverse Pinv = pow(P, MOD-2, MOD).)\n",
    "  \n",
    "Complexity Analysis\n",
    "\n",
    "Time Complexity: O(N)O(N)O(N), where NNN is the length of A.\n",
    "\n",
    "Space Complexity: O(N)O(N)O(N), to perform the final check A_rotation == B."
   ]
  },
  {
   "cell_type": "code",
   "execution_count": 107,
   "id": "84094d47",
   "metadata": {},
   "outputs": [],
   "source": [
    "import matplotlib.pyplot as plt\n",
    "from collections import Counter"
   ]
  },
  {
   "cell_type": "code",
   "execution_count": 399,
   "id": "d5f0de69",
   "metadata": {},
   "outputs": [],
   "source": [
    "class RollingHash:\n",
    "    \n",
    "    def __init__(self):\n",
    "        self.mod = 10**9 + 7\n",
    "#         self.p = ord('z') - ord('a') # 25\n",
    "        self.p = 10\n",
    "    \n",
    "    def _hash(self, val: str) -> int:\n",
    "        res = 0\n",
    "        m = len(val)\n",
    "        p = 1\n",
    "        for i in reversed(range(m)):\n",
    "            v = val[i]\n",
    "            code = (ord(v) - 96) % self.mod\n",
    "            res += code * p\n",
    "            p *= self.p\n",
    "        return res % self.mod\n",
    "    \n",
    "    def _roll_hash(self, prev_hash: int, v: str, p2: int) -> int:\n",
    "        print(f\"_roll_hash prev_hash:{prev_hash} v:{v} p2:{p2}\")\n",
    "        code = ord(v) - 96\n",
    "        return (self.p * (prev_hash - code*p2) + code) % self.mod\n",
    "    \n",
    "    def is_rotate_str(self, s: str, p: str) -> bool:\n",
    "        n = len(s)\n",
    "        if len(p) != n:\n",
    "            print(f\"wrong length len_p:{len(p)} n:{n}\")\n",
    "            return False\n",
    "\n",
    "        p_hash = self._hash(p)        \n",
    "        p2 = self.p ** (n-1)\n",
    "\n",
    "        s_hash = self._hash(s)\n",
    "        print(f\"init s_hash: {s_hash} p_hash: {p_hash}\")\n",
    "        if p_hash == s_hash and p == s:\n",
    "            return True\n",
    "\n",
    "        for i in range(n):\n",
    "            v = s[i]\n",
    "            code = ord(v) - 96\n",
    "            s_hash = self._roll_hash(s_hash, v, p2)\n",
    "            s2 = s[i+1:] + s[:i+1]\n",
    "            assert s_hash == self._hash(s2), f\"[{s2}] {s_hash} != {self._hash(s2)}\"\n",
    "            print(f\"[{i}-{v}] s_hash:{s_hash} p_hash:{p_hash}\")\n",
    "\n",
    "            \n",
    "            if s_hash == p_hash:\n",
    "\n",
    "                if s2 == p:\n",
    "                    return True\n",
    "            \n",
    "#             if ha == hb and A[i+1:] + A[:i+1] == B:\n",
    "#                 return True\n",
    "\n",
    "        return False\n",
    "\n",
    "# assert RollingHash()._hash('abc') == 123\n",
    "# assert RollingHash()._roll_hash(123, 'a', 10**2) == 231\n",
    "\n",
    "# abc\n",
    "# bca, cab, abc"
   ]
  },
  {
   "cell_type": "code",
   "execution_count": 401,
   "id": "2efe02f3",
   "metadata": {},
   "outputs": [
    {
     "name": "stdout",
     "output_type": "stream",
     "text": [
      "init s_hash: 404473473 p_hash: 473501270\n",
      "_roll_hash prev_hash:404473473 v:c p2:1000000000\n",
      "[0-c] s_hash:44734915 p_hash:473501270\n",
      "_roll_hash prev_hash:44734915 v:l p2:1000000000\n",
      "[1-l] s_hash:447350002 p_hash:473501270\n",
      "_roll_hash prev_hash:447350002 v:r p2:1000000000\n",
      "[2-r] s_hash:473501270 p_hash:473501270\n"
     ]
    },
    {
     "data": {
      "text/plain": [
       "True"
      ]
     },
     "execution_count": 401,
     "metadata": {},
     "output_type": "execute_result"
    }
   ],
   "source": [
    "RollingHash().is_rotate_str(\"clrwmpkwru\", \"wmpkwruclr\")"
   ]
  },
  {
   "cell_type": "code",
   "execution_count": null,
   "id": "11e8a7eb",
   "metadata": {},
   "outputs": [],
   "source": []
  },
  {
   "cell_type": "code",
   "execution_count": null,
   "id": "e266b03c",
   "metadata": {},
   "outputs": [],
   "source": []
  },
  {
   "cell_type": "code",
   "execution_count": 321,
   "id": "42d40f0b",
   "metadata": {},
   "outputs": [],
   "source": [
    "assert RollingHash()._hash('abc') == 123\n",
    "\n",
    "assert RollingHash()._hash('bca') == 231\n",
    "assert RollingHash()._roll_hash(123, 'a', 100) == 231\n",
    "\n",
    "assert RollingHash()._hash('cab') == 312\n",
    "assert RollingHash()._roll_hash(231, 'b', 100) == 312"
   ]
  },
  {
   "cell_type": "code",
   "execution_count": 322,
   "id": "d461462e",
   "metadata": {},
   "outputs": [
    {
     "name": "stdout",
     "output_type": "stream",
     "text": [
      "init s_hash: 123 p_hash: 231\n",
      "[0 a] s_hash:123 p_hash: 231 p2:100 ps: bca p: bca\n",
      "[1 b] s_hash:123 p_hash: 312 p2:100 ps: cab p: bca\n"
     ]
    },
    {
     "data": {
      "text/plain": [
       "False"
      ]
     },
     "execution_count": 322,
     "metadata": {},
     "output_type": "execute_result"
    }
   ],
   "source": [
    "RollingHash().is_rotate_str('abc', 'bca')"
   ]
  },
  {
   "cell_type": "code",
   "execution_count": 326,
   "id": "4669e943",
   "metadata": {},
   "outputs": [
    {
     "data": {
      "text/plain": [
       "(123, 231, 312)"
      ]
     },
     "execution_count": 326,
     "metadata": {},
     "output_type": "execute_result"
    }
   ],
   "source": [
    "'''\n",
    "abc   \n",
    " bca\n",
    "  cab\n",
    "'''\n",
    "\n",
    "RollingHash()._hash('abc'), RollingHash()._hash('bca'), RollingHash()._hash('cab')"
   ]
  },
  {
   "cell_type": "code",
   "execution_count": 283,
   "id": "3db11c6c",
   "metadata": {},
   "outputs": [],
   "source": [
    "# assert RollingHash()._hash('abc') == 123\n",
    "\n",
    "# assert RollingHash()._hash('bca') == 231\n",
    "# assert RollingHash()._roll_hash(123, 'a', 100) == 231\n",
    "\n",
    "# assert RollingHash()._hash('cab') == 312\n",
    "# assert RollingHash()._roll_hash(231, 'b', 100) == 312"
   ]
  },
  {
   "cell_type": "code",
   "execution_count": null,
   "id": "511cc2ac",
   "metadata": {},
   "outputs": [],
   "source": []
  },
  {
   "cell_type": "code",
   "execution_count": 284,
   "id": "4d16eb4e",
   "metadata": {},
   "outputs": [
    {
     "name": "stdout",
     "output_type": "stream",
     "text": [
      "[0 a] s_hash:12997 p_hash: 25765 p2:12769\n",
      "[1 b] s_hash:12997 p_hash: 25653 p2:12769\n",
      "[2 b] s_hash:12997 p_hash: 12997 p2:12769\n"
     ]
    },
    {
     "data": {
      "text/plain": [
       "True"
      ]
     },
     "execution_count": 284,
     "metadata": {},
     "output_type": "execute_result"
    }
   ],
   "source": []
  },
  {
   "cell_type": "code",
   "execution_count": 210,
   "id": "b4dbb478",
   "metadata": {},
   "outputs": [
    {
     "data": {
      "text/plain": [
       "231"
      ]
     },
     "execution_count": 210,
     "metadata": {},
     "output_type": "execute_result"
    }
   ],
   "source": []
  },
  {
   "cell_type": "code",
   "execution_count": null,
   "id": "03b26dbf",
   "metadata": {},
   "outputs": [],
   "source": []
  },
  {
   "cell_type": "code",
   "execution_count": 176,
   "id": "090e0942",
   "metadata": {},
   "outputs": [
    {
     "data": {
      "text/plain": [
       "(1925, 625)"
      ]
     },
     "execution_count": 176,
     "metadata": {},
     "output_type": "execute_result"
    }
   ],
   "source": [
    "RollingHash()._hash('bc')"
   ]
  },
  {
   "cell_type": "code",
   "execution_count": 177,
   "id": "54b8b12a",
   "metadata": {},
   "outputs": [
    {
     "data": {
      "text/plain": [
       "(50, 25)"
      ]
     },
     "execution_count": 177,
     "metadata": {},
     "output_type": "execute_result"
    }
   ],
   "source": [
    "RollingHash()._hash('b')"
   ]
  },
  {
   "cell_type": "code",
   "execution_count": null,
   "id": "44de39c6",
   "metadata": {},
   "outputs": [],
   "source": []
  },
  {
   "cell_type": "code",
   "execution_count": 171,
   "id": "42fcc7f2",
   "metadata": {},
   "outputs": [
    {
     "name": "stdout",
     "output_type": "stream",
     "text": [
      "s_hash: 455050 power: 390625\n",
      "[0 b] s_hash: 440049455 1610650\n",
      "[1 c] s_hash: 577648857 1610650\n",
      "[2 d] s_hash: 863168460 1610650\n",
      "[3 a] s_hash: 554542367 1610650\n"
     ]
    },
    {
     "data": {
      "text/plain": [
       "False"
      ]
     },
     "execution_count": 171,
     "metadata": {},
     "output_type": "execute_result"
    }
   ],
   "source": [
    "RollingHash().has_rotate_str('bcda', 'abcd')"
   ]
  },
  {
   "cell_type": "code",
   "execution_count": 172,
   "id": "613ab216",
   "metadata": {},
   "outputs": [
    {
     "data": {
      "text/plain": [
       "(455050, 390625)"
      ]
     },
     "execution_count": 172,
     "metadata": {},
     "output_type": "execute_result"
    }
   ],
   "source": [
    "RollingHash()._hash('bcda')"
   ]
  },
  {
   "cell_type": "code",
   "execution_count": 173,
   "id": "ce25da99",
   "metadata": {},
   "outputs": [
    {
     "data": {
      "text/plain": [
       "(1610650, 390625)"
      ]
     },
     "execution_count": 173,
     "metadata": {},
     "output_type": "execute_result"
    }
   ],
   "source": [
    "RollingHash()._hash('abcd')"
   ]
  },
  {
   "cell_type": "code",
   "execution_count": 174,
   "id": "c042d80d",
   "metadata": {},
   "outputs": [
    {
     "data": {
      "text/plain": [
       "(64425, 15625)"
      ]
     },
     "execution_count": 174,
     "metadata": {},
     "output_type": "execute_result"
    }
   ],
   "source": [
    "RollingHash()._hash('bcd')"
   ]
  },
  {
   "cell_type": "code",
   "execution_count": null,
   "id": "68383d53",
   "metadata": {},
   "outputs": [],
   "source": []
  },
  {
   "cell_type": "code",
   "execution_count": 147,
   "id": "5692d922",
   "metadata": {},
   "outputs": [
    {
     "data": {
      "text/plain": [
       "1926"
      ]
     },
     "execution_count": 147,
     "metadata": {},
     "output_type": "execute_result"
    }
   ],
   "source": [
    "#'abc'\n",
    "# 1 + 2*25 + 3*25**2\n",
    "RollingHash()._hash('abc')"
   ]
  },
  {
   "cell_type": "code",
   "execution_count": 149,
   "id": "025db2e3",
   "metadata": {},
   "outputs": [
    {
     "data": {
      "text/plain": [
       "1926"
      ]
     },
     "execution_count": 149,
     "metadata": {},
     "output_type": "execute_result"
    }
   ],
   "source": [
    "1 + 2*25 + 3*25**2"
   ]
  },
  {
   "cell_type": "code",
   "execution_count": 151,
   "id": "409d7d6c",
   "metadata": {},
   "outputs": [
    {
     "data": {
      "text/plain": [
       "77"
      ]
     },
     "execution_count": 151,
     "metadata": {},
     "output_type": "execute_result"
    }
   ],
   "source": [
    "RollingHash()._hash('bc')"
   ]
  },
  {
   "cell_type": "code",
   "execution_count": 150,
   "id": "5a8b8fc3",
   "metadata": {},
   "outputs": [
    {
     "data": {
      "text/plain": [
       "1925"
      ]
     },
     "execution_count": 150,
     "metadata": {},
     "output_type": "execute_result"
    }
   ],
   "source": [
    "#'bc'\n",
    "# 2*25 + 3*25**2\n",
    "h = 1926\n",
    "h - (ord('a') - 96)"
   ]
  },
  {
   "cell_type": "code",
   "execution_count": null,
   "id": "5a57f0c5",
   "metadata": {},
   "outputs": [],
   "source": []
  },
  {
   "cell_type": "code",
   "execution_count": 43,
   "id": "6cccbefc",
   "metadata": {},
   "outputs": [],
   "source": [
    "# 'ab' -> 1*1 + 2*25=51\n",
    "\n",
    "#  abc -> 1+2*51+3*25*2=51+676=1926"
   ]
  },
  {
   "cell_type": "code",
   "execution_count": 44,
   "id": "8898ee9e",
   "metadata": {},
   "outputs": [
    {
     "data": {
      "text/plain": [
       "1926"
      ]
     },
     "execution_count": 44,
     "metadata": {},
     "output_type": "execute_result"
    }
   ],
   "source": [
    "3*25**2+51"
   ]
  },
  {
   "cell_type": "code",
   "execution_count": 45,
   "id": "a71e6515",
   "metadata": {},
   "outputs": [
    {
     "data": {
      "text/plain": [
       "25"
      ]
     },
     "execution_count": 45,
     "metadata": {},
     "output_type": "execute_result"
    }
   ],
   "source": [
    "ord('z') - ord('a')"
   ]
  },
  {
   "cell_type": "code",
   "execution_count": 49,
   "id": "04dcb771",
   "metadata": {},
   "outputs": [
    {
     "data": {
      "text/plain": [
       "'z'"
      ]
     },
     "execution_count": 49,
     "metadata": {},
     "output_type": "execute_result"
    }
   ],
   "source": [
    "chr(0+97+25)"
   ]
  },
  {
   "cell_type": "code",
   "execution_count": 121,
   "id": "d1ff93f5",
   "metadata": {},
   "outputs": [
    {
     "data": {
      "text/plain": [
       "625"
      ]
     },
     "execution_count": 121,
     "metadata": {},
     "output_type": "execute_result"
    }
   ],
   "source": [
    "data = []\n",
    "for v in Perm(2).get_permutations():\n",
    "    data.append(RollingHash().hash(v))\n",
    "\n",
    "len(data)"
   ]
  },
  {
   "cell_type": "code",
   "execution_count": 122,
   "id": "3e585e1f",
   "metadata": {},
   "outputs": [
    {
     "data": {
      "text/plain": [
       "[(26, 1),\n",
       " (51, 1),\n",
       " (76, 1),\n",
       " (101, 1),\n",
       " (126, 1),\n",
       " (151, 1),\n",
       " (176, 1),\n",
       " (201, 1),\n",
       " (226, 1),\n",
       " (251, 1),\n",
       " (276, 1),\n",
       " (301, 1),\n",
       " (326, 1),\n",
       " (351, 1),\n",
       " (376, 1),\n",
       " (401, 1),\n",
       " (426, 1),\n",
       " (451, 1),\n",
       " (476, 1),\n",
       " (501, 1)]"
      ]
     },
     "execution_count": 122,
     "metadata": {},
     "output_type": "execute_result"
    }
   ],
   "source": [
    "hash_frq = Counter()\n",
    "for v in data:\n",
    "    frq = hash_frq.get(v, 0)\n",
    "    frq += 1\n",
    "    hash_frq[v] = frq\n",
    "\n",
    "hash_frq.most_common(20)"
   ]
  },
  {
   "cell_type": "code",
   "execution_count": null,
   "id": "bc5c2be1",
   "metadata": {},
   "outputs": [],
   "source": []
  },
  {
   "cell_type": "code",
   "execution_count": 103,
   "id": "693e95a3",
   "metadata": {},
   "outputs": [
    {
     "data": {
      "text/plain": [
       "[<matplotlib.lines.Line2D at 0x7fd664f52050>]"
      ]
     },
     "execution_count": 103,
     "metadata": {},
     "output_type": "execute_result"
    },
    {
     "data": {
      "image/png": "[encoded data removed]",
      "text/plain": [
       "<Figure size 432x288 with 1 Axes>"
      ]
     },
     "metadata": {
      "needs_background": "light"
     },
     "output_type": "display_data"
    }
   ],
   "source": [
    "plt.plot(data)"
   ]
  },
  {
   "cell_type": "code",
   "execution_count": null,
   "id": "6e2f0012",
   "metadata": {},
   "outputs": [],
   "source": []
  },
  {
   "cell_type": "code",
   "execution_count": null,
   "id": "57e61c0f",
   "metadata": {},
   "outputs": [],
   "source": []
  },
  {
   "cell_type": "code",
   "execution_count": null,
   "id": "f34c8aac",
   "metadata": {},
   "outputs": [],
   "source": []
  },
  {
   "cell_type": "code",
   "execution_count": null,
   "id": "f72a37e7",
   "metadata": {},
   "outputs": [],
   "source": []
  },
  {
   "cell_type": "code",
   "execution_count": null,
   "id": "be5b9718",
   "metadata": {},
   "outputs": [],
   "source": []
  },
  {
   "cell_type": "code",
   "execution_count": null,
   "id": "41deeb92",
   "metadata": {},
   "outputs": [],
   "source": []
  },
  {
   "cell_type": "code",
   "execution_count": 89,
   "id": "0aeaa401",
   "metadata": {},
   "outputs": [],
   "source": [
    "import math"
   ]
  },
  {
   "cell_type": "code",
   "execution_count": 99,
   "id": "7633f7bc",
   "metadata": {},
   "outputs": [
    {
     "data": {
      "text/plain": [
       "651.0"
      ]
     },
     "execution_count": 99,
     "metadata": {},
     "output_type": "execute_result"
    }
   ],
   "source": [
    "(25**3 - 1) / 24"
   ]
  },
  {
   "cell_type": "code",
   "execution_count": null,
   "id": "495be1e4",
   "metadata": {},
   "outputs": [],
   "source": []
  },
  {
   "cell_type": "code",
   "execution_count": 95,
   "id": "cdc1865a",
   "metadata": {},
   "outputs": [
    {
     "data": {
      "text/plain": [
       "625"
      ]
     },
     "execution_count": 95,
     "metadata": {},
     "output_type": "execute_result"
    }
   ],
   "source": [
    "class Perm:\n",
    "    \n",
    "    def __init__(self, n: int):\n",
    "        self.n = n\n",
    "        self.res = []\n",
    "    \n",
    "    def is_a_solution(self, a, k) -> bool:\n",
    "        return k >= (self.n - 1)\n",
    "    \n",
    "    def process_solution(self, a, k):\n",
    "        self.res.append(''.join(a[:k+1]))\n",
    "\n",
    "    def construct_candidates(self, a, k):\n",
    "        res = []\n",
    "        for i in range(25):\n",
    "            res.append(chr(ord('a') + i))\n",
    "        return res\n",
    "        \n",
    "    def backtrack(self, a, k):\n",
    "        if self.is_a_solution(a, k):\n",
    "            self.process_solution(a, k)\n",
    "        else:\n",
    "            k += 1\n",
    "            c = self.construct_candidates(a, k)\n",
    "            for cv in c:\n",
    "                a[k] = cv\n",
    "                self.backtrack(a, k)\n",
    "\n",
    "    def get_permutations(self):\n",
    "        a = [None] * self.n\n",
    "        self.backtrack(a, -1)\n",
    "        return self.res\n",
    "                \n",
    "len(Perm(2).get_permutations())"
   ]
  },
  {
   "cell_type": "code",
   "execution_count": null,
   "id": "2c878c31",
   "metadata": {},
   "outputs": [],
   "source": []
  }
 ],
 "metadata": {
  "kernelspec": {
   "display_name": "Python 3 (ipykernel)",
   "language": "python",
   "name": "python3"
  },
  "language_info": {
   "codemirror_mode": {
    "name": "ipython",
    "version": 3
   },
   "file_extension": ".py",
   "mimetype": "text/x-python",
   "name": "python",
   "nbconvert_exporter": "python",
   "pygments_lexer": "ipython3",
   "version": "3.7.11"
  }
 },
 "nbformat": 4,
 "nbformat_minor": 5
}
