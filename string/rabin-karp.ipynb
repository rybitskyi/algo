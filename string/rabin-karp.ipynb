{
 "cells": [
  {
   "cell_type": "markdown",
   "id": "fc32739e",
   "metadata": {},
   "source": [
    "# String Matching with Rabin Karp algorithm"
   ]
  },
  {
   "cell_type": "code",
   "execution_count": 30,
   "id": "4f9fddac",
   "metadata": {},
   "outputs": [],
   "source": [
    "from typing import List"
   ]
  },
  {
   "cell_type": "markdown",
   "id": "1e2f7a65",
   "metadata": {},
   "source": [
    "# Intuition\n",
    "\n",
    "Let's assume there are only numbers from 1 to 10."
   ]
  },
  {
   "cell_type": "code",
   "execution_count": 36,
   "id": "bf64e205",
   "metadata": {},
   "outputs": [],
   "source": [
    "#                |.      |\n",
    "#                31,415\n",
    "#                 14,15  2\n",
    "# 10(31,415-3*10,000) + T[s+m+1]\n",
    "T = [2,3,5,9,0,2,3,1,4,1,5,2,6,7,3,9,9,2,1]\n",
    "P = [3,1,4,1,5]"
   ]
  },
  {
   "cell_type": "code",
   "execution_count": 39,
   "id": "33c4ece3",
   "metadata": {},
   "outputs": [
    {
     "data": {
      "text/plain": [
       "14152"
      ]
     },
     "execution_count": 39,
     "metadata": {},
     "output_type": "execute_result"
    }
   ],
   "source": [
    "(31415-30000)*10+2"
   ]
  },
  {
   "cell_type": "markdown",
   "id": "48b2b37a",
   "metadata": {},
   "source": [
    "## Horner's rule"
   ]
  },
  {
   "cell_type": "code",
   "execution_count": 102,
   "id": "be7ee8ae",
   "metadata": {},
   "outputs": [],
   "source": [
    "def get_horner_hash(arr: List[int], d=10) -> int:\n",
    "    res = arr[0]\n",
    "    \n",
    "    for i in range(1, len(arr)):\n",
    "        res = (res * d) + arr[i]\n",
    "        \n",
    "    return res\n",
    "\n",
    "assert get_horner_hash([3,1,4,1,5]) == 31415"
   ]
  },
  {
   "cell_type": "code",
   "execution_count": 104,
   "id": "5ad4ca87",
   "metadata": {},
   "outputs": [],
   "source": [
    "def get_horner_hash_new_char(prev_hash: int, new_digit: int, d: int = 10) -> int:\n",
    "    '''\n",
    "    Hash Function for the next digit\n",
    "    \n",
    "    prev_hash: 314\n",
    "    new_digit:    1\n",
    "    new_hash : d*(314) + new_ch = 3140 + 1 = 31411\n",
    "    \n",
    "    '''\n",
    "    return d*prev_hash + new_digit\n",
    "\n",
    "assert get_horner_hash_new_char(314, 1)  == 3141\n",
    "assert get_horner_hash_new_char(3141, 5) == 31415"
   ]
  },
  {
   "cell_type": "code",
   "execution_count": 116,
   "id": "02ab1f7c",
   "metadata": {},
   "outputs": [
    {
     "data": {
      "text/plain": [
       "28"
      ]
     },
     "execution_count": 116,
     "metadata": {},
     "output_type": "execute_result"
    }
   ],
   "source": [
    "def get_hash(value: str, d=10, q=13) -> int:\n",
    "    '''\n",
    "    Create hash int from string `v`.\n",
    "    '''\n",
    "    res = 0\n",
    "    for v in map(lambda x: ord(x)-ord('a')+1, value):\n",
    "        res = (res*d) + v\n",
    "    return res % q\n",
    "\n",
    "assert get_hash('a') == 1\n",
    "assert get_hash('b') == 2\n",
    "assert get_hash('ab') == 12\n",
    "get_hash('ab',26,1299637)"
   ]
  },
  {
   "cell_type": "code",
   "execution_count": 106,
   "id": "ef946cd5",
   "metadata": {},
   "outputs": [
    {
     "data": {
      "text/plain": [
       "1"
      ]
     },
     "execution_count": 106,
     "metadata": {},
     "output_type": "execute_result"
    }
   ],
   "source": [
    "ord('b') - ord('a')"
   ]
  },
  {
   "cell_type": "code",
   "execution_count": null,
   "id": "8796b260",
   "metadata": {},
   "outputs": [],
   "source": []
  },
  {
   "cell_type": "code",
   "execution_count": 22,
   "id": "cd506bb1",
   "metadata": {},
   "outputs": [],
   "source": [
    "n = len(T)\n",
    "m = len(P)"
   ]
  },
  {
   "cell_type": "markdown",
   "id": "528c3b8a",
   "metadata": {},
   "source": [
    "## Calculate new hash from previous one"
   ]
  },
  {
   "cell_type": "code",
   "execution_count": 40,
   "id": "e7733f7f",
   "metadata": {},
   "outputs": [],
   "source": [
    "#                |.      |\n",
    "#                31,415\n",
    "#                 14,15  2\n",
    "#  10(31,415-3*10,000) + T[s+m+1]\n",
    "#T = [2,3,5,9,0,2,3,1,4,1,5,2,6,7,3,9,9,2,1]\n",
    "#P = [3,1,4,1,5]"
   ]
  },
  {
   "cell_type": "code",
   "execution_count": 78,
   "id": "ad6a35a8",
   "metadata": {},
   "outputs": [
    {
     "name": "stdout",
     "output_type": "stream",
     "text": [
      "[123, 234, None, None]\n",
      "[123, 234, 345, None]\n",
      "[123, 234, 345, 456]\n"
     ]
    },
    {
     "data": {
      "text/plain": [
       "[123, 234, 345, 456]"
      ]
     },
     "execution_count": 78,
     "metadata": {},
     "output_type": "execute_result"
    }
   ],
   "source": [
    "def calc_hash_arr(T: str, m: int):\n",
    "    '''\n",
    "    d = 10\n",
    "    m = 5\n",
    "    Ts+1 = \n",
    "        d(Ts - d^(m-1)*Ts+1) + # 10 * (31,415 - 10^4*3) # old high order num\n",
    "        T[s+m+1]               # new low order num\n",
    "    '''\n",
    "    n = len(T)\n",
    "    d = 10\n",
    "    h = d ** (m-1)\n",
    "    res = [None] * (n-m+1)\n",
    "    res[0] = calc_value(T[:m])\n",
    "    \n",
    "    for s in range(1, n-m+1):\n",
    "        # s=1\n",
    "        res[s] = d * (res[s-1] - h*T[s-1]) + T[s+m-1]\n",
    "        print(res)\n",
    "    \n",
    "    return res\n",
    "\n",
    "calc_hash_arr([1,2,3,4,5,6], 3)\n",
    "\n",
    "# 10 * (12 - 10*2)  + 3"
   ]
  },
  {
   "cell_type": "code",
   "execution_count": 59,
   "id": "b1ab6560",
   "metadata": {},
   "outputs": [
    {
     "data": {
      "text/plain": [
       "23"
      ]
     },
     "execution_count": 59,
     "metadata": {},
     "output_type": "execute_result"
    }
   ],
   "source": [
    "10 * (12 - 10*1)  + 3"
   ]
  },
  {
   "cell_type": "markdown",
   "id": "779c11c3",
   "metadata": {},
   "source": [
    "## Let's use modulo"
   ]
  },
  {
   "cell_type": "code",
   "execution_count": 83,
   "id": "6f5942da",
   "metadata": {},
   "outputs": [
    {
     "name": "stdout",
     "output_type": "stream",
     "text": [
      "[8, 9, None, None, None, None, None, None, None, None, None, None, None, None, None]\n",
      "[8, 9, 3, None, None, None, None, None, None, None, None, None, None, None, None]\n",
      "[8, 9, 3, 11, None, None, None, None, None, None, None, None, None, None, None]\n",
      "[8, 9, 3, 11, 0, None, None, None, None, None, None, None, None, None, None]\n",
      "[8, 9, 3, 11, 0, 1, None, None, None, None, None, None, None, None, None]\n",
      "[8, 9, 3, 11, 0, 1, 7, None, None, None, None, None, None, None, None]\n",
      "[8, 9, 3, 11, 0, 1, 7, 8, None, None, None, None, None, None, None]\n",
      "[8, 9, 3, 11, 0, 1, 7, 8, 4, None, None, None, None, None, None]\n",
      "[8, 9, 3, 11, 0, 1, 7, 8, 4, 5, None, None, None, None, None]\n",
      "[8, 9, 3, 11, 0, 1, 7, 8, 4, 5, 10, None, None, None, None]\n",
      "[8, 9, 3, 11, 0, 1, 7, 8, 4, 5, 10, 11, None, None, None]\n",
      "[8, 9, 3, 11, 0, 1, 7, 8, 4, 5, 10, 11, 7, None, None]\n",
      "[8, 9, 3, 11, 0, 1, 7, 8, 4, 5, 10, 11, 7, 9, None]\n",
      "[8, 9, 3, 11, 0, 1, 7, 8, 4, 5, 10, 11, 7, 9, 11]\n"
     ]
    },
    {
     "data": {
      "text/plain": [
       "[8, 9, 3, 11, 0, 1, 7, 8, 4, 5, 10, 11, 7, 9, 11]"
      ]
     },
     "execution_count": 83,
     "metadata": {},
     "output_type": "execute_result"
    }
   ],
   "source": [
    "def calc_hash_arr(T: str, m: int, d:int=10, q: int = 13):\n",
    "    '''\n",
    "    d = 10\n",
    "    m = 5\n",
    "    Ts+1 = \n",
    "        d(Ts - d^(m-1)*Ts+1) + # 10 * (31,415 - 10^4*3) # old high order num\n",
    "        T[s+m+1]               # new low order num\n",
    "    '''\n",
    "    n = len(T)\n",
    "    h = d ** (m-1)\n",
    "    res = [None] * (n-m+1)\n",
    "    res[0] = (calc_value(T[:m], d=d)) % q\n",
    "    \n",
    "    for s in range(1, n-m+1):\n",
    "        # s=1\n",
    "        res[s] = (d * (res[s-1] - h*T[s-1]) + T[s+m-1]) % q\n",
    "        print(res)\n",
    "    \n",
    "    return res\n",
    "\n",
    "#calc_hash_arr([1,2,3,4,5,6], 3)\n",
    "calc_hash_arr(T, m=5)"
   ]
  },
  {
   "cell_type": "code",
   "execution_count": 84,
   "id": "7f97f5e4",
   "metadata": {},
   "outputs": [
    {
     "data": {
      "text/plain": [
       "82595524"
      ]
     },
     "execution_count": 84,
     "metadata": {},
     "output_type": "execute_result"
    }
   ],
   "source": [
    "# dq fits in a computer word\n",
    "\n",
    "# d=26\n",
    "int(2147483647/26)"
   ]
  },
  {
   "cell_type": "code",
   "execution_count": 88,
   "id": "755667ce",
   "metadata": {},
   "outputs": [
    {
     "data": {
      "text/plain": [
       "97"
      ]
     },
     "execution_count": 88,
     "metadata": {},
     "output_type": "execute_result"
    }
   ],
   "source": [
    "ord('a')"
   ]
  },
  {
   "cell_type": "code",
   "execution_count": null,
   "id": "3460b71f",
   "metadata": {},
   "outputs": [],
   "source": []
  },
  {
   "cell_type": "code",
   "execution_count": null,
   "id": "7bd771ee",
   "metadata": {},
   "outputs": [],
   "source": [
    "# T=[1,2,3,4]\n",
    "# P=[1,2]\n",
    "# hash = [12,23,34]\n",
    "# n = 4\n",
    "# m = 2\n",
    "# 4-2+1=3"
   ]
  },
  {
   "cell_type": "code",
   "execution_count": null,
   "id": "62059894",
   "metadata": {},
   "outputs": [],
   "source": []
  },
  {
   "cell_type": "code",
   "execution_count": 41,
   "id": "967f780a",
   "metadata": {},
   "outputs": [
    {
     "data": {
      "text/plain": [
       "8"
      ]
     },
     "execution_count": 41,
     "metadata": {},
     "output_type": "execute_result"
    }
   ],
   "source": [
    "14152%13"
   ]
  },
  {
   "cell_type": "code",
   "execution_count": null,
   "id": "41c54616",
   "metadata": {},
   "outputs": [],
   "source": []
  },
  {
   "cell_type": "code",
   "execution_count": 9,
   "id": "86195a97",
   "metadata": {},
   "outputs": [
    {
     "data": {
      "text/plain": [
       "18"
      ]
     },
     "execution_count": 9,
     "metadata": {},
     "output_type": "execute_result"
    }
   ],
   "source": [
    "def hash(val: str) -> int:\n",
    "    res = 0\n",
    "    d = 10\n",
    "    q = 13\n",
    "    for v in val:\n",
    "        res += (d*res + ord(v)) % q\n",
    "    return res\n",
    "\n",
    "hash('abc')"
   ]
  },
  {
   "cell_type": "code",
   "execution_count": null,
   "id": "f50b3319",
   "metadata": {},
   "outputs": [],
   "source": []
  },
  {
   "cell_type": "code",
   "execution_count": 14,
   "id": "b31b4be9",
   "metadata": {},
   "outputs": [
    {
     "data": {
      "text/plain": [
       "2"
      ]
     },
     "execution_count": 14,
     "metadata": {},
     "output_type": "execute_result"
    }
   ],
   "source": [
    "-8 % 5"
   ]
  },
  {
   "cell_type": "code",
   "execution_count": null,
   "id": "fb6cb9f0",
   "metadata": {},
   "outputs": [],
   "source": []
  },
  {
   "cell_type": "code",
   "execution_count": null,
   "id": "b61c1c27",
   "metadata": {},
   "outputs": [],
   "source": []
  },
  {
   "cell_type": "markdown",
   "id": "bcb682ee",
   "metadata": {},
   "source": [
    "# The Large Prime Number"
   ]
  },
  {
   "cell_type": "code",
   "execution_count": 89,
   "id": "6a776db0",
   "metadata": {},
   "outputs": [
    {
     "ename": "AttributeError",
     "evalue": "module 'numpy' has no attribute 'nextprime'",
     "output_type": "error",
     "traceback": [
      "\u001b[0;31m---------------------------------------------------------------------------\u001b[0m",
      "\u001b[0;31mAttributeError\u001b[0m                            Traceback (most recent call last)",
      "\u001b[0;32m/var/folders/y6/9jrm4dc515sftr8wtvl4crrm0000gn/T/ipykernel_33285/3443746641.py\u001b[0m in \u001b[0;36m<module>\u001b[0;34m\u001b[0m\n\u001b[1;32m      6\u001b[0m \u001b[0;32mtry\u001b[0m\u001b[0;34m:\u001b[0m\u001b[0;34m\u001b[0m\u001b[0;34m\u001b[0m\u001b[0m\n\u001b[1;32m      7\u001b[0m     \u001b[0;32mwhile\u001b[0m \u001b[0;32mTrue\u001b[0m\u001b[0;34m:\u001b[0m\u001b[0;34m\u001b[0m\u001b[0;34m\u001b[0m\u001b[0m\n\u001b[0;32m----> 8\u001b[0;31m         \u001b[0mlargest_prime\u001b[0m \u001b[0;34m=\u001b[0m \u001b[0mnp\u001b[0m\u001b[0;34m.\u001b[0m\u001b[0mnextprime\u001b[0m\u001b[0;34m(\u001b[0m\u001b[0mlargest_prime\u001b[0m\u001b[0;34m)\u001b[0m\u001b[0;34m\u001b[0m\u001b[0;34m\u001b[0m\u001b[0m\n\u001b[0m\u001b[1;32m      9\u001b[0m         \u001b[0mi\u001b[0m \u001b[0;34m+=\u001b[0m \u001b[0;36m1\u001b[0m\u001b[0;34m\u001b[0m\u001b[0;34m\u001b[0m\u001b[0m\n\u001b[1;32m     10\u001b[0m \u001b[0;32mexcept\u001b[0m \u001b[0mMemoryError\u001b[0m\u001b[0;34m:\u001b[0m\u001b[0;34m\u001b[0m\u001b[0;34m\u001b[0m\u001b[0m\n",
      "\u001b[0;32m~/opt/miniconda3/envs/p37/lib/python3.7/site-packages/numpy/__init__.py\u001b[0m in \u001b[0;36m__getattr__\u001b[0;34m(attr)\u001b[0m\n\u001b[1;32m    312\u001b[0m \u001b[0;34m\u001b[0m\u001b[0m\n\u001b[1;32m    313\u001b[0m             raise AttributeError(\"module {!r} has no attribute \"\n\u001b[0;32m--> 314\u001b[0;31m                                  \"{!r}\".format(__name__, attr))\n\u001b[0m\u001b[1;32m    315\u001b[0m \u001b[0;34m\u001b[0m\u001b[0m\n\u001b[1;32m    316\u001b[0m         \u001b[0;32mdef\u001b[0m \u001b[0m__dir__\u001b[0m\u001b[0;34m(\u001b[0m\u001b[0;34m)\u001b[0m\u001b[0;34m:\u001b[0m\u001b[0;34m\u001b[0m\u001b[0;34m\u001b[0m\u001b[0m\n",
      "\u001b[0;31mAttributeError\u001b[0m: module 'numpy' has no attribute 'nextprime'"
     ]
    }
   ],
   "source": [
    "import numpy as np\n",
    "\n",
    "largest_prime = 2\n",
    "i = 2\n",
    "\n",
    "try:\n",
    "    while True:\n",
    "        largest_prime = np.nextprime(largest_prime)\n",
    "        i += 1\n",
    "except MemoryError:\n",
    "    print(\"Memory Error occurred after generating\", i, \"prime numbers.\")\n",
    "    print(\"The largest prime number that fit into memory is:\", largest_prime)"
   ]
  },
  {
   "cell_type": "code",
   "execution_count": 91,
   "id": "ce07b47b",
   "metadata": {},
   "outputs": [],
   "source": [
    "from sympy import nextprime"
   ]
  },
  {
   "cell_type": "code",
   "execution_count": 98,
   "id": "e7bb7ccc",
   "metadata": {},
   "outputs": [
    {
     "data": {
      "text/plain": [
       "1299637"
      ]
     },
     "execution_count": 98,
     "metadata": {},
     "output_type": "execute_result"
    }
   ],
   "source": [
    "largest_prime = 2\n",
    "i = 2\n",
    "\n",
    "data = []\n",
    "while i < 100000:\n",
    "    largest_prime = nextprime(largest_prime)\n",
    "    i += 1\n",
    "    data.append(largest_prime)\n",
    "        \n",
    "data[-5]"
   ]
  },
  {
   "cell_type": "code",
   "execution_count": null,
   "id": "8a88a590",
   "metadata": {},
   "outputs": [],
   "source": []
  }
 ],
 "metadata": {
  "kernelspec": {
   "display_name": "Python 3 (ipykernel)",
   "language": "python",
   "name": "python3"
  },
  "language_info": {
   "codemirror_mode": {
    "name": "ipython",
    "version": 3
   },
   "file_extension": ".py",
   "mimetype": "text/x-python",
   "name": "python",
   "nbconvert_exporter": "python",
   "pygments_lexer": "ipython3",
   "version": "3.7.11"
  }
 },
 "nbformat": 4,
 "nbformat_minor": 5
}
