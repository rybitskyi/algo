{
 "cells": [
  {
   "cell_type": "markdown",
   "id": "6e76990c",
   "metadata": {},
   "source": [
    "# Overview\n",
    "\n",
    "https://leetcode.com/problems/climbing-stairs/\n",
    "    \n",
    "You are climbing a staircase. It takes n steps to reach the top.\n",
    "\n",
    "Each time you can either climb 1 or 2 steps. In how many distinct ways can you climb to the top?"
   ]
  },
  {
   "cell_type": "code",
   "execution_count": 11,
   "id": "66740744",
   "metadata": {},
   "outputs": [],
   "source": [
    "class Solution:\n",
    "    \n",
    "    def climb_stairs(self, n: int) -> int:\n",
    "        '''\n",
    "        dp(2) = 2\n",
    "           1+1\n",
    "           2\n",
    "\n",
    "        dp(3) = 3\n",
    "           1+1+1\n",
    "           1+2\n",
    "           2+1\n",
    "           \n",
    "       dp(1) = 1\n",
    "       dp(2) = 2\n",
    "       dp(i) = dp(i-1) + dp(i-2)\n",
    "       dp(3) = dp(2) + dp(1) = 2+1=3\n",
    "       dp(4) = dp(3) + dp(2) = 3+2=5\n",
    "\n",
    "        dp(4) = \n",
    "           1+1+1+1\n",
    "           1+2+1\n",
    "           2+1+1\n",
    "           1+2+1\n",
    "           1+1+2\n",
    "\n",
    "        '''\n",
    "        \n",
    "        def dp(n: int) -> int:\n",
    "            if n == 1:\n",
    "                return 1 # base case\n",
    "            if n == 2:\n",
    "                return 2 # base case\n",
    "            return dp(n-1) + dp(n-2)\n",
    "        \n",
    "        return dp(n)"
   ]
  },
  {
   "cell_type": "code",
   "execution_count": 12,
   "id": "bc4acecf",
   "metadata": {},
   "outputs": [],
   "source": [
    "assert Solution().climb_stairs(1) == 1\n",
    "assert Solution().climb_stairs(2) == 2"
   ]
  },
  {
   "cell_type": "code",
   "execution_count": 13,
   "id": "c9ccba2c",
   "metadata": {},
   "outputs": [
    {
     "data": {
      "text/plain": [
       "89"
      ]
     },
     "execution_count": 13,
     "metadata": {},
     "output_type": "execute_result"
    }
   ],
   "source": [
    "Solution().climb_stairs(10)"
   ]
  }
 ],
 "metadata": {
  "kernelspec": {
   "display_name": "Python 3 (ipykernel)",
   "language": "python",
   "name": "python3"
  },
  "language_info": {
   "codemirror_mode": {
    "name": "ipython",
    "version": 3
   },
   "file_extension": ".py",
   "mimetype": "text/x-python",
   "name": "python",
   "nbconvert_exporter": "python",
   "pygments_lexer": "ipython3",
   "version": "3.7.11"
  }
 },
 "nbformat": 4,
 "nbformat_minor": 5
}
