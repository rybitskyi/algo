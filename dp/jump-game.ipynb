{
 "cells": [
  {
   "cell_type": "markdown",
   "id": "03250bf7",
   "metadata": {},
   "source": [
    "# Overview\n",
    "\n",
    "https://leetcode.com/problems/jump-game/description\n",
    "\n",
    "You are given an integer array nums. You are initially positioned at the array's first index, and each element in the array represents your maximum jump length at that position.\n",
    "\n",
    "Return true if you can reach the last index, or false otherwise.\n",
    "\n",
    " \n",
    "\n",
    "## Example 1:\n",
    "\n",
    "Input: nums = [2,3,1,1,4]\n",
    "Output: true\n",
    "Explanation: Jump 1 step from index 0 to 1, then 3 steps to the last index.\n",
    "\n",
    "\n",
    "## Example 2:\n",
    "\n",
    "Input: nums = [3,2,1,0,4]\n",
    "Output: false\n",
    "Explanation: You will always arrive at index 3 no matter what. Its maximum jump length is 0, which makes it impossible to reach the last index."
   ]
  },
  {
   "cell_type": "code",
   "execution_count": 3,
   "id": "8cceeaf1",
   "metadata": {},
   "outputs": [],
   "source": [
    "from functools import lru_cache\n",
    "from typing import List"
   ]
  },
  {
   "cell_type": "code",
   "execution_count": 12,
   "id": "d43f90b4",
   "metadata": {},
   "outputs": [
    {
     "name": "stdout",
     "output_type": "stream",
     "text": [
      "!! dp(4) -> True\n",
      "!!! dp(3) -> True\n",
      "!!! dp(2) -> True\n",
      "!!! dp(1) -> True\n",
      "!!! dp(0) -> True\n"
     ]
    },
    {
     "data": {
      "text/plain": [
       "True"
      ]
     },
     "execution_count": 12,
     "metadata": {},
     "output_type": "execute_result"
    }
   ],
   "source": [
    "def can_jump(nums: List[int]) -> bool:\n",
    "    '''\n",
    "    State variables:\n",
    "    - i: current position\n",
    "\n",
    "    Recurrence Relation:\n",
    "    - try all possible jumps\n",
    "    '''\n",
    "    n = len(nums)\n",
    "\n",
    "    @lru_cache(None)\n",
    "    def dp(i: int) -> bool:\n",
    "        if i >= n:\n",
    "            print(f\"! dp({i}) -> False\")\n",
    "            return False\n",
    "        if i == (n-1):\n",
    "            print(f\"!! dp({i}) -> True\")\n",
    "            return True\n",
    "\n",
    "        for j in range(nums[i]):\n",
    "            next_i = i + j + 1\n",
    "            if dp(next_i):\n",
    "                print(f\"!!! dp({i}) -> True\")\n",
    "                return True\n",
    "\n",
    "        print(f\"!!! dp({i}) -> False\")\n",
    "        return False\n",
    "\n",
    "    return dp(0)\n",
    "\n",
    "can_jump([3,2,1,1,1])"
   ]
  },
  {
   "cell_type": "code",
   "execution_count": 36,
   "id": "bf7a1a4b",
   "metadata": {},
   "outputs": [
    {
     "name": "stdout",
     "output_type": "stream",
     "text": [
      "[0] -> [True, True, True, True, False]\n",
      "[1] -> [True, True, True, True, False]\n",
      "[2] -> [True, True, True, True, False]\n",
      "[3] -> [True, True, True, True, True]\n",
      "[4] -> [True, True, True, True, True]\n",
      "[True, True, True, True, True]\n"
     ]
    },
    {
     "data": {
      "text/plain": [
       "True"
      ]
     },
     "execution_count": 36,
     "metadata": {},
     "output_type": "execute_result"
    }
   ],
   "source": [
    "def can_jump(nums: List[int]) -> bool:\n",
    "    '''\n",
    "    State variables:\n",
    "    - i: current position\n",
    "\n",
    "    Recurrence Relation:\n",
    "\n",
    "    '''\n",
    "    n = len(nums)\n",
    "    \n",
    "    if n <= 1:\n",
    "        return True\n",
    "\n",
    "    dp = [False] * n\n",
    "    if nums[0] > 0:\n",
    "        dp[0] = True\n",
    "    \n",
    "    for i, v in enumerate(nums):\n",
    "        if dp[i] == False:\n",
    "            return False\n",
    "        for k in range(v):\n",
    "            if i+k+1 >= n:\n",
    "                break\n",
    "            dp[i+k+1] = True\n",
    "            \n",
    "        print(f\"[{i}] -> {dp}\")\n",
    "    print(dp)\n",
    "    return dp[n-1]\n",
    "\n",
    "\n",
    "'''\n",
    "State variables:\n",
    "- i - current position\n",
    "\n",
    "Recurrence Relation\n",
    "\n",
    "# TODO\n",
    "dp[i] = dp[i-1]\n",
    "\n",
    " |\n",
    "[0,2,3]\n",
    "\n",
    "[F,F,F]\n",
    "\n",
    "\n",
    "'''\n",
    "can_jump([3,2,1,1,1])\n",
    "\n",
    "# can_jump([3,2,1,0,4])\n",
    "\n",
    "# can_jump([0])\n",
    "\n",
    "# can_jump([0,2,3])"
   ]
  },
  {
   "cell_type": "code",
   "execution_count": 16,
   "id": "1d95174f",
   "metadata": {},
   "outputs": [],
   "source": [
    "for i in range(0):\n",
    "    print(0)"
   ]
  },
  {
   "cell_type": "code",
   "execution_count": 55,
   "id": "51657825",
   "metadata": {},
   "outputs": [
    {
     "name": "stdout",
     "output_type": "stream",
     "text": [
      "[5] -> 5\n",
      "[4] -> 5\n",
      "[3] -> 5\n",
      "[2] -> 5\n",
      "[1] -> 1\n",
      "[0] -> 0\n"
     ]
    },
    {
     "data": {
      "text/plain": [
       "True"
      ]
     },
     "execution_count": 55,
     "metadata": {},
     "output_type": "execute_result"
    }
   ],
   "source": [
    "def can_jump(nums: List[int]) -> bool:\n",
    "    '''\n",
    "    State variables:\n",
    "    - i: current position\n",
    "\n",
    "    Recurrence Relation:\n",
    "    - try all possible jumps\n",
    "    '''\n",
    "    n = len(nums)\n",
    "    if n <= 1:\n",
    "        return True\n",
    "\n",
    "    good_idx = n-1\n",
    "\n",
    "    for i in reversed(range(n-1)):\n",
    "        v = nums[i]\n",
    "        if i + v >= good_idx:\n",
    "            good_idx = i\n",
    "        print(f\"[{i}] -> {good_idx}\")\n",
    "\n",
    "    return good_idx == 0\n",
    "\n",
    "# assert can_jump([2,3,1,1,4])\n",
    "# assert can_jump([3,2,1,0,4]) == False\n",
    "can_jump([9, 4, 2, 1, 0, 2, 0])"
   ]
  },
  {
   "cell_type": "markdown",
   "id": "610fd718",
   "metadata": {},
   "source": [
    "# Jump Game 2\n",
    "\n",
    "Return the minimum number of jumps to reach nums[n - 1]. \n",
    "\n",
    "The test cases are generated such that you can reach nums[n - 1]."
   ]
  },
  {
   "cell_type": "code",
   "execution_count": 61,
   "id": "fa6ec827",
   "metadata": {},
   "outputs": [
    {
     "name": "stdout",
     "output_type": "stream",
     "text": [
      "[4] -> 4\n",
      "[3] -> 4\n",
      "[2] -> 4\n",
      "[4] -> 3\n",
      "[3] -> 3\n",
      "[4] -> 2\n",
      "[1] -> 2\n",
      "[4] -> 3\n",
      "[3] -> 3\n",
      "[2] -> 3\n",
      "[0] -> 2\n"
     ]
    },
    {
     "data": {
      "text/plain": [
       "2"
      ]
     },
     "execution_count": 61,
     "metadata": {},
     "output_type": "execute_result"
    }
   ],
   "source": [
    "\n",
    "def jump(nums: List[int]) -> int:\n",
    "    '''\n",
    "    State Variables:\n",
    "     - i - current position\n",
    "     - jmp_count - number of jump made so far\n",
    "\n",
    "    '''\n",
    "\n",
    "    n = len(nums)\n",
    "\n",
    "\n",
    "    def dp(i: int, jmp_cnt: int) -> int:\n",
    "        if i == n-1:\n",
    "            print(f\"[{i}] -> {jmp_cnt}\")\n",
    "            return jmp_cnt\n",
    "\n",
    "        if i >= n:\n",
    "            print(f\"[{i}] -> {float('inf')}\")\n",
    "            return float('inf')\n",
    "\n",
    "        values = []\n",
    "        for k in range(nums[i]):\n",
    "            values.append(dp(i+k+1,jmp_cnt+1))\n",
    "\n",
    "        if len(values) > 0:\n",
    "            print(f\"[{i}] -> {min(values)}\")\n",
    "            return min(values)\n",
    "        else:\n",
    "            return 500002\n",
    "\n",
    "    return dp(0, 0)\n",
    "\n",
    "    \n",
    "jump([2,3,1,1,4])"
   ]
  },
  {
   "cell_type": "code",
   "execution_count": 85,
   "id": "b1306fba",
   "metadata": {},
   "outputs": [
    {
     "name": "stdout",
     "output_type": "stream",
     "text": [
      "3 -> [inf, inf, inf, inf, 1]\n",
      "2 -> [inf, inf, inf, inf, 1]\n",
      "1 -> [inf, inf, inf, inf, 1]\n",
      "0 -> [inf, inf, inf, inf, 1]\n"
     ]
    },
    {
     "data": {
      "text/plain": [
       "inf"
      ]
     },
     "execution_count": 85,
     "metadata": {},
     "output_type": "execute_result"
    }
   ],
   "source": [
    "# Bottom Up\n",
    "def jump(nums: List[int]) -> int:\n",
    "    '''\n",
    "    State Variables:\n",
    "     - i - current position\n",
    "     - jmp_count - number of jump made so far\n",
    "\n",
    "    '''\n",
    "\n",
    "    n = len(nums)\n",
    "    dp = [float('inf')] * n\n",
    "    dp[n-1] = 1\n",
    "    \n",
    "    for i in reversed(range(n-1)):\n",
    "        print(f\"{i} -> {dp}\")\n",
    "\n",
    "    return dp[0]\n",
    "\n",
    "'''\n",
    "[2,3,1,1,4]\n",
    " N,N,N,N,1\n",
    "   |       \n",
    " N,N,N,1,1\n",
    " N,N,1,1,1\n",
    " N,1,2,1,1\n",
    " N,1,2,1,1\n",
    "'''\n",
    "\n",
    "jump([2,3,1,1,4])\n",
    "# jump([0])\n"
   ]
  },
  {
   "cell_type": "code",
   "execution_count": null,
   "id": "be12c9a7",
   "metadata": {},
   "outputs": [],
   "source": []
  }
 ],
 "metadata": {
  "kernelspec": {
   "display_name": "Python 3 (ipykernel)",
   "language": "python",
   "name": "python3"
  },
  "language_info": {
   "codemirror_mode": {
    "name": "ipython",
    "version": 3
   },
   "file_extension": ".py",
   "mimetype": "text/x-python",
   "name": "python",
   "nbconvert_exporter": "python",
   "pygments_lexer": "ipython3",
   "version": "3.7.11"
  }
 },
 "nbformat": 4,
 "nbformat_minor": 5
}
