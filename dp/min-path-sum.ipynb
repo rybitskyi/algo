{
 "cells": [
  {
   "cell_type": "markdown",
   "id": "ecfae5c3",
   "metadata": {},
   "source": [
    "# Overview\n",
    "\n",
    "https://leetcode.com/problems/minimum-path-sum/editorial/\n",
    "\n",
    "We have to find the minimum sum of numbers over a path from the top left to the bottom right of the given matrix"
   ]
  },
  {
   "cell_type": "code",
   "execution_count": 7,
   "id": "5d4b0011",
   "metadata": {},
   "outputs": [],
   "source": [
    "import numpy as np\n",
    "\n",
    "from typing import List"
   ]
  },
  {
   "cell_type": "code",
   "execution_count": 66,
   "id": "0cfeace4",
   "metadata": {},
   "outputs": [
    {
     "name": "stdout",
     "output_type": "stream",
     "text": [
      "--- 2 ---\n",
      "[7. 3. 1.]\n",
      "--- 1 ---\n",
      "[8. 7. 2.]\n",
      "--- 0 ---\n",
      "[7. 6. 3.]\n"
     ]
    }
   ],
   "source": [
    "class Solution:\n",
    "    def get_min_path_sum(self, grid: np.array) -> int:\n",
    "        '''\n",
    "        dp[i][j] = dp[i][j] + min(dp[i+1,j], dp[i,j+1])\n",
    "\n",
    "input:\n",
    "        [\n",
    "            [1,3,1],\n",
    "            [1,5,1],\n",
    "            [4,2,1],\n",
    "        ]\n",
    "\n",
    "dp:\n",
    "        [\n",
    "            [7,6,3],\n",
    "            [8,7,2],\n",
    "            [7,3,1],\n",
    "        ]\n",
    "        [\n",
    "            [N,2,1],\n",
    "        ]\n",
    "        '''\n",
    "        m,n = grid.shape\n",
    "        dp = np.zeros(n)\n",
    "        for i in reversed(range(m)):\n",
    "            for j in reversed(range(n)): # column\n",
    "                # dp[i][j] = dp[i][j] + min(dp[i+1][j], dp[i][j+1])\n",
    "#                 print((i,j))\n",
    "                if i < (m-1) and j < (n-1):\n",
    "                    dp[j] = grid[i][j] + min(dp[j], dp[j+1])\n",
    "                elif i == (m-1) and j < (n-1):\n",
    "                    dp[j] = grid[i][j] + dp[j+1]\n",
    "                elif j == (n-1) and i < (m-1):\n",
    "                    dp[j] = grid[i][j] + dp[j]\n",
    "                else:\n",
    "                    dp[j] = grid[i][j]\n",
    "            \n",
    "            print(f\"--- {i} ---\")\n",
    "            print(dp)\n",
    "\n",
    "        return int(dp[0])\n",
    "    \n",
    "    \n",
    "    \n",
    "    \n",
    "res1 = Solution().get_min_path_sum(np.array(\n",
    "    [\n",
    "        [1,3,1],\n",
    "        [1,5,1],\n",
    "        [4,2,1],\n",
    "    ]))\n",
    "assert res1 == 7, f\"{res1} != 7\""
   ]
  },
  {
   "cell_type": "code",
   "execution_count": 73,
   "id": "804d0d40",
   "metadata": {},
   "outputs": [
    {
     "name": "stdout",
     "output_type": "stream",
     "text": [
      "(2,2) -> 1\n",
      "(2,1) -> 3\n",
      "(2,0) -> 7\n",
      "---\n",
      "(1,2) -> 2\n",
      "(1,1) -> 7\n",
      "(1,0) -> 8\n",
      "---\n",
      "(0,2) -> 3\n",
      "(0,1) -> 6\n",
      "(0,0) -> 7\n",
      "---\n"
     ]
    }
   ],
   "source": [
    "class Solution:\n",
    "    def get_min_path_sum(self, grid: np.array) -> int:\n",
    "        '''\n",
    "        dp[i][j] = dp[i][j] + min(dp[i+1,j], dp[i,j+1])\n",
    "\n",
    "input:\n",
    "        [\n",
    "            [1,3,1],\n",
    "            [1,5,1],\n",
    "            [4,2,1],\n",
    "        ]\n",
    "\n",
    "dp:\n",
    "        [\n",
    "            [7,6,3],\n",
    "            [8,7,2],\n",
    "            [7,3,1],\n",
    "        ]\n",
    "        '''\n",
    "        m,n = grid.shape\n",
    "        for i in reversed(range(m)):\n",
    "            for j in reversed(range(n)): # column\n",
    "                # dp[i][j] = dp[i][j] + min(dp[i+1][j], dp[i][j+1])\n",
    "#                 print((i,j))\n",
    "                if i < (m-1) and j < (n-1):\n",
    "                    grid[i][j] = grid[i][j] + min(grid[i+1][j], grid[i][j+1])\n",
    "                elif i == (m-1) and j < (n-1):\n",
    "                    grid[i][j] = grid[i][j] + grid[i][j+1]\n",
    "                elif j == (n-1) and i < (m-1):\n",
    "                    grid[i][j] = grid[i][j] + grid[i+1][j]\n",
    "            \n",
    "                print(f\"({i},{j}) -> {grid[i][j]}\")\n",
    "            \n",
    "            print(f\"---\")\n",
    "\n",
    "        return int(grid[0][0])\n",
    "    \n",
    "    \n",
    "    \n",
    "    \n",
    "res1 = Solution().get_min_path_sum(np.array(\n",
    "    [\n",
    "        [1,3,1],\n",
    "        [1,5,1],\n",
    "        [4,2,1],\n",
    "    ]))\n",
    "assert res1 == 7, f\"{res1} != 7\""
   ]
  },
  {
   "cell_type": "code",
   "execution_count": 46,
   "id": "34d3f4d3",
   "metadata": {},
   "outputs": [
    {
     "name": "stdout",
     "output_type": "stream",
     "text": [
      "3\n"
     ]
    },
    {
     "ename": "AssertionError",
     "evalue": "None != 7",
     "output_type": "error",
     "traceback": [
      "\u001b[0;31m---------------------------------------------------------------------------\u001b[0m",
      "\u001b[0;31mAssertionError\u001b[0m                            Traceback (most recent call last)",
      "\u001b[0;32m/var/folders/y6/9jrm4dc515sftr8wtvl4crrm0000gn/T/ipykernel_93489/3053350696.py\u001b[0m in \u001b[0;36m<module>\u001b[0;34m\u001b[0m\n\u001b[1;32m      5\u001b[0m         \u001b[0;34m[\u001b[0m\u001b[0;36m4\u001b[0m\u001b[0;34m,\u001b[0m\u001b[0;36m2\u001b[0m\u001b[0;34m,\u001b[0m\u001b[0;36m1\u001b[0m\u001b[0;34m]\u001b[0m\u001b[0;34m,\u001b[0m\u001b[0;34m\u001b[0m\u001b[0;34m\u001b[0m\u001b[0m\n\u001b[1;32m      6\u001b[0m     ]))\n\u001b[0;32m----> 7\u001b[0;31m \u001b[0;32massert\u001b[0m \u001b[0mres1\u001b[0m \u001b[0;34m==\u001b[0m \u001b[0;36m7\u001b[0m\u001b[0;34m,\u001b[0m \u001b[0;34mf\"{res1} != 7\"\u001b[0m\u001b[0;34m\u001b[0m\u001b[0;34m\u001b[0m\u001b[0m\n\u001b[0m",
      "\u001b[0;31mAssertionError\u001b[0m: None != 7"
     ]
    }
   ],
   "source": [
    "\n"
   ]
  },
  {
   "cell_type": "code",
   "execution_count": null,
   "id": "736e038c",
   "metadata": {},
   "outputs": [],
   "source": []
  }
 ],
 "metadata": {
  "kernelspec": {
   "display_name": "Python 3 (ipykernel)",
   "language": "python",
   "name": "python3"
  },
  "language_info": {
   "codemirror_mode": {
    "name": "ipython",
    "version": 3
   },
   "file_extension": ".py",
   "mimetype": "text/x-python",
   "name": "python",
   "nbconvert_exporter": "python",
   "pygments_lexer": "ipython3",
   "version": "3.7.11"
  }
 },
 "nbformat": 4,
 "nbformat_minor": 5
}
