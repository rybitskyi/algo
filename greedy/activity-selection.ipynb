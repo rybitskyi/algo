{
 "cells": [
  {
   "cell_type": "markdown",
   "id": "ba0fec3b",
   "metadata": {},
   "source": [
    "# Overview\n",
    "An activity-selection problem\n",
    "CLRS 15-1\n",
    "\n",
    "Given n proposed activities that wish to reserve a conference room.\n",
    "Assume that the activities are sorted in monotonically increasing order of fishish times.\n",
    "In the activity-selection problem, the goal is to select a maximum-size subset of mutually compatible activies."
   ]
  },
  {
   "cell_type": "code",
   "execution_count": 28,
   "id": "9cfee962",
   "metadata": {},
   "outputs": [
    {
     "data": {
      "text/plain": [
       "[[1, 4],\n",
       " [3, 5],\n",
       " [0, 6],\n",
       " [5, 7],\n",
       " [3, 9],\n",
       " [5, 9],\n",
       " [6, 10],\n",
       " [7, 11],\n",
       " [8, 12],\n",
       " [2, 14],\n",
       " [12, 14]]"
      ]
     },
     "execution_count": 28,
     "metadata": {},
     "output_type": "execute_result"
    }
   ],
   "source": [
    "# Start time / end time\n",
    "activities = [\n",
    "    [1, 4],\n",
    "    [3, 5],\n",
    "    [0, 6],\n",
    "    [5, 7],\n",
    "    [3, 9],\n",
    "    [5, 9],\n",
    "    [6, 10],\n",
    "    [7, 11],\n",
    "    [8, 12],\n",
    "    [2, 14],\n",
    "    [12,14],\n",
    "]\n",
    "activities"
   ]
  },
  {
   "cell_type": "code",
   "execution_count": 31,
   "id": "523906a7",
   "metadata": {},
   "outputs": [],
   "source": [
    "def get_max_compatible_activities(activities) -> int:\n",
    "    '''\n",
    "    Returns the maximum-sized subset of mutually compatible activities.\n",
    "    Input: activities with two columns: start and finish times. Input is already sorted in descending order by finish times.\n",
    "    '''\n",
    "    '''\n",
    "    Algorithm:\n",
    "    - Greedy Algorithm\n",
    "    - All activities are already sorted by `finish` times.\n",
    "    - every time prefer activity with has the less finish time\n",
    "        - if there are more than two activities with the same finish times, choose any\n",
    "    - The next activity should be started after the previous one was finished    \n",
    "    '''\n",
    "    \n",
    "    res = [activities[0]]\n",
    "    cur_start = res[0][0]\n",
    "    cur_end = res[0][1]\n",
    "\n",
    "    for act in activities:\n",
    "        if act[0] >= cur_end:\n",
    "            cur_start = act[0]\n",
    "            cur_end   = act[1]\n",
    "            res.append(act)\n",
    "    \n",
    "    return res\n",
    "        "
   ]
  },
  {
   "cell_type": "code",
   "execution_count": 33,
   "id": "44344888",
   "metadata": {},
   "outputs": [],
   "source": [
    "assert get_max_compatible_activities(activities) == [[1, 4], [5, 7], [7, 11], [12, 14]]"
   ]
  }
 ],
 "metadata": {
  "kernelspec": {
   "display_name": "Python 3 (ipykernel)",
   "language": "python",
   "name": "python3"
  },
  "language_info": {
   "codemirror_mode": {
    "name": "ipython",
    "version": 3
   },
   "file_extension": ".py",
   "mimetype": "text/x-python",
   "name": "python",
   "nbconvert_exporter": "python",
   "pygments_lexer": "ipython3",
   "version": "3.7.11"
  }
 },
 "nbformat": 4,
 "nbformat_minor": 5
}
